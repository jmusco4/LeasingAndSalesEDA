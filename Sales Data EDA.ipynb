{
 "cells":[
  {
   "cell_type":"markdown",
   "source":[
    "# Leasing Data"
   ],
   "attachments":{
    
   },
   "metadata":{
    "datalore":{
     "type":"MD",
     "hide_input_from_viewers":false,
     "hide_output_from_viewers":false,
     "sheet_delimiter":true
    }
   }
  },
  {
   "cell_type":"markdown",
   "source":[
    "# Leasing Data Analysis\n",
    "\n",
    "In this worksheet we will be working with the file *LeasingData2.csv*. The purpose of the Leasing Data report is to provide information on all applicants who are current or future residents, meaning, you must have signed a lease to appear in this report. \n",
    "Therefore, using this report we can gather data such as conversion rates, rent sales, leasing velocity, and much more.\n",
    "\n",
    "This file contains data on 13,559 resident leases."
   ],
   "attachments":{
    
   },
   "metadata":{
    "datalore":{
     "type":"MD",
     "hide_input_from_viewers":false,
     "hide_output_from_viewers":false,
     "node_id":"IZsaKOarG51xg2uLpL6AuC"
    }
   }
  },
  {
   "cell_type":"code",
   "source":[
    "import pandas as pd\n",
    "import numpy as np\n",
    "import seaborn as sns\n",
    "from datetime import datetime\n",
    "import math\n",
    "import matplotlib.pyplot as plt\n",
    "from scipy.stats import norm\n",
    "import openpyxl"
   ],
   "execution_count":3,
   "outputs":[
    
   ],
   "metadata":{
    "datalore":{
     "type":"CODE",
     "hide_input_from_viewers":false,
     "hide_output_from_viewers":false,
     "node_id":"k2SxskSE1GPRNLROwKErkA"
    }
   }
  },
  {
   "cell_type":"code",
   "source":[
    "leasing_df = pd.read_csv(\"LeasingData2.csv\", parse_dates=[\"Lease - Partially Completed\",\"Lease - Approved\",\"Lease - Started\",\"Lease - Completed\",\"Lease Start\",\"Lease End\"])\n",
    "leasing_df.drop(columns=[\"Resident\", \"Email\", \"Phone Number\"])"
   ],
   "execution_count":4,
   "outputs":[
    {
     "data":{
      "text\/html":[
       "<div>\n",
       "<style scoped>\n",
       "    .dataframe tbody tr th:only-of-type {\n",
       "        vertical-align: middle;\n",
       "    }\n",
       "\n",
       "    .dataframe tbody tr th {\n",
       "        vertical-align: top;\n",
       "    }\n",
       "\n",
       "    .dataframe thead th {\n",
       "        text-align: right;\n",
       "    }\n",
       "<\/style>\n",
       "<table border=\"1\" class=\"dataframe\">\n",
       "  <thead>\n",
       "    <tr style=\"text-align: right;\">\n",
       "      <th><\/th>\n",
       "      <th>Property<\/th>\n",
       "      <th>Unit Type<\/th>\n",
       "      <th>Unit Status<\/th>\n",
       "      <th>Gender<\/th>\n",
       "      <th>Lease Status<\/th>\n",
       "      <th>Lease Term Name<\/th>\n",
       "      <th>Lease Term<\/th>\n",
       "      <th>Lease Start<\/th>\n",
       "      <th>Lease End<\/th>\n",
       "      <th>Lease - Started<\/th>\n",
       "      <th>Lease - Partially Completed<\/th>\n",
       "      <th>Lease - Completed<\/th>\n",
       "      <th>Lease - Approved<\/th>\n",
       "      <th>Deposit Charged<\/th>\n",
       "      <th>Budgeted Rent<\/th>\n",
       "      <th>Scheduled Charges<\/th>\n",
       "      <th>Posted Charges<\/th>\n",
       "    <\/tr>\n",
       "  <\/thead>\n",
       "  <tbody>\n",
       "    <tr>\n",
       "      <th>0<\/th>\n",
       "      <td>Sunny Villages<\/td>\n",
       "      <td>3x3<\/td>\n",
       "      <td>Notice Rented<\/td>\n",
       "      <td>Male<\/td>\n",
       "      <td>Renewal Lease Approved<\/td>\n",
       "      <td>08\/01\/2022 - 07\/31\/2023 (08\/01\/2022-07\/31\/2023)<\/td>\n",
       "      <td>12<\/td>\n",
       "      <td>2022-08-01<\/td>\n",
       "      <td>2023-07-31<\/td>\n",
       "      <td>2022-04-12<\/td>\n",
       "      <td>2022-04-12<\/td>\n",
       "      <td>2022-04-12<\/td>\n",
       "      <td>2022-04-12<\/td>\n",
       "      <td>0.00<\/td>\n",
       "      <td>685.0<\/td>\n",
       "      <td>746.00<\/td>\n",
       "      <td>0<\/td>\n",
       "    <\/tr>\n",
       "    <tr>\n",
       "      <th>1<\/th>\n",
       "      <td>Sunny Villages<\/td>\n",
       "      <td>3x3<\/td>\n",
       "      <td>Notice Rented<\/td>\n",
       "      <td>Female<\/td>\n",
       "      <td>Lease Approved<\/td>\n",
       "      <td>08\/18\/2022 - 07\/31\/2023 (Future New Leases) (0...<\/td>\n",
       "      <td>12<\/td>\n",
       "      <td>2022-08-18<\/td>\n",
       "      <td>2023-07-31<\/td>\n",
       "      <td>2022-04-05<\/td>\n",
       "      <td>2022-04-12<\/td>\n",
       "      <td>2022-04-12<\/td>\n",
       "      <td>2022-04-12<\/td>\n",
       "      <td>0.00<\/td>\n",
       "      <td>680.0<\/td>\n",
       "      <td>746.00<\/td>\n",
       "      <td>0<\/td>\n",
       "    <\/tr>\n",
       "    <tr>\n",
       "      <th>2<\/th>\n",
       "      <td>Sunny Villages<\/td>\n",
       "      <td>3x3<\/td>\n",
       "      <td>Notice Rented<\/td>\n",
       "      <td>Male<\/td>\n",
       "      <td>Renewal Lease Approved<\/td>\n",
       "      <td>08\/01\/2022 - 07\/31\/2023 (08\/01\/2022-07\/31\/2023)<\/td>\n",
       "      <td>12<\/td>\n",
       "      <td>2022-08-01<\/td>\n",
       "      <td>2023-07-31<\/td>\n",
       "      <td>2022-04-12<\/td>\n",
       "      <td>2022-04-14<\/td>\n",
       "      <td>2022-05-06<\/td>\n",
       "      <td>2022-05-09<\/td>\n",
       "      <td>0.00<\/td>\n",
       "      <td>680.0<\/td>\n",
       "      <td>756.00<\/td>\n",
       "      <td>0<\/td>\n",
       "    <\/tr>\n",
       "    <tr>\n",
       "      <th>3<\/th>\n",
       "      <td>Sunny Villages<\/td>\n",
       "      <td>3x3<\/td>\n",
       "      <td>Notice Rented<\/td>\n",
       "      <td>Female<\/td>\n",
       "      <td>Renewal Lease Approved<\/td>\n",
       "      <td>08\/18\/2022 - 07\/31\/2023 (Future New Leases) (0...<\/td>\n",
       "      <td>12<\/td>\n",
       "      <td>2022-08-01<\/td>\n",
       "      <td>2023-07-31<\/td>\n",
       "      <td>2021-11-06<\/td>\n",
       "      <td>2021-11-06<\/td>\n",
       "      <td>2021-11-06<\/td>\n",
       "      <td>2021-11-08<\/td>\n",
       "      <td>0.00<\/td>\n",
       "      <td>685.0<\/td>\n",
       "      <td>716.00<\/td>\n",
       "      <td>0<\/td>\n",
       "    <\/tr>\n",
       "    <tr>\n",
       "      <th>4<\/th>\n",
       "      <td>Sunny Villages<\/td>\n",
       "      <td>3x3<\/td>\n",
       "      <td>Notice Rented<\/td>\n",
       "      <td>Female<\/td>\n",
       "      <td>Lease Approved<\/td>\n",
       "      <td>08\/18\/2022 - 07\/31\/2023 (Future New Leases) (0...<\/td>\n",
       "      <td>12<\/td>\n",
       "      <td>2022-08-18<\/td>\n",
       "      <td>2023-07-31<\/td>\n",
       "      <td>2021-11-07<\/td>\n",
       "      <td>2021-11-09<\/td>\n",
       "      <td>2021-12-01<\/td>\n",
       "      <td>2021-12-01<\/td>\n",
       "      <td>0.00<\/td>\n",
       "      <td>680.0<\/td>\n",
       "      <td>716.00<\/td>\n",
       "      <td>0<\/td>\n",
       "    <\/tr>\n",
       "    <tr>\n",
       "      <th>...<\/th>\n",
       "      <td>...<\/td>\n",
       "      <td>...<\/td>\n",
       "      <td>...<\/td>\n",
       "      <td>...<\/td>\n",
       "      <td>...<\/td>\n",
       "      <td>...<\/td>\n",
       "      <td>...<\/td>\n",
       "      <td>...<\/td>\n",
       "      <td>...<\/td>\n",
       "      <td>...<\/td>\n",
       "      <td>...<\/td>\n",
       "      <td>...<\/td>\n",
       "      <td>...<\/td>\n",
       "      <td>...<\/td>\n",
       "      <td>...<\/td>\n",
       "      <td>...<\/td>\n",
       "      <td>...<\/td>\n",
       "    <\/tr>\n",
       "    <tr>\n",
       "      <th>13554<\/th>\n",
       "      <td>Village Road<\/td>\n",
       "      <td>Studio F<\/td>\n",
       "      <td>Occupied No Notice<\/td>\n",
       "      <td>NaN<\/td>\n",
       "      <td>Lease Approved<\/td>\n",
       "      <td>12 months<\/td>\n",
       "      <td>12<\/td>\n",
       "      <td>2022-04-18<\/td>\n",
       "      <td>2023-04-17<\/td>\n",
       "      <td>2022-03-15<\/td>\n",
       "      <td>2022-03-16<\/td>\n",
       "      <td>2022-03-16<\/td>\n",
       "      <td>2022-03-16<\/td>\n",
       "      <td>99.00<\/td>\n",
       "      <td>1425.0<\/td>\n",
       "      <td>1327.38<\/td>\n",
       "      <td>1,905.98<\/td>\n",
       "    <\/tr>\n",
       "    <tr>\n",
       "      <th>13555<\/th>\n",
       "      <td>Village Road<\/td>\n",
       "      <td>Studio F<\/td>\n",
       "      <td>Occupied No Notice<\/td>\n",
       "      <td>Male<\/td>\n",
       "      <td>Renewal Lease Completed<\/td>\n",
       "      <td>12 months<\/td>\n",
       "      <td>12<\/td>\n",
       "      <td>2022-06-25<\/td>\n",
       "      <td>2023-06-24<\/td>\n",
       "      <td>2022-04-27<\/td>\n",
       "      <td>2022-04-29<\/td>\n",
       "      <td>2022-04-29<\/td>\n",
       "      <td>NaT<\/td>\n",
       "      <td>1602.56<\/td>\n",
       "      <td>1425.0<\/td>\n",
       "      <td>1230.77<\/td>\n",
       "      <td>0<\/td>\n",
       "    <\/tr>\n",
       "    <tr>\n",
       "      <th>13556<\/th>\n",
       "      <td>Village Road<\/td>\n",
       "      <td>Studio F<\/td>\n",
       "      <td>Vacant Rented Ready<\/td>\n",
       "      <td>NaN<\/td>\n",
       "      <td>Lease Approved<\/td>\n",
       "      <td>12 months<\/td>\n",
       "      <td>12<\/td>\n",
       "      <td>2022-06-07<\/td>\n",
       "      <td>2023-06-06<\/td>\n",
       "      <td>2022-05-02<\/td>\n",
       "      <td>2022-05-03<\/td>\n",
       "      <td>2022-05-03<\/td>\n",
       "      <td>2022-05-03<\/td>\n",
       "      <td>500.00<\/td>\n",
       "      <td>1425.0<\/td>\n",
       "      <td>1374.00<\/td>\n",
       "      <td>0<\/td>\n",
       "    <\/tr>\n",
       "    <tr>\n",
       "      <th>13557<\/th>\n",
       "      <td>Village Road<\/td>\n",
       "      <td>Studio F<\/td>\n",
       "      <td>Occupied No Notice<\/td>\n",
       "      <td>NaN<\/td>\n",
       "      <td>Lease Approved<\/td>\n",
       "      <td>12 months<\/td>\n",
       "      <td>12<\/td>\n",
       "      <td>2021-10-22<\/td>\n",
       "      <td>2022-10-21<\/td>\n",
       "      <td>2021-10-19<\/td>\n",
       "      <td>2021-10-19<\/td>\n",
       "      <td>2021-09-22<\/td>\n",
       "      <td>2021-10-20<\/td>\n",
       "      <td>500.00<\/td>\n",
       "      <td>1425.0<\/td>\n",
       "      <td>1205.77<\/td>\n",
       "      <td>9,031.26<\/td>\n",
       "    <\/tr>\n",
       "    <tr>\n",
       "      <th>13558<\/th>\n",
       "      <td>Village Road<\/td>\n",
       "      <td>Studio F<\/td>\n",
       "      <td>Occupied No Notice<\/td>\n",
       "      <td>Female<\/td>\n",
       "      <td>Month to Month<\/td>\n",
       "      <td>12 months<\/td>\n",
       "      <td>1<\/td>\n",
       "      <td>2022-05-28<\/td>\n",
       "      <td>2023-05-27<\/td>\n",
       "      <td>2022-02-02<\/td>\n",
       "      <td>2022-05-26<\/td>\n",
       "      <td>2022-05-26<\/td>\n",
       "      <td>NaT<\/td>\n",
       "      <td>399.00<\/td>\n",
       "      <td>1473.0<\/td>\n",
       "      <td>1328.38<\/td>\n",
       "      <td>0<\/td>\n",
       "    <\/tr>\n",
       "  <\/tbody>\n",
       "<\/table>\n",
       "<p>13559 rows × 17 columns<\/p>\n",
       "<\/div>"
      ]
     },
     "metadata":{
      
     },
     "output_type":"display_data"
    }
   ],
   "metadata":{
    "datalore":{
     "type":"CODE",
     "hide_input_from_viewers":false,
     "hide_output_from_viewers":false,
     "node_id":"EkjA6VZZ0BLvyRrMhk69Fs"
    }
   }
  },
  {
   "cell_type":"code",
   "source":[
    "leasing_df.head(5)"
   ],
   "execution_count":5,
   "outputs":[
    {
     "data":{
      "text\/html":[
       "<div>\n",
       "<style scoped>\n",
       "    .dataframe tbody tr th:only-of-type {\n",
       "        vertical-align: middle;\n",
       "    }\n",
       "\n",
       "    .dataframe tbody tr th {\n",
       "        vertical-align: top;\n",
       "    }\n",
       "\n",
       "    .dataframe thead th {\n",
       "        text-align: right;\n",
       "    }\n",
       "<\/style>\n",
       "<table border=\"1\" class=\"dataframe\">\n",
       "  <thead>\n",
       "    <tr style=\"text-align: right;\">\n",
       "      <th><\/th>\n",
       "      <th>Property<\/th>\n",
       "      <th>Unit Type<\/th>\n",
       "      <th>Unit Status<\/th>\n",
       "      <th>Resident<\/th>\n",
       "      <th>Email<\/th>\n",
       "      <th>Phone Number<\/th>\n",
       "      <th>Gender<\/th>\n",
       "      <th>Lease Status<\/th>\n",
       "      <th>Lease Term Name<\/th>\n",
       "      <th>Lease Term<\/th>\n",
       "      <th>Lease Start<\/th>\n",
       "      <th>Lease End<\/th>\n",
       "      <th>Lease - Started<\/th>\n",
       "      <th>Lease - Partially Completed<\/th>\n",
       "      <th>Lease - Completed<\/th>\n",
       "      <th>Lease - Approved<\/th>\n",
       "      <th>Deposit Charged<\/th>\n",
       "      <th>Budgeted Rent<\/th>\n",
       "      <th>Scheduled Charges<\/th>\n",
       "      <th>Posted Charges<\/th>\n",
       "    <\/tr>\n",
       "  <\/thead>\n",
       "  <tbody>\n",
       "    <tr>\n",
       "      <th>0<\/th>\n",
       "      <td>Sunny Villages<\/td>\n",
       "      <td>3x3<\/td>\n",
       "      <td>Notice Rented<\/td>\n",
       "      <td>Walker, Paul<\/td>\n",
       "      <td>phw@mail.usf.edu<\/td>\n",
       "      <td>(239) 233-2025<\/td>\n",
       "      <td>Male<\/td>\n",
       "      <td>Renewal Lease Approved<\/td>\n",
       "      <td>08\/01\/2022 - 07\/31\/2023 (08\/01\/2022-07\/31\/2023)<\/td>\n",
       "      <td>12<\/td>\n",
       "      <td>2022-08-01<\/td>\n",
       "      <td>2023-07-31<\/td>\n",
       "      <td>2022-04-12<\/td>\n",
       "      <td>2022-04-12<\/td>\n",
       "      <td>2022-04-12<\/td>\n",
       "      <td>2022-04-12<\/td>\n",
       "      <td>0.0<\/td>\n",
       "      <td>685.0<\/td>\n",
       "      <td>746.0<\/td>\n",
       "      <td>0<\/td>\n",
       "    <\/tr>\n",
       "    <tr>\n",
       "      <th>1<\/th>\n",
       "      <td>Sunny Villages<\/td>\n",
       "      <td>3x3<\/td>\n",
       "      <td>Notice Rented<\/td>\n",
       "      <td>Lopes de Paulo, Julia<\/td>\n",
       "      <td>juliamuria14@gmail.com<\/td>\n",
       "      <td>(813) 607-1469<\/td>\n",
       "      <td>Female<\/td>\n",
       "      <td>Lease Approved<\/td>\n",
       "      <td>08\/18\/2022 - 07\/31\/2023 (Future New Leases) (0...<\/td>\n",
       "      <td>12<\/td>\n",
       "      <td>2022-08-18<\/td>\n",
       "      <td>2023-07-31<\/td>\n",
       "      <td>2022-04-05<\/td>\n",
       "      <td>2022-04-12<\/td>\n",
       "      <td>2022-04-12<\/td>\n",
       "      <td>2022-04-12<\/td>\n",
       "      <td>0.0<\/td>\n",
       "      <td>680.0<\/td>\n",
       "      <td>746.0<\/td>\n",
       "      <td>0<\/td>\n",
       "    <\/tr>\n",
       "    <tr>\n",
       "      <th>2<\/th>\n",
       "      <td>Sunny Villages<\/td>\n",
       "      <td>3x3<\/td>\n",
       "      <td>Notice Rented<\/td>\n",
       "      <td>Roock, Edward<\/td>\n",
       "      <td>eddieroock@gmail.com<\/td>\n",
       "      <td>(239) 240-3382<\/td>\n",
       "      <td>Male<\/td>\n",
       "      <td>Renewal Lease Approved<\/td>\n",
       "      <td>08\/01\/2022 - 07\/31\/2023 (08\/01\/2022-07\/31\/2023)<\/td>\n",
       "      <td>12<\/td>\n",
       "      <td>2022-08-01<\/td>\n",
       "      <td>2023-07-31<\/td>\n",
       "      <td>2022-04-12<\/td>\n",
       "      <td>2022-04-14<\/td>\n",
       "      <td>2022-05-06<\/td>\n",
       "      <td>2022-05-09<\/td>\n",
       "      <td>0.0<\/td>\n",
       "      <td>680.0<\/td>\n",
       "      <td>756.0<\/td>\n",
       "      <td>0<\/td>\n",
       "    <\/tr>\n",
       "    <tr>\n",
       "      <th>3<\/th>\n",
       "      <td>Sunny Villages<\/td>\n",
       "      <td>3x3<\/td>\n",
       "      <td>Notice Rented<\/td>\n",
       "      <td>Dandreano, Michkayla<\/td>\n",
       "      <td>mcr.raeann@icloud.com<\/td>\n",
       "      <td>(352) 216-9693<\/td>\n",
       "      <td>Female<\/td>\n",
       "      <td>Renewal Lease Approved<\/td>\n",
       "      <td>08\/18\/2022 - 07\/31\/2023 (Future New Leases) (0...<\/td>\n",
       "      <td>12<\/td>\n",
       "      <td>2022-08-01<\/td>\n",
       "      <td>2023-07-31<\/td>\n",
       "      <td>2021-11-06<\/td>\n",
       "      <td>2021-11-06<\/td>\n",
       "      <td>2021-11-06<\/td>\n",
       "      <td>2021-11-08<\/td>\n",
       "      <td>0.0<\/td>\n",
       "      <td>685.0<\/td>\n",
       "      <td>716.0<\/td>\n",
       "      <td>0<\/td>\n",
       "    <\/tr>\n",
       "    <tr>\n",
       "      <th>4<\/th>\n",
       "      <td>Sunny Villages<\/td>\n",
       "      <td>3x3<\/td>\n",
       "      <td>Notice Rented<\/td>\n",
       "      <td>Caballero-Castro, Jennifer<\/td>\n",
       "      <td>jennifercaballero94@gmail.com<\/td>\n",
       "      <td>(813) 531-5534<\/td>\n",
       "      <td>Female<\/td>\n",
       "      <td>Lease Approved<\/td>\n",
       "      <td>08\/18\/2022 - 07\/31\/2023 (Future New Leases) (0...<\/td>\n",
       "      <td>12<\/td>\n",
       "      <td>2022-08-18<\/td>\n",
       "      <td>2023-07-31<\/td>\n",
       "      <td>2021-11-07<\/td>\n",
       "      <td>2021-11-09<\/td>\n",
       "      <td>2021-12-01<\/td>\n",
       "      <td>2021-12-01<\/td>\n",
       "      <td>0.0<\/td>\n",
       "      <td>680.0<\/td>\n",
       "      <td>716.0<\/td>\n",
       "      <td>0<\/td>\n",
       "    <\/tr>\n",
       "  <\/tbody>\n",
       "<\/table>\n",
       "<\/div>"
      ]
     },
     "metadata":{
      
     },
     "output_type":"display_data"
    }
   ],
   "metadata":{
    "datalore":{
     "type":"CODE",
     "hide_input_from_viewers":false,
     "hide_output_from_viewers":false,
     "node_id":"1qO22B8c81GitWmt8Qozi8"
    }
   }
  },
  {
   "cell_type":"code",
   "source":[
    "# Print Dataframe shape (# of Rows, # of Columns)\n",
    "\n",
    "leasing_df.shape"
   ],
   "execution_count":6,
   "outputs":[
    {
     "data":{
      "text\/plain":[
       "(13559, 20)"
      ]
     },
     "metadata":{
      
     },
     "output_type":"display_data"
    }
   ],
   "metadata":{
    "datalore":{
     "type":"CODE",
     "hide_input_from_viewers":false,
     "hide_output_from_viewers":false,
     "node_id":"uQwClVgARFWYKdxl94WzbK"
    }
   }
  },
  {
   "cell_type":"code",
   "source":[
    "# Get complete summary of DataFrame\n",
    "\n",
    "leasing_df.info()"
   ],
   "execution_count":7,
   "outputs":[
    {
     "name":"stdout",
     "text":[
      "<class 'pandas.core.frame.DataFrame'>\n",
      "RangeIndex: 13559 entries, 0 to 13558\n",
      "Data columns (total 20 columns):\n",
      " #   Column                       Non-Null Count  Dtype         \n",
      "---  ------                       --------------  -----         \n",
      " 0   Property                     13559 non-null  object        \n",
      " 1   Unit Type                    13559 non-null  object        \n",
      " 2   Unit Status                  9467 non-null   object        \n",
      " 3   Resident                     13559 non-null  object        \n",
      " 4   Email                        13556 non-null  object        \n",
      " 5   Phone Number                 13552 non-null  object        \n",
      " 6   Gender                       12764 non-null  object        \n",
      " 7   Lease Status                 13559 non-null  object        \n",
      " 8   Lease Term Name              13559 non-null  object        \n",
      " 9   Lease Term                   13559 non-null  int64         \n",
      " 10  Lease Start                  13559 non-null  datetime64[ns]\n",
      " 11  Lease End                    13559 non-null  datetime64[ns]\n",
      " 12  Lease - Started              13559 non-null  datetime64[ns]\n",
      " 13  Lease - Partially Completed  13558 non-null  datetime64[ns]\n",
      " 14  Lease - Completed            13380 non-null  datetime64[ns]\n",
      " 15  Lease - Approved             13100 non-null  datetime64[ns]\n",
      " 16  Deposit Charged              13559 non-null  float64       \n",
      " 17  Budgeted Rent                13559 non-null  float64       \n",
      " 18  Scheduled Charges            13559 non-null  float64       \n",
      " 19  Posted Charges               13559 non-null  object        \n",
      "dtypes: datetime64[ns](6), float64(3), int64(1), object(10)\n",
      "memory usage: 2.1+ MB\n"
     ],
     "output_type":"stream"
    }
   ],
   "metadata":{
    "datalore":{
     "type":"CODE",
     "hide_input_from_viewers":false,
     "hide_output_from_viewers":false,
     "node_id":"GpelbtlGmoboVym8AaiaJ6"
    }
   }
  },
  {
   "cell_type":"code",
   "source":[
    "# Print Number of Missing values in each column\n",
    "\n",
    "print(leasing_df.isnull().sum())"
   ],
   "execution_count":8,
   "outputs":[
    {
     "name":"stdout",
     "text":[
      "Property                          0\n",
      "Unit Type                         0\n",
      "Unit Status                    4092\n",
      "Resident                          0\n",
      "Email                             3\n",
      "Phone Number                      7\n",
      "Gender                          795\n",
      "Lease Status                      0\n",
      "Lease Term Name                   0\n",
      "Lease Term                        0\n",
      "Lease Start                       0\n",
      "Lease End                         0\n",
      "Lease - Started                   0\n",
      "Lease - Partially Completed       1\n",
      "Lease - Completed               179\n",
      "Lease - Approved                459\n",
      "Deposit Charged                   0\n",
      "Budgeted Rent                     0\n",
      "Scheduled Charges                 0\n",
      "Posted Charges                    0\n",
      "dtype: int64\n"
     ],
     "output_type":"stream"
    }
   ],
   "metadata":{
    "datalore":{
     "type":"CODE",
     "hide_input_from_viewers":false,
     "hide_output_from_viewers":false,
     "node_id":"u2Mt7S1KavG4rhdXr7sI6c"
    }
   }
  },
  {
   "cell_type":"code",
   "source":[
    "# Now that I have a better understanding of what the DataFrame object 'leasing_df' contains and looks like, I can begin \n",
    "# removing unwanted data and handling any cases of missing data in certain rows\/columns.\n",
    "\n",
    "leasing_df.drop(columns=[\"Phone Number\", \"Resident\",\"Email\", \"Lease Start\", \"Lease End\", \"Lease Term Name\", \"Lease Term\", \"Posted Charges\",\"Deposit Charged\"], inplace=True)\n",
    "leasing_df.head()"
   ],
   "execution_count":9,
   "outputs":[
    {
     "data":{
      "text\/html":[
       "<div>\n",
       "<style scoped>\n",
       "    .dataframe tbody tr th:only-of-type {\n",
       "        vertical-align: middle;\n",
       "    }\n",
       "\n",
       "    .dataframe tbody tr th {\n",
       "        vertical-align: top;\n",
       "    }\n",
       "\n",
       "    .dataframe thead th {\n",
       "        text-align: right;\n",
       "    }\n",
       "<\/style>\n",
       "<table border=\"1\" class=\"dataframe\">\n",
       "  <thead>\n",
       "    <tr style=\"text-align: right;\">\n",
       "      <th><\/th>\n",
       "      <th>Property<\/th>\n",
       "      <th>Unit Type<\/th>\n",
       "      <th>Unit Status<\/th>\n",
       "      <th>Gender<\/th>\n",
       "      <th>Lease Status<\/th>\n",
       "      <th>Lease - Started<\/th>\n",
       "      <th>Lease - Partially Completed<\/th>\n",
       "      <th>Lease - Completed<\/th>\n",
       "      <th>Lease - Approved<\/th>\n",
       "      <th>Budgeted Rent<\/th>\n",
       "      <th>Scheduled Charges<\/th>\n",
       "    <\/tr>\n",
       "  <\/thead>\n",
       "  <tbody>\n",
       "    <tr>\n",
       "      <th>0<\/th>\n",
       "      <td>Sunny Villages<\/td>\n",
       "      <td>3x3<\/td>\n",
       "      <td>Notice Rented<\/td>\n",
       "      <td>Male<\/td>\n",
       "      <td>Renewal Lease Approved<\/td>\n",
       "      <td>2022-04-12<\/td>\n",
       "      <td>2022-04-12<\/td>\n",
       "      <td>2022-04-12<\/td>\n",
       "      <td>2022-04-12<\/td>\n",
       "      <td>685.0<\/td>\n",
       "      <td>746.0<\/td>\n",
       "    <\/tr>\n",
       "    <tr>\n",
       "      <th>1<\/th>\n",
       "      <td>Sunny Villages<\/td>\n",
       "      <td>3x3<\/td>\n",
       "      <td>Notice Rented<\/td>\n",
       "      <td>Female<\/td>\n",
       "      <td>Lease Approved<\/td>\n",
       "      <td>2022-04-05<\/td>\n",
       "      <td>2022-04-12<\/td>\n",
       "      <td>2022-04-12<\/td>\n",
       "      <td>2022-04-12<\/td>\n",
       "      <td>680.0<\/td>\n",
       "      <td>746.0<\/td>\n",
       "    <\/tr>\n",
       "    <tr>\n",
       "      <th>2<\/th>\n",
       "      <td>Sunny Villages<\/td>\n",
       "      <td>3x3<\/td>\n",
       "      <td>Notice Rented<\/td>\n",
       "      <td>Male<\/td>\n",
       "      <td>Renewal Lease Approved<\/td>\n",
       "      <td>2022-04-12<\/td>\n",
       "      <td>2022-04-14<\/td>\n",
       "      <td>2022-05-06<\/td>\n",
       "      <td>2022-05-09<\/td>\n",
       "      <td>680.0<\/td>\n",
       "      <td>756.0<\/td>\n",
       "    <\/tr>\n",
       "    <tr>\n",
       "      <th>3<\/th>\n",
       "      <td>Sunny Villages<\/td>\n",
       "      <td>3x3<\/td>\n",
       "      <td>Notice Rented<\/td>\n",
       "      <td>Female<\/td>\n",
       "      <td>Renewal Lease Approved<\/td>\n",
       "      <td>2021-11-06<\/td>\n",
       "      <td>2021-11-06<\/td>\n",
       "      <td>2021-11-06<\/td>\n",
       "      <td>2021-11-08<\/td>\n",
       "      <td>685.0<\/td>\n",
       "      <td>716.0<\/td>\n",
       "    <\/tr>\n",
       "    <tr>\n",
       "      <th>4<\/th>\n",
       "      <td>Sunny Villages<\/td>\n",
       "      <td>3x3<\/td>\n",
       "      <td>Notice Rented<\/td>\n",
       "      <td>Female<\/td>\n",
       "      <td>Lease Approved<\/td>\n",
       "      <td>2021-11-07<\/td>\n",
       "      <td>2021-11-09<\/td>\n",
       "      <td>2021-12-01<\/td>\n",
       "      <td>2021-12-01<\/td>\n",
       "      <td>680.0<\/td>\n",
       "      <td>716.0<\/td>\n",
       "    <\/tr>\n",
       "  <\/tbody>\n",
       "<\/table>\n",
       "<\/div>"
      ]
     },
     "metadata":{
      
     },
     "output_type":"display_data"
    }
   ],
   "metadata":{
    "datalore":{
     "type":"CODE",
     "hide_input_from_viewers":false,
     "hide_output_from_viewers":false,
     "node_id":"pKtGC5TioIL6hHtZkcALOf"
    }
   }
  },
  {
   "cell_type":"markdown",
   "source":[
    "### Replace Missing Data\n",
    "\n",
    "Here is where we will replace any missing data in the columns ***Unit Status*** and ***Gender***."
   ],
   "attachments":{
    
   },
   "metadata":{
    "datalore":{
     "type":"MD",
     "hide_input_from_viewers":false,
     "hide_output_from_viewers":false,
     "node_id":"p6yAyz8Z5DeWtj30gTAA1g"
    }
   }
  },
  {
   "cell_type":"code",
   "source":[
    "# For right now, we are only going to replace the data in the following columns. We will handle the missing date values later.\n",
    "\n",
    "leasing_df[[\"Unit Status\",\"Gender\"]] = leasing_df[[\"Unit Status\",\"Gender\"]].replace(np.nan, \"No Data\")"
   ],
   "execution_count":10,
   "outputs":[
    
   ],
   "metadata":{
    "datalore":{
     "type":"CODE",
     "hide_input_from_viewers":false,
     "hide_output_from_viewers":false,
     "node_id":"UBkLjhjCMOfHup9AfTF9F4"
    }
   }
  },
  {
   "cell_type":"code",
   "source":[
    "# Finally, let's summarize the DataFrame again so we can see the changes that have been made.\n",
    "\n",
    "leasing_df.info()"
   ],
   "execution_count":11,
   "outputs":[
    {
     "name":"stdout",
     "text":[
      "<class 'pandas.core.frame.DataFrame'>\n",
      "RangeIndex: 13559 entries, 0 to 13558\n",
      "Data columns (total 11 columns):\n",
      " #   Column                       Non-Null Count  Dtype         \n",
      "---  ------                       --------------  -----         \n",
      " 0   Property                     13559 non-null  object        \n",
      " 1   Unit Type                    13559 non-null  object        \n",
      " 2   Unit Status                  13559 non-null  object        \n",
      " 3   Gender                       13559 non-null  object        \n",
      " 4   Lease Status                 13559 non-null  object        \n",
      " 5   Lease - Started              13559 non-null  datetime64[ns]\n",
      " 6   Lease - Partially Completed  13558 non-null  datetime64[ns]\n",
      " 7   Lease - Completed            13380 non-null  datetime64[ns]\n",
      " 8   Lease - Approved             13100 non-null  datetime64[ns]\n",
      " 9   Budgeted Rent                13559 non-null  float64       \n",
      " 10  Scheduled Charges            13559 non-null  float64       \n",
      "dtypes: datetime64[ns](4), float64(2), object(5)\n",
      "memory usage: 1.1+ MB\n"
     ],
     "output_type":"stream"
    }
   ],
   "metadata":{
    "datalore":{
     "type":"CODE",
     "hide_input_from_viewers":false,
     "hide_output_from_viewers":false,
     "node_id":"vtLSWORF8qKtRimPUC2lX2"
    }
   }
  },
  {
   "cell_type":"markdown",
   "source":[
    "## Now that our dataset is formatted to fit our needs, we can begin our analysis process.\n",
    "## A. Univariate analysis"
   ],
   "attachments":{
    
   },
   "metadata":{
    "datalore":{
     "type":"MD",
     "hide_input_from_viewers":false,
     "hide_output_from_viewers":false,
     "node_id":"VDCQMGR9Ts0wfRj4YKEeGD"
    }
   }
  },
  {
   "cell_type":"code",
   "source":[
    "# One of the main variables we want to analyze is Scheduled Rent.\n",
    "# Scheduled Rent represents the total amount of money a resident owes for rent each month. \n",
    "\n",
    "leasing_df[\"Scheduled Charges\"].describe()"
   ],
   "execution_count":12,
   "outputs":[
    {
     "data":{
      "text\/html":[
       
      ]
     },
     "metadata":{
      
     },
     "output_type":"display_data"
    }
   ],
   "metadata":{
    "datalore":{
     "type":"CODE",
     "hide_input_from_viewers":false,
     "hide_output_from_viewers":false,
     "node_id":"SvnkQdpqWU0anLc9nLDg0q"
    }
   }
  },
  {
   "cell_type":"markdown",
   "source":[
    "Histogram plot representing the distribution of Rent Prices in the ***Scheduled Charges*** column."
   ],
   "attachments":{
    
   },
   "metadata":{
    "datalore":{
     "type":"MD",
     "hide_input_from_viewers":false,
     "hide_output_from_viewers":false,
     "node_id":"8JwtQivg9Ld2s2sT73O8MR"
    }
   }
  },
  {
   "cell_type":"code",
   "source":[
    "# Historgram and Normal Distribution\n",
    "\n",
    "# Returns a Series object containing all of the Scheduled Charges, sorted least to greatest\n",
    "sorted_charges = leasing_df[\"Scheduled Charges\"].sort_values(ascending=True)\n",
    "\n",
    "# Figure size.\n",
    "plt.figure(figsize=(15,7))\n",
    "\n",
    "# Add title\n",
    "plt.title(\"Distribution of Scheduled Charges\")\n",
    "plt.xlabel(\"Scheduled Charges (Cost of Rent ($))\")\n",
    "plt.ylabel(\"Frequency\")\n",
    "\n",
    "# Plot Histogram\n",
    "plt.hist(sorted_charges, color='#08b4ff', edgecolor='white', density=True, bins=35)\n",
    "\n",
    "# Normal Distribution\n",
    "mu = 0\n",
    "variance = 1\n",
    "sigma = math.sqrt(variance)\n",
    "\n",
    "mean = sorted_charges.mean()\n",
    "std = sorted_charges.std()\n",
    "\n",
    "# Plot Normal Distribution\n",
    "plt.plot(sorted_charges, norm.pdf(sorted_charges, mean, std))\n",
    "plt.show()"
   ],
   "execution_count":13,
   "outputs":[
    {
     "data":{
      "image\/png":"[encoded data removed]"
     },
     "metadata":{
      "image\/png":{
       
      }
     },
     "output_type":"display_data"
    }
   ],
   "metadata":{
    "datalore":{
     "type":"CODE",
     "hide_input_from_viewers":false,
     "hide_output_from_viewers":false,
     "node_id":"mBphN8bEXGksScim7cpimS"
    }
   }
  },
  {
   "cell_type":"code",
   "source":[
    "# Pythons describe() method also can be used to provide descriptive stats on date ranges.\n",
    "\n",
    "leasing_df[\"Lease - Started\"].describe(datetime_is_numeric=True)"
   ],
   "execution_count":14,
   "outputs":[
    {
     "data":{
      "text\/html":[
       
      ]
     },
     "metadata":{
      
     },
     "output_type":"display_data"
    }
   ],
   "metadata":{
    "datalore":{
     "type":"CODE",
     "hide_input_from_viewers":false,
     "hide_output_from_viewers":false,
     "node_id":"EYZzWPTmViUDQaQb3oat63"
    }
   }
  },
  {
   "cell_type":"markdown",
   "source":[
    "### Lease Status"
   ],
   "attachments":{
    
   },
   "metadata":{
    "datalore":{
     "type":"MD",
     "hide_input_from_viewers":false,
     "hide_output_from_viewers":false,
     "node_id":"lSsqmr3rcwI7vqNr0DEqg2"
    }
   }
  },
  {
   "cell_type":"code",
   "source":[
    "leasing_df[\"Lease Status\"]"
   ],
   "execution_count":64,
   "outputs":[
    {
     "data":{
      "text\/html":[
       
      ]
     },
     "metadata":{
      
     },
     "output_type":"display_data"
    }
   ],
   "metadata":{
    "datalore":{
     "type":"CODE",
     "hide_input_from_viewers":false,
     "hide_output_from_viewers":false,
     "node_id":"lpfY5IfbQxNqX0YONNGAPw"
    }
   }
  },
  {
   "cell_type":"code",
   "source":[
    "# Variable: Lease Status\n",
    "# Lets try to see how many different Lease Status' we have in this dataset.\n",
    "\n",
    "lease_status_count = leasing_df[\"Lease Status\"].value_counts().sort_values(ascending=False)\n",
    "print(lease_status_count)"
   ],
   "execution_count":15,
   "outputs":[
    {
     "name":"stdout",
     "text":[
      "Lease Approved                       9715\n",
      "Renewal Lease Approved               3370\n",
      "Lease Completed                       208\n",
      "Lease Partially Completed             159\n",
      "Renewal Lease Partially Completed      50\n",
      "Renewal Lease Completed                25\n",
      "Month to Month                         18\n",
      "Lease Transfer Approved                14\n",
      "Name: Lease Status, dtype: int64\n"
     ],
     "output_type":"stream"
    }
   ],
   "metadata":{
    "datalore":{
     "type":"CODE",
     "hide_input_from_viewers":false,
     "hide_output_from_viewers":false,
     "node_id":"YrsLMDxQK8h7M6gHUTIe7k"
    }
   }
  },
  {
   "cell_type":"code",
   "source":[
    "temp_status = []\n",
    "for status in leasing_df[\"Lease Status\"]:\n",
    "    if \"Renewal\" in status:\n",
    "        temp_status.append(\"Renewal Lease\")\n",
    "    elif \"Month\" in status:\n",
    "        temp_status.append(\"Monthly Lease\")\n",
    "    else:\n",
    "        temp_status.append(\"New Lease\")\n",
    "\n",
    "print(len(temp_status))\n",
    "print(len(leasing_df[\"Lease Status\"]))\n",
    "\n",
    "leasing_df.insert(6, \"Lease Status Type\", temp_status)"
   ],
   "execution_count":66,
   "outputs":[
    {
     "name":"stdout",
     "text":[
      "13559\n",
      "13559\n"
     ],
     "output_type":"stream"
    }
   ],
   "metadata":{
    "datalore":{
     "type":"CODE",
     "hide_input_from_viewers":false,
     "hide_output_from_viewers":false,
     "node_id":"vsuSlWB1M81oogtPqxzfzb"
    }
   }
  },
  {
   "cell_type":"code",
   "source":[
    "leasing_df"
   ],
   "execution_count":67,
   "outputs":[
    {
     "data":{
      "text\/html":[
       "<div>\n",
       "<style scoped>\n",
       "    .dataframe tbody tr th:only-of-type {\n",
       "        vertical-align: middle;\n",
       "    }\n",
       "\n",
       "    .dataframe tbody tr th {\n",
       "        vertical-align: top;\n",
       "    }\n",
       "\n",
       "    .dataframe thead th {\n",
       "        text-align: right;\n",
       "    }\n",
       "<\/style>\n",
       "<table border=\"1\" class=\"dataframe\">\n",
       "  <thead>\n",
       "    <tr style=\"text-align: right;\">\n",
       "      <th><\/th>\n",
       "      <th>Property<\/th>\n",
       "      <th>Unit Type<\/th>\n",
       "      <th>Unit Status<\/th>\n",
       "      <th>Gender<\/th>\n",
       "      <th>Lease Status<\/th>\n",
       "      <th>Lease - Started<\/th>\n",
       "      <th>Lease Status Type<\/th>\n",
       "      <th>Lease - Partially Completed<\/th>\n",
       "      <th>Lease - Completed<\/th>\n",
       "      <th>Lease - Approved<\/th>\n",
       "      <th>Budgeted Rent<\/th>\n",
       "      <th>Scheduled Charges<\/th>\n",
       "    <\/tr>\n",
       "  <\/thead>\n",
       "  <tbody>\n",
       "    <tr>\n",
       "      <th>0<\/th>\n",
       "      <td>Sunny Villages<\/td>\n",
       "      <td>3 Bedroom<\/td>\n",
       "      <td>Notice Rented<\/td>\n",
       "      <td>Male<\/td>\n",
       "      <td>Renewal Lease Approved<\/td>\n",
       "      <td>2022-04-12<\/td>\n",
       "      <td>Renewal Lease<\/td>\n",
       "      <td>2022-04-12<\/td>\n",
       "      <td>2022-04-12<\/td>\n",
       "      <td>2022-04-12<\/td>\n",
       "      <td>685.0<\/td>\n",
       "      <td>746.00<\/td>\n",
       "    <\/tr>\n",
       "    <tr>\n",
       "      <th>1<\/th>\n",
       "      <td>Sunny Villages<\/td>\n",
       "      <td>3 Bedroom<\/td>\n",
       "      <td>Notice Rented<\/td>\n",
       "      <td>Female<\/td>\n",
       "      <td>Lease Approved<\/td>\n",
       "      <td>2022-04-05<\/td>\n",
       "      <td>New Lease<\/td>\n",
       "      <td>2022-04-12<\/td>\n",
       "      <td>2022-04-12<\/td>\n",
       "      <td>2022-04-12<\/td>\n",
       "      <td>680.0<\/td>\n",
       "      <td>746.00<\/td>\n",
       "    <\/tr>\n",
       "    <tr>\n",
       "      <th>2<\/th>\n",
       "      <td>Sunny Villages<\/td>\n",
       "      <td>3 Bedroom<\/td>\n",
       "      <td>Notice Rented<\/td>\n",
       "      <td>Male<\/td>\n",
       "      <td>Renewal Lease Approved<\/td>\n",
       "      <td>2022-04-12<\/td>\n",
       "      <td>Renewal Lease<\/td>\n",
       "      <td>2022-04-14<\/td>\n",
       "      <td>2022-05-06<\/td>\n",
       "      <td>2022-05-09<\/td>\n",
       "      <td>680.0<\/td>\n",
       "      <td>756.00<\/td>\n",
       "    <\/tr>\n",
       "    <tr>\n",
       "      <th>3<\/th>\n",
       "      <td>Sunny Villages<\/td>\n",
       "      <td>3 Bedroom<\/td>\n",
       "      <td>Notice Rented<\/td>\n",
       "      <td>Female<\/td>\n",
       "      <td>Renewal Lease Approved<\/td>\n",
       "      <td>2021-11-06<\/td>\n",
       "      <td>Renewal Lease<\/td>\n",
       "      <td>2021-11-06<\/td>\n",
       "      <td>2021-11-06<\/td>\n",
       "      <td>2021-11-08<\/td>\n",
       "      <td>685.0<\/td>\n",
       "      <td>716.00<\/td>\n",
       "    <\/tr>\n",
       "    <tr>\n",
       "      <th>4<\/th>\n",
       "      <td>Sunny Villages<\/td>\n",
       "      <td>3 Bedroom<\/td>\n",
       "      <td>Notice Rented<\/td>\n",
       "      <td>Female<\/td>\n",
       "      <td>Lease Approved<\/td>\n",
       "      <td>2021-11-07<\/td>\n",
       "      <td>New Lease<\/td>\n",
       "      <td>2021-11-09<\/td>\n",
       "      <td>2021-12-01<\/td>\n",
       "      <td>2021-12-01<\/td>\n",
       "      <td>680.0<\/td>\n",
       "      <td>716.00<\/td>\n",
       "    <\/tr>\n",
       "    <tr>\n",
       "      <th>...<\/th>\n",
       "      <td>...<\/td>\n",
       "      <td>...<\/td>\n",
       "      <td>...<\/td>\n",
       "      <td>...<\/td>\n",
       "      <td>...<\/td>\n",
       "      <td>...<\/td>\n",
       "      <td>...<\/td>\n",
       "      <td>...<\/td>\n",
       "      <td>...<\/td>\n",
       "      <td>...<\/td>\n",
       "      <td>...<\/td>\n",
       "      <td>...<\/td>\n",
       "    <\/tr>\n",
       "    <tr>\n",
       "      <th>13554<\/th>\n",
       "      <td>Village Road<\/td>\n",
       "      <td>Studio<\/td>\n",
       "      <td>Occupied No Notice<\/td>\n",
       "      <td>No Data<\/td>\n",
       "      <td>Lease Approved<\/td>\n",
       "      <td>2022-03-15<\/td>\n",
       "      <td>New Lease<\/td>\n",
       "      <td>2022-03-16<\/td>\n",
       "      <td>2022-03-16<\/td>\n",
       "      <td>2022-03-16<\/td>\n",
       "      <td>1425.0<\/td>\n",
       "      <td>1327.38<\/td>\n",
       "    <\/tr>\n",
       "    <tr>\n",
       "      <th>13555<\/th>\n",
       "      <td>Village Road<\/td>\n",
       "      <td>Studio<\/td>\n",
       "      <td>Occupied No Notice<\/td>\n",
       "      <td>Male<\/td>\n",
       "      <td>Renewal Lease Completed<\/td>\n",
       "      <td>2022-04-27<\/td>\n",
       "      <td>Renewal Lease<\/td>\n",
       "      <td>2022-04-29<\/td>\n",
       "      <td>2022-04-29<\/td>\n",
       "      <td>NaT<\/td>\n",
       "      <td>1425.0<\/td>\n",
       "      <td>1230.77<\/td>\n",
       "    <\/tr>\n",
       "    <tr>\n",
       "      <th>13556<\/th>\n",
       "      <td>Village Road<\/td>\n",
       "      <td>Studio<\/td>\n",
       "      <td>Vacant Rented Ready<\/td>\n",
       "      <td>No Data<\/td>\n",
       "      <td>Lease Approved<\/td>\n",
       "      <td>2022-05-02<\/td>\n",
       "      <td>New Lease<\/td>\n",
       "      <td>2022-05-03<\/td>\n",
       "      <td>2022-05-03<\/td>\n",
       "      <td>2022-05-03<\/td>\n",
       "      <td>1425.0<\/td>\n",
       "      <td>1374.00<\/td>\n",
       "    <\/tr>\n",
       "    <tr>\n",
       "      <th>13557<\/th>\n",
       "      <td>Village Road<\/td>\n",
       "      <td>Studio<\/td>\n",
       "      <td>Occupied No Notice<\/td>\n",
       "      <td>No Data<\/td>\n",
       "      <td>Lease Approved<\/td>\n",
       "      <td>2021-10-19<\/td>\n",
       "      <td>New Lease<\/td>\n",
       "      <td>2021-10-19<\/td>\n",
       "      <td>2021-09-22<\/td>\n",
       "      <td>2021-10-20<\/td>\n",
       "      <td>1425.0<\/td>\n",
       "      <td>1205.77<\/td>\n",
       "    <\/tr>\n",
       "    <tr>\n",
       "      <th>13558<\/th>\n",
       "      <td>Village Road<\/td>\n",
       "      <td>Studio<\/td>\n",
       "      <td>Occupied No Notice<\/td>\n",
       "      <td>Female<\/td>\n",
       "      <td>Month to Month<\/td>\n",
       "      <td>2022-02-02<\/td>\n",
       "      <td>Monthly Lease<\/td>\n",
       "      <td>2022-05-26<\/td>\n",
       "      <td>2022-05-26<\/td>\n",
       "      <td>NaT<\/td>\n",
       "      <td>1473.0<\/td>\n",
       "      <td>1328.38<\/td>\n",
       "    <\/tr>\n",
       "  <\/tbody>\n",
       "<\/table>\n",
       "<p>13559 rows × 12 columns<\/p>\n",
       "<\/div>"
      ]
     },
     "metadata":{
      
     },
     "output_type":"display_data"
    }
   ],
   "metadata":{
    "datalore":{
     "type":"CODE",
     "hide_input_from_viewers":false,
     "hide_output_from_viewers":false,
     "node_id":"QndqcsGeZ72VwGrt7K06Ef"
    }
   }
  },
  {
   "cell_type":"markdown",
   "source":[
    "### Property"
   ],
   "attachments":{
    
   },
   "metadata":{
    "datalore":{
     "type":"MD",
     "hide_input_from_viewers":false,
     "hide_output_from_viewers":false,
     "node_id":"P3Odl67Q1XtT9V0uH0rlAM"
    }
   }
  },
  {
   "cell_type":"code",
   "source":[
    "# Variable: PROPERTY\n",
    "# Count number of occurences per property in column 'Property'.\n",
    "\n",
    "property_count = leasing_df[\"Property\"].value_counts().sort_values(ascending=False)"
   ],
   "execution_count":16,
   "outputs":[
    
   ],
   "metadata":{
    "datalore":{
     "type":"CODE",
     "hide_input_from_viewers":false,
     "hide_output_from_viewers":false,
     "node_id":"t6F5bCu5zDD7SDokn7v0d9"
    }
   }
  },
  {
   "cell_type":"markdown",
   "source":[
    "### Unit Type"
   ],
   "attachments":{
    
   },
   "metadata":{
    "datalore":{
     "type":"MD",
     "hide_input_from_viewers":false,
     "hide_output_from_viewers":false,
     "node_id":"4cpxIEQnQ95dAD7gJHBFci"
    }
   }
  },
  {
   "cell_type":"code",
   "source":[
    "# Variable: UNIT TYPE\n",
    "# Get the number of Unit Types in the dataset.\n",
    "\n",
    "print(\"Unique Unit Types: \" + str(leasing_df[\"Unit Type\"].nunique()))"
   ],
   "execution_count":63,
   "outputs":[
    {
     "name":"stdout",
     "text":[
      "Unique Unit Types: 9\n",
      "0        3 Bedroom\n",
      "1        3 Bedroom\n",
      "2        3 Bedroom\n",
      "3        3 Bedroom\n",
      "4        3 Bedroom\n",
      "           ...    \n",
      "13554       Studio\n",
      "13555       Studio\n",
      "13556       Studio\n",
      "13557       Studio\n",
      "13558       Studio\n",
      "Name: Unit Type, Length: 13559, dtype: object\n"
     ],
     "output_type":"stream"
    }
   ],
   "metadata":{
    "datalore":{
     "type":"CODE",
     "hide_input_from_viewers":false,
     "hide_output_from_viewers":false,
     "node_id":"WP0xCC50amzA5AyZ6bAHWB"
    }
   }
  },
  {
   "cell_type":"code",
   "source":[
    "# We only want to know if a Unit is a 1, 2, 3, 4, 5 Bed, or Studio Apartment, we are not concerned about the number of Bathrooms\n",
    "# We can achieve this by extracting the first element of each value in the column, because we know that an apartment with 4 bedrooms, and 3 bathrooms\n",
    "# will be displayed as 4x3 in the column. \n",
    "\n",
    "unit_list = []\n",
    "unit_dict = {}\n",
    "nums = ['1', '2', '3', '4', '5', '6']\n",
    "count = 0\n",
    "for unit in leasing_df[\"Unit Type\"]:\n",
    "    # First character of Unit Type value\n",
    "    val = str(unit[0]).lower()\n",
    "    if val == 's':\n",
    "        val = 'Studio'\n",
    "\n",
    "    if val == 'm':\n",
    "        val = 'Murphy'\n",
    "    \n",
    "    if val in nums:\n",
    "        pos = nums.index(val)\n",
    "        val = str(nums[pos]+\" Bedroom\")\n",
    "        \n",
    "    # This can represent multiple different options so we have to loop another level to extract the number of beds.\n",
    "    if str(unit[0]).lower() == 'n':\n",
    "        temp = unit.rsplit(\" \")\n",
    "        if  len(temp) > 2:\n",
    "            val = temp[2][0]\n",
    "            if val in nums:\n",
    "                pos = nums.index(val)\n",
    "                val = str(nums[pos]+\" Bedroom\")\n",
    "        else:\n",
    "            pass\n",
    "    unit_list.append(val)\n",
    "    count += 1"
   ],
   "execution_count":18,
   "outputs":[
    
   ],
   "metadata":{
    "datalore":{
     "type":"CODE",
     "hide_input_from_viewers":false,
     "hide_output_from_viewers":false,
     "node_id":"FJLWf77RXiqEHhfqM84F1p"
    }
   }
  },
  {
   "cell_type":"code",
   "source":[
    "# Now we can replace that column of data with the list we just created. \n",
    "\n",
    "leasing_df.iloc[:, 1] = unit_list\n",
    "print(leasing_df[\"Unit Type\"])"
   ],
   "execution_count":19,
   "outputs":[
    {
     "name":"stdout",
     "text":[
      "0        3 Bedroom\n",
      "1        3 Bedroom\n",
      "2        3 Bedroom\n",
      "3        3 Bedroom\n",
      "4        3 Bedroom\n",
      "           ...    \n",
      "13554       Studio\n",
      "13555       Studio\n",
      "13556       Studio\n",
      "13557       Studio\n",
      "13558       Studio\n",
      "Name: Unit Type, Length: 13559, dtype: object\n"
     ],
     "output_type":"stream"
    }
   ],
   "metadata":{
    "datalore":{
     "type":"CODE",
     "hide_input_from_viewers":false,
     "hide_output_from_viewers":false,
     "node_id":"6BY0cPxizeKbEeQEFSPeL2"
    }
   }
  },
  {
   "cell_type":"code",
   "source":[
    "# Variable: UNIT TYPE\n",
    "# Count number of occurences per property in column UNIT TYPE\n",
    "\n",
    "unit_count_all = leasing_df[\"Unit Type\"].value_counts().sort_values(ascending=False)\n",
    "print(unit_count_all)"
   ],
   "execution_count":20,
   "outputs":[
    {
     "name":"stdout",
     "text":[
      "4 Bedroom    5990\n",
      "2 Bedroom    3568\n",
      "3 Bedroom    1485\n",
      "1 Bedroom     885\n",
      "Studio        796\n",
      "5 Bedroom     391\n",
      "Murphy        306\n",
      "6 Bedroom     137\n",
      "n               1\n",
      "Name: Unit Type, dtype: int64\n"
     ],
     "output_type":"stream"
    }
   ],
   "metadata":{
    "datalore":{
     "type":"CODE",
     "hide_input_from_viewers":false,
     "hide_output_from_viewers":false,
     "node_id":"SJ0az1xB92VUCZR4SHApm7"
    }
   }
  },
  {
   "cell_type":"markdown",
   "source":[
    "### Gender"
   ],
   "attachments":{
    
   },
   "metadata":{
    "datalore":{
     "type":"MD",
     "hide_input_from_viewers":false,
     "hide_output_from_viewers":false,
     "node_id":"BcPzzrrvjgV1FUfLEqJ7e2"
    }
   }
  },
  {
   "cell_type":"code",
   "source":[
    "# Variable: GENDER\n",
    "# Count number of occurences per property in column UNIT TYPE\n",
    "\n",
    "gender_count = leasing_df[\"Gender\"].value_counts()[:2].sort_values(ascending=False)\n",
    "print(gender_count)"
   ],
   "execution_count":21,
   "outputs":[
    {
     "name":"stdout",
     "text":[
      "Female    7622\n",
      "Male      5142\n",
      "Name: Gender, dtype: int64\n"
     ],
     "output_type":"stream"
    }
   ],
   "metadata":{
    "datalore":{
     "type":"CODE",
     "hide_input_from_viewers":false,
     "hide_output_from_viewers":false,
     "node_id":"TOmOqiFpFtXRKXWSRWrsA6"
    }
   }
  },
  {
   "cell_type":"code",
   "source":[
    "# Variable: LEASE - STARTED\n",
    "# Find which months saw the highest leasing velocity.\n",
    "\n",
    "lease_start_months = leasing_df[\"Lease - Started\"].dt.to_period('M')\n",
    "print(lease_start_months.value_counts().sort_values(ascending=False))"
   ],
   "execution_count":22,
   "outputs":[
    {
     "name":"stdout",
     "text":[
      "2021-10    2281\n",
      "2021-11    2212\n",
      "2021-09    1778\n",
      "2022-03    1515\n",
      "2022-02    1485\n",
      "2022-04    1217\n",
      "2021-12    1090\n",
      "2022-01    1050\n",
      "2022-05     876\n",
      "2021-08      40\n",
      "2021-07       8\n",
      "2021-06       5\n",
      "2021-03       2\n",
      "Freq: M, Name: Lease - Started, dtype: int64\n"
     ],
     "output_type":"stream"
    }
   ],
   "metadata":{
    "datalore":{
     "type":"CODE",
     "hide_input_from_viewers":false,
     "hide_output_from_viewers":false,
     "node_id":"KxnQjsjsSsfqx3HZI38luD"
    }
   }
  },
  {
   "cell_type":"markdown",
   "source":[
    "## B. Bivariate Analysis"
   ],
   "attachments":{
    
   },
   "metadata":{
    "datalore":{
     "type":"MD",
     "hide_input_from_viewers":false,
     "hide_output_from_viewers":false,
     "node_id":"MyxsxzPXOZ5MqhmbH78TSZ"
    }
   }
  },
  {
   "cell_type":"markdown",
   "source":[
    "### 1. Analyze Scheduled Charges"
   ],
   "attachments":{
    
   },
   "metadata":{
    "datalore":{
     "type":"MD",
     "hide_input_from_viewers":false,
     "hide_output_from_viewers":false,
     "node_id":"tSs4jig93CLqeqyRgq0vBZ"
    }
   }
  },
  {
   "cell_type":"code",
   "source":[
    "# Now we are going to assess multiple variables together in order to find any trends or correlations\n",
    "# We'll begin by grouping the data according to LEASE STATUS, and only if Lease Status is Lease Approved, or \n",
    "# Renewal Lease Approved\n",
    "\n",
    "status = [\"Lease Approved\", \"Renewal Lease Approved\"]\n",
    "new_vs_renewal = leasing_df[leasing_df[\"Lease Status\"].isin(status)].copy()\n",
    "\n",
    "# Output the new Dataframe so we can see that only Renewal Lease Approved and Lease Approved appear. \n",
    "\n",
    "new_vs_renewal.head(10)"
   ],
   "execution_count":23,
   "outputs":[
    {
     "data":{
      "text\/html":[
       "<div>\n",
       "<style scoped>\n",
       "    .dataframe tbody tr th:only-of-type {\n",
       "        vertical-align: middle;\n",
       "    }\n",
       "\n",
       "    .dataframe tbody tr th {\n",
       "        vertical-align: top;\n",
       "    }\n",
       "\n",
       "    .dataframe thead th {\n",
       "        text-align: right;\n",
       "    }\n",
       "<\/style>\n",
       "<table border=\"1\" class=\"dataframe\">\n",
       "  <thead>\n",
       "    <tr style=\"text-align: right;\">\n",
       "      <th><\/th>\n",
       "      <th>Property<\/th>\n",
       "      <th>Unit Type<\/th>\n",
       "      <th>Unit Status<\/th>\n",
       "      <th>Gender<\/th>\n",
       "      <th>Lease Status<\/th>\n",
       "      <th>Lease - Started<\/th>\n",
       "      <th>Lease - Partially Completed<\/th>\n",
       "      <th>Lease - Completed<\/th>\n",
       "      <th>Lease - Approved<\/th>\n",
       "      <th>Budgeted Rent<\/th>\n",
       "      <th>Scheduled Charges<\/th>\n",
       "    <\/tr>\n",
       "  <\/thead>\n",
       "  <tbody>\n",
       "    <tr>\n",
       "      <th>0<\/th>\n",
       "      <td>Sunny Villages<\/td>\n",
       "      <td>3 Bedroom<\/td>\n",
       "      <td>Notice Rented<\/td>\n",
       "      <td>Male<\/td>\n",
       "      <td>Renewal Lease Approved<\/td>\n",
       "      <td>2022-04-12<\/td>\n",
       "      <td>2022-04-12<\/td>\n",
       "      <td>2022-04-12<\/td>\n",
       "      <td>2022-04-12<\/td>\n",
       "      <td>685.0<\/td>\n",
       "      <td>746.0<\/td>\n",
       "    <\/tr>\n",
       "    <tr>\n",
       "      <th>1<\/th>\n",
       "      <td>Sunny Villages<\/td>\n",
       "      <td>3 Bedroom<\/td>\n",
       "      <td>Notice Rented<\/td>\n",
       "      <td>Female<\/td>\n",
       "      <td>Lease Approved<\/td>\n",
       "      <td>2022-04-05<\/td>\n",
       "      <td>2022-04-12<\/td>\n",
       "      <td>2022-04-12<\/td>\n",
       "      <td>2022-04-12<\/td>\n",
       "      <td>680.0<\/td>\n",
       "      <td>746.0<\/td>\n",
       "    <\/tr>\n",
       "    <tr>\n",
       "      <th>2<\/th>\n",
       "      <td>Sunny Villages<\/td>\n",
       "      <td>3 Bedroom<\/td>\n",
       "      <td>Notice Rented<\/td>\n",
       "      <td>Male<\/td>\n",
       "      <td>Renewal Lease Approved<\/td>\n",
       "      <td>2022-04-12<\/td>\n",
       "      <td>2022-04-14<\/td>\n",
       "      <td>2022-05-06<\/td>\n",
       "      <td>2022-05-09<\/td>\n",
       "      <td>680.0<\/td>\n",
       "      <td>756.0<\/td>\n",
       "    <\/tr>\n",
       "    <tr>\n",
       "      <th>3<\/th>\n",
       "      <td>Sunny Villages<\/td>\n",
       "      <td>3 Bedroom<\/td>\n",
       "      <td>Notice Rented<\/td>\n",
       "      <td>Female<\/td>\n",
       "      <td>Renewal Lease Approved<\/td>\n",
       "      <td>2021-11-06<\/td>\n",
       "      <td>2021-11-06<\/td>\n",
       "      <td>2021-11-06<\/td>\n",
       "      <td>2021-11-08<\/td>\n",
       "      <td>685.0<\/td>\n",
       "      <td>716.0<\/td>\n",
       "    <\/tr>\n",
       "    <tr>\n",
       "      <th>4<\/th>\n",
       "      <td>Sunny Villages<\/td>\n",
       "      <td>3 Bedroom<\/td>\n",
       "      <td>Notice Rented<\/td>\n",
       "      <td>Female<\/td>\n",
       "      <td>Lease Approved<\/td>\n",
       "      <td>2021-11-07<\/td>\n",
       "      <td>2021-11-09<\/td>\n",
       "      <td>2021-12-01<\/td>\n",
       "      <td>2021-12-01<\/td>\n",
       "      <td>680.0<\/td>\n",
       "      <td>716.0<\/td>\n",
       "    <\/tr>\n",
       "    <tr>\n",
       "      <th>5<\/th>\n",
       "      <td>Sunny Villages<\/td>\n",
       "      <td>3 Bedroom<\/td>\n",
       "      <td>Notice Rented<\/td>\n",
       "      <td>Female<\/td>\n",
       "      <td>Lease Approved<\/td>\n",
       "      <td>2022-04-18<\/td>\n",
       "      <td>2022-04-18<\/td>\n",
       "      <td>2022-04-19<\/td>\n",
       "      <td>2022-04-19<\/td>\n",
       "      <td>680.0<\/td>\n",
       "      <td>766.0<\/td>\n",
       "    <\/tr>\n",
       "    <tr>\n",
       "      <th>6<\/th>\n",
       "      <td>Sunny Villages<\/td>\n",
       "      <td>3 Bedroom<\/td>\n",
       "      <td>Notice Rented<\/td>\n",
       "      <td>Male<\/td>\n",
       "      <td>Lease Approved<\/td>\n",
       "      <td>2022-03-27<\/td>\n",
       "      <td>2022-03-27<\/td>\n",
       "      <td>2022-03-27<\/td>\n",
       "      <td>2022-03-28<\/td>\n",
       "      <td>685.0<\/td>\n",
       "      <td>736.0<\/td>\n",
       "    <\/tr>\n",
       "    <tr>\n",
       "      <th>7<\/th>\n",
       "      <td>Sunny Villages<\/td>\n",
       "      <td>3 Bedroom<\/td>\n",
       "      <td>Notice Rented<\/td>\n",
       "      <td>Male<\/td>\n",
       "      <td>Lease Approved<\/td>\n",
       "      <td>2022-03-29<\/td>\n",
       "      <td>2022-03-29<\/td>\n",
       "      <td>2022-03-29<\/td>\n",
       "      <td>2022-03-30<\/td>\n",
       "      <td>680.0<\/td>\n",
       "      <td>736.0<\/td>\n",
       "    <\/tr>\n",
       "    <tr>\n",
       "      <th>8<\/th>\n",
       "      <td>Sunny Villages<\/td>\n",
       "      <td>3 Bedroom<\/td>\n",
       "      <td>Notice Rented<\/td>\n",
       "      <td>Male<\/td>\n",
       "      <td>Lease Approved<\/td>\n",
       "      <td>2022-03-29<\/td>\n",
       "      <td>2022-03-30<\/td>\n",
       "      <td>2022-03-30<\/td>\n",
       "      <td>2022-03-31<\/td>\n",
       "      <td>680.0<\/td>\n",
       "      <td>756.0<\/td>\n",
       "    <\/tr>\n",
       "    <tr>\n",
       "      <th>9<\/th>\n",
       "      <td>Sunny Villages<\/td>\n",
       "      <td>3 Bedroom<\/td>\n",
       "      <td>Notice Rented<\/td>\n",
       "      <td>Female<\/td>\n",
       "      <td>Renewal Lease Approved<\/td>\n",
       "      <td>2022-04-15<\/td>\n",
       "      <td>2022-04-15<\/td>\n",
       "      <td>2022-04-17<\/td>\n",
       "      <td>2022-04-18<\/td>\n",
       "      <td>685.0<\/td>\n",
       "      <td>771.0<\/td>\n",
       "    <\/tr>\n",
       "  <\/tbody>\n",
       "<\/table>\n",
       "<\/div>"
      ]
     },
     "metadata":{
      
     },
     "output_type":"display_data"
    }
   ],
   "metadata":{
    "datalore":{
     "type":"CODE",
     "hide_input_from_viewers":false,
     "hide_output_from_viewers":false,
     "node_id":"QWv1c2byk3v22Vq0J5wxW6"
    }
   }
  },
  {
   "cell_type":"markdown",
   "source":[
    "### Scheduled Charges by Lease Status"
   ],
   "attachments":{
    
   },
   "metadata":{
    "datalore":{
     "type":"MD",
     "hide_input_from_viewers":false,
     "hide_output_from_viewers":false,
     "node_id":"9a2bTJWMpOAXTIQ2RJzDKE"
    }
   }
  },
  {
   "cell_type":"code",
   "source":[
    "# Compare the total rent prices of residents who renew, vs residents who sign new leases\n",
    "\n",
    "compare_rent_by_status = new_vs_renewal[[\"Lease Status\", \"Unit Type\", \"Scheduled Charges\"]].groupby(by=\"Lease Status\", as_index=False).sum()\n",
    "print(compare_rent_by_status)"
   ],
   "execution_count":24,
   "outputs":[
    {
     "name":"stdout",
     "text":[
      "             Lease Status  Scheduled Charges\n",
      "0          Lease Approved         9808558.19\n",
      "1  Renewal Lease Approved         3291025.98\n"
     ],
     "output_type":"stream"
    }
   ],
   "metadata":{
    "datalore":{
     "type":"CODE",
     "hide_input_from_viewers":false,
     "hide_output_from_viewers":false,
     "node_id":"BWCoiFef5Ig6fsSoSBEm8e"
    }
   }
  },
  {
   "cell_type":"markdown",
   "source":[
    "### Scheduled Charges grouped by Lease Status and Unit Type"
   ],
   "attachments":{
    
   },
   "metadata":{
    "datalore":{
     "type":"MD",
     "hide_input_from_viewers":false,
     "hide_output_from_viewers":false,
     "node_id":"KZsbzQ5b1J04cve7UnfDDf"
    }
   }
  },
  {
   "cell_type":"code",
   "source":[
    "# Do the same thing as above, but this time add Unit Type to the grouping\n",
    "\n",
    "compare_rent_status_unit = new_vs_renewal[[\"Lease Status\", \"Unit Type\", \"Scheduled Charges\", \"Gender\"]].groupby(by=[\"Lease Status\",\"Unit Type\"], as_index=False).sum()\n",
    "print(compare_rent_status_unit)"
   ],
   "execution_count":25,
   "outputs":[
    {
     "name":"stdout",
     "text":[
      "              Lease Status  Unit Type  Scheduled Charges\n",
      "0           Lease Approved  1 Bedroom          760086.22\n",
      "1           Lease Approved  2 Bedroom         2440692.34\n",
      "2           Lease Approved  3 Bedroom         1036505.00\n",
      "3           Lease Approved  4 Bedroom         4167574.01\n",
      "4           Lease Approved  5 Bedroom          328461.00\n",
      "5           Lease Approved  6 Bedroom          112286.00\n",
      "6           Lease Approved     Murphy          249944.48\n",
      "7           Lease Approved     Studio          713009.14\n",
      "8   Renewal Lease Approved  1 Bedroom          209669.17\n",
      "9   Renewal Lease Approved  2 Bedroom          987022.92\n",
      "10  Renewal Lease Approved  3 Bedroom          344217.48\n",
      "11  Renewal Lease Approved  4 Bedroom         1253074.00\n",
      "12  Renewal Lease Approved  5 Bedroom           55417.00\n",
      "13  Renewal Lease Approved  6 Bedroom           30534.00\n",
      "14  Renewal Lease Approved     Murphy           95983.02\n",
      "15  Renewal Lease Approved     Studio          315108.39\n"
     ],
     "output_type":"stream"
    }
   ],
   "metadata":{
    "datalore":{
     "type":"CODE",
     "hide_input_from_viewers":false,
     "hide_output_from_viewers":false,
     "node_id":"AoDvj5LIbJpGa5Okmkjlrp"
    }
   }
  },
  {
   "cell_type":"code",
   "source":[
    "from lets_plot import * \n",
    "ggplot() + \\\n",
    "geom_bar(aes(x=\"Lease Status\", y=\"Scheduled Charges\", color=\"Unit Type\", fill=\"Unit Type\"), data=compare_rent_status_unit, sampling=\"none\" if compare_rent_status_unit.size < 50 else sampling_pick(n=50), stat=\"identity\") + \\\n",
    "ggtitle(\"New Leases vs Renewal Leases\")  + \\\n",
    "ggsize(700, 500)"
   ],
   "execution_count":26,
   "outputs":[
    {
     "data":{
      "text\/html":[
       "<html lang=\"en\">\n",
       "   <head>\n",
       "       <script type=\"text\/javascript\" data-lets-plot-script=\"library\" src=\"https:\/\/cdn.jsdelivr.net\/gh\/JetBrains\/lets-plot@v2.4.0\/js-package\/distr\/lets-plot.min.js\"><\/script>\n",
       "   <\/head>\n",
       "   <body>\n",
       "          <div id=\"yccAug\"><\/div>\n",
       "   <script type=\"text\/javascript\" data-lets-plot-script=\"plot\">\n",
       "       var plotSpec={\n",
       "\"mapping\":{\n",
       "},\n",
       "\"data_meta\":{\n",
       "},\n",
       "\"ggtitle\":{\n",
       "\"text\":\"New Leases vs Renewal Leases\"\n",
       "},\n",
       "\"ggsize\":{\n",
       "\"width\":700,\n",
       "\"height\":500\n",
       "},\n",
       "\"kind\":\"plot\",\n",
       "\"scales\":[],\n",
       "\"layers\":[{\n",
       "\"geom\":\"bar\",\n",
       "\"stat\":\"identity\",\n",
       "\"data\":{\n",
       "\"Lease Status\":[\"Lease Approved\",\"Lease Approved\",\"Lease Approved\",\"Lease Approved\",\"Lease Approved\",\"Lease Approved\",\"Lease Approved\",\"Lease Approved\",\"Renewal Lease Approved\",\"Renewal Lease Approved\",\"Renewal Lease Approved\",\"Renewal Lease Approved\",\"Renewal Lease Approved\",\"Renewal Lease Approved\",\"Renewal Lease Approved\",\"Renewal Lease Approved\"],\n",
       "\"Unit Type\":[\"1 Bedroom\",\"2 Bedroom\",\"3 Bedroom\",\"4 Bedroom\",\"5 Bedroom\",\"6 Bedroom\",\"Murphy\",\"Studio\",\"1 Bedroom\",\"2 Bedroom\",\"3 Bedroom\",\"4 Bedroom\",\"5 Bedroom\",\"6 Bedroom\",\"Murphy\",\"Studio\"],\n",
       "\"Scheduled Charges\":[760086.22,2440692.34,1036505.0,4167574.01,328461.0,112286.0,249944.48,713009.14,209669.17,987022.92,344217.48,1253074.0,55417.0,30534.0,95983.02,315108.39]\n",
       "},\n",
       "\"mapping\":{\n",
       "\"x\":\"Lease Status\",\n",
       "\"y\":\"Scheduled Charges\",\n",
       "\"color\":\"Unit Type\",\n",
       "\"fill\":\"Unit Type\"\n",
       "},\n",
       "\"sampling\":\"none\",\n",
       "\"data_meta\":{\n",
       "}\n",
       "}]\n",
       "};\n",
       "       var plotContainer = document.getElementById(\"yccAug\");\n",
       "       LetsPlot.buildPlotFromProcessedSpecs(plotSpec, -1, -1, plotContainer);\n",
       "   <\/script>\n",
       "   <\/body>\n",
       "<\/html>"
      ]
     },
     "metadata":{
      
     },
     "output_type":"display_data"
    }
   ],
   "metadata":{
    "datalore":{
     "type":"PLOT",
     "hide_input_from_viewers":false,
     "hide_output_from_viewers":false,
     "node_id":"bkYclGpKy7zAUp3lUByeQG",
     "plot_state":{
      "label":"New Leases vs Renewal Leases",
      "width":700,
      "height":500,
      "sampling":true,
      "reactive":true,
      "plots":[
       {
        "type":"BAR",
        "variable":"compare_rent_status_unit",
        "xAxis":{
         "label":"",
         "value":"Lease Status",
         "scale":"NONE"
        },
        "yAxis":{
         "label":"",
         "value":"Scheduled Charges",
         "scale":"NONE"
        },
        "colorAxis":{
         "label":"",
         "value":"Unit Type",
         "scale":"NONE"
        }
       }
      ]
     }
    }
   }
  },
  {
   "cell_type":"markdown",
   "source":[
    "### Average Scheduled Charges by Unit Type"
   ],
   "attachments":{
    
   },
   "metadata":{
    "datalore":{
     "type":"MD",
     "hide_input_from_viewers":false,
     "hide_output_from_viewers":false,
     "node_id":"O6QLbZv8spO0b4bNHveG3R"
    }
   }
  },
  {
   "cell_type":"code",
   "source":[
    "# Find the Mean rent price for each different Unit Type\n",
    "\n",
    "compare_avg_unit_rent = new_vs_renewal[[\"Lease Status\", \"Unit Type\", \"Scheduled Charges\",\"Gender\"]].groupby(by=[\"Unit Type\"], as_index=False).mean()\n",
    "print(compare_avg_unit_rent)"
   ],
   "execution_count":27,
   "outputs":[
    {
     "name":"stdout",
     "text":[
      "   Unit Type  Scheduled Charges\n",
      "0  1 Bedroom        1138.210552\n",
      "1  2 Bedroom         989.525191\n",
      "2  3 Bedroom         962.175944\n",
      "3  4 Bedroom         936.370359\n",
      "4  5 Bedroom        1023.674667\n",
      "5  6 Bedroom        1050.147059\n",
      "6     Murphy        1235.455357\n",
      "7     Studio        1363.551101\n"
     ],
     "output_type":"stream"
    }
   ],
   "metadata":{
    "datalore":{
     "type":"CODE",
     "hide_input_from_viewers":false,
     "hide_output_from_viewers":false,
     "node_id":"UWAZSKnN3BxGs23WE8RWpB"
    }
   }
  },
  {
   "cell_type":"code",
   "source":[
    "from lets_plot import * \n",
    "ggplot() + \\\n",
    "geom_bar(aes(x=\"Unit Type\", y=\"Scheduled Charges\", color=\"Unit Type\", fill=\"Unit Type\"), data=compare_avg_unit_rent, sampling=\"none\" if compare_avg_unit_rent.size < 50 else sampling_pick(n=50), stat=\"identity\") + \\\n",
    "ggtitle(\"Scheduled Charges according to Unit Type\")  + \\\n",
    "ggsize(700, 500)"
   ],
   "execution_count":28,
   "outputs":[
    {
     "data":{
      "text\/html":[
       "<html lang=\"en\">\n",
       "   <head>\n",
       "       <script type=\"text\/javascript\" data-lets-plot-script=\"library\" src=\"https:\/\/cdn.jsdelivr.net\/gh\/JetBrains\/lets-plot@v2.4.0\/js-package\/distr\/lets-plot.min.js\"><\/script>\n",
       "   <\/head>\n",
       "   <body>\n",
       "          <div id=\"RORXi1\"><\/div>\n",
       "   <script type=\"text\/javascript\" data-lets-plot-script=\"plot\">\n",
       "       var plotSpec={\n",
       "\"mapping\":{\n",
       "},\n",
       "\"data_meta\":{\n",
       "},\n",
       "\"ggtitle\":{\n",
       "\"text\":\"Scheduled Charges according to Unit Type\"\n",
       "},\n",
       "\"ggsize\":{\n",
       "\"width\":700,\n",
       "\"height\":500\n",
       "},\n",
       "\"kind\":\"plot\",\n",
       "\"scales\":[],\n",
       "\"layers\":[{\n",
       "\"geom\":\"bar\",\n",
       "\"stat\":\"identity\",\n",
       "\"data\":{\n",
       "\"Unit Type\":[\"1 Bedroom\",\"2 Bedroom\",\"3 Bedroom\",\"4 Bedroom\",\"5 Bedroom\",\"6 Bedroom\",\"Murphy\",\"Studio\"],\n",
       "\"Scheduled Charges\":[1138.2105516431925,989.5251905311777,962.1759442508711,936.3703593021247,1023.6746666666667,1050.1470588235295,1235.455357142857,1363.551100795756]\n",
       "},\n",
       "\"mapping\":{\n",
       "\"x\":\"Unit Type\",\n",
       "\"y\":\"Scheduled Charges\",\n",
       "\"color\":\"Unit Type\",\n",
       "\"fill\":\"Unit Type\"\n",
       "},\n",
       "\"sampling\":\"none\",\n",
       "\"data_meta\":{\n",
       "}\n",
       "}]\n",
       "};\n",
       "       var plotContainer = document.getElementById(\"RORXi1\");\n",
       "       LetsPlot.buildPlotFromProcessedSpecs(plotSpec, -1, -1, plotContainer);\n",
       "   <\/script>\n",
       "   <\/body>\n",
       "<\/html>"
      ]
     },
     "metadata":{
      
     },
     "output_type":"display_data"
    }
   ],
   "metadata":{
    "datalore":{
     "type":"PLOT",
     "hide_input_from_viewers":false,
     "hide_output_from_viewers":false,
     "node_id":"ihvG1GugneoIIg3zwnpsSl",
     "plot_state":{
      "label":"Scheduled Charges according to Unit Type",
      "width":700,
      "height":500,
      "sampling":true,
      "reactive":true,
      "plots":[
       {
        "type":"BAR",
        "variable":"compare_avg_unit_rent",
        "xAxis":{
         "label":"",
         "value":"Unit Type",
         "scale":"NONE"
        },
        "yAxis":{
         "label":"",
         "value":"Scheduled Charges",
         "scale":"NONE"
        },
        "colorAxis":{
         "label":"",
         "value":"Unit Type",
         "scale":"NONE"
        }
       }
      ]
     }
    }
   }
  },
  {
   "cell_type":"markdown",
   "source":[
    "### Average Scheduled Charges by Gender and Lease Status"
   ],
   "attachments":{
    
   },
   "metadata":{
    "datalore":{
     "type":"MD",
     "hide_input_from_viewers":false,
     "hide_output_from_viewers":false,
     "node_id":"V3X9B6i5WyJLDPMa3TS59n"
    }
   }
  },
  {
   "cell_type":"code",
   "source":[
    "# Find the MEAN rent price for each different Unit Type\n",
    "\n",
    "compare_gender_status = new_vs_renewal[[\"Lease Status\", \"Unit Type\", \"Scheduled Charges\",\"Gender\"]].groupby(by=[\"Gender\", \"Lease Status\"], as_index=False).mean()\n",
    "compare_gender_status"
   ],
   "execution_count":29,
   "outputs":[
    {
     "data":{
      "text\/html":[
       "<div>\n",
       "<style scoped>\n",
       "    .dataframe tbody tr th:only-of-type {\n",
       "        vertical-align: middle;\n",
       "    }\n",
       "\n",
       "    .dataframe tbody tr th {\n",
       "        vertical-align: top;\n",
       "    }\n",
       "\n",
       "    .dataframe thead th {\n",
       "        text-align: right;\n",
       "    }\n",
       "<\/style>\n",
       "<table border=\"1\" class=\"dataframe\">\n",
       "  <thead>\n",
       "    <tr style=\"text-align: right;\">\n",
       "      <th><\/th>\n",
       "      <th>Gender<\/th>\n",
       "      <th>Lease Status<\/th>\n",
       "      <th>Scheduled Charges<\/th>\n",
       "    <\/tr>\n",
       "  <\/thead>\n",
       "  <tbody>\n",
       "    <tr>\n",
       "      <th>0<\/th>\n",
       "      <td>Female<\/td>\n",
       "      <td>Lease Approved<\/td>\n",
       "      <td>1006.679422<\/td>\n",
       "    <\/tr>\n",
       "    <tr>\n",
       "      <th>1<\/th>\n",
       "      <td>Female<\/td>\n",
       "      <td>Renewal Lease Approved<\/td>\n",
       "      <td>997.040569<\/td>\n",
       "    <\/tr>\n",
       "    <tr>\n",
       "      <th>2<\/th>\n",
       "      <td>Male<\/td>\n",
       "      <td>Lease Approved<\/td>\n",
       "      <td>1009.832478<\/td>\n",
       "    <\/tr>\n",
       "    <tr>\n",
       "      <th>3<\/th>\n",
       "      <td>Male<\/td>\n",
       "      <td>Renewal Lease Approved<\/td>\n",
       "      <td>1015.936727<\/td>\n",
       "    <\/tr>\n",
       "    <tr>\n",
       "      <th>4<\/th>\n",
       "      <td>No Data<\/td>\n",
       "      <td>Lease Approved<\/td>\n",
       "      <td>1074.310648<\/td>\n",
       "    <\/tr>\n",
       "    <tr>\n",
       "      <th>5<\/th>\n",
       "      <td>No Data<\/td>\n",
       "      <td>Renewal Lease Approved<\/td>\n",
       "      <td>820.446965<\/td>\n",
       "    <\/tr>\n",
       "  <\/tbody>\n",
       "<\/table>\n",
       "<\/div>"
      ]
     },
     "metadata":{
      
     },
     "output_type":"display_data"
    }
   ],
   "metadata":{
    "datalore":{
     "type":"CODE",
     "hide_input_from_viewers":false,
     "hide_output_from_viewers":false,
     "node_id":"G38svoB2nQph3qOCRsUTg3"
    }
   }
  },
  {
   "cell_type":"code",
   "source":[
    "from lets_plot import * \n",
    "ggplot() + \\\n",
    "geom_bar(aes(x=\"Gender\", y=\"Scheduled Charges\", color=\"Lease Status\", fill=\"Lease Status\"), data=compare_gender_status, sampling=\"none\" if compare_gender_status.size < 50 else sampling_pick(n=50), stat=\"identity\") + \\\n",
    "ggtitle(\"Rent Charges according to Gender - grouped by Lease Status\")  + \\\n",
    "ggsize(700, 500)"
   ],
   "execution_count":30,
   "outputs":[
    {
     "data":{
      "text\/html":[
       "<html lang=\"en\">\n",
       "   <head>\n",
       "       <script type=\"text\/javascript\" data-lets-plot-script=\"library\" src=\"https:\/\/cdn.jsdelivr.net\/gh\/JetBrains\/lets-plot@v2.4.0\/js-package\/distr\/lets-plot.min.js\"><\/script>\n",
       "   <\/head>\n",
       "   <body>\n",
       "          <div id=\"e1jfsL\"><\/div>\n",
       "   <script type=\"text\/javascript\" data-lets-plot-script=\"plot\">\n",
       "       var plotSpec={\n",
       "\"mapping\":{\n",
       "},\n",
       "\"data_meta\":{\n",
       "},\n",
       "\"ggtitle\":{\n",
       "\"text\":\"Rent Charges according to Gender - grouped by Lease Status\"\n",
       "},\n",
       "\"ggsize\":{\n",
       "\"width\":700,\n",
       "\"height\":500\n",
       "},\n",
       "\"kind\":\"plot\",\n",
       "\"scales\":[],\n",
       "\"layers\":[{\n",
       "\"geom\":\"bar\",\n",
       "\"stat\":\"identity\",\n",
       "\"data\":{\n",
       "\"Gender\":[\"Female\",\"Female\",\"Male\",\"Male\",\"No Data\",\"No Data\"],\n",
       "\"Lease Status\":[\"Lease Approved\",\"Renewal Lease Approved\",\"Lease Approved\",\"Renewal Lease Approved\",\"Lease Approved\",\"Renewal Lease Approved\"],\n",
       "\"Scheduled Charges\":[1006.6794219245683,997.0405692488263,1009.8324775962045,1015.9367274305556,1074.3106477732792,820.4469649805447]\n",
       "},\n",
       "\"mapping\":{\n",
       "\"x\":\"Gender\",\n",
       "\"y\":\"Scheduled Charges\",\n",
       "\"color\":\"Lease Status\",\n",
       "\"fill\":\"Lease Status\"\n",
       "},\n",
       "\"sampling\":\"none\",\n",
       "\"data_meta\":{\n",
       "}\n",
       "}]\n",
       "};\n",
       "       var plotContainer = document.getElementById(\"e1jfsL\");\n",
       "       LetsPlot.buildPlotFromProcessedSpecs(plotSpec, -1, -1, plotContainer);\n",
       "   <\/script>\n",
       "   <\/body>\n",
       "<\/html>"
      ]
     },
     "metadata":{
      
     },
     "output_type":"display_data"
    }
   ],
   "metadata":{
    "datalore":{
     "type":"PLOT",
     "hide_input_from_viewers":false,
     "hide_output_from_viewers":false,
     "node_id":"8uwggTkhRuyGUmvbtERAcU",
     "plot_state":{
      "label":"Rent Charges according to Gender - grouped by Lease Status",
      "width":700,
      "height":500,
      "sampling":true,
      "reactive":true,
      "plots":[
       {
        "type":"BAR",
        "variable":"compare_gender_status",
        "xAxis":{
         "label":"",
         "value":"Gender",
         "scale":"NONE"
        },
        "yAxis":{
         "label":"",
         "value":"Scheduled Charges",
         "scale":"NONE"
        },
        "colorAxis":{
         "label":"",
         "value":"Lease Status",
         "scale":"NONE"
        }
       }
      ]
     }
    }
   }
  },
  {
   "cell_type":"markdown",
   "source":[
    "## C. Time Series Analysis"
   ],
   "attachments":{
    
   },
   "metadata":{
    "datalore":{
     "type":"MD",
     "hide_input_from_viewers":false,
     "hide_output_from_viewers":false,
     "node_id":"XdFPzUfymfRpWOmFf4PJGJ"
    }
   }
  },
  {
   "cell_type":"markdown",
   "source":[
    "sorted_df: A DataFrame copy without any missing data in the date columns"
   ],
   "attachments":{
    
   },
   "metadata":{
    "datalore":{
     "type":"MD",
     "hide_input_from_viewers":false,
     "hide_output_from_viewers":false,
     "node_id":"tu1SxctR4szVDEc4aAlhKU"
    }
   }
  },
  {
   "cell_type":"code",
   "source":[
    "# This is where we'll be anaylzing the date columns in our DataFrame. This is where we'll drop any missing dataframe rows\n",
    "# that don't contain a 'Lease - Approved' date. We can drop the other date rows entirely, \n",
    "# because we aren't concerned about those dates.\n",
    "\n",
    "drop_missing = leasing_df.dropna()\n",
    "\n",
    "# First, sort DataFrame leasing_df in chronological order, according to Lease - Start date.\n",
    "\n",
    "sorted_df = drop_missing.sort_values(by=\"Lease - Started\")\n",
    "\n",
    "# Next, we're going to set the column Lease - Started date to be the index.\n",
    "months_index = sorted_df[\"Lease - Started\"].dt.to_period(\"M\")\n",
    "sorted_df.set_index(months_index, inplace=True)\n",
    "sorted_df[\"Start Month\"] = [n for n in months_index]\n",
    "# Finally, let's roemove any outliers in the data. \n",
    "sorted_df = sorted_df[sorted_df[\"Scheduled Charges\"] <= 1800]\n",
    "\n",
    "sorted_df"
   ],
   "execution_count":31,
   "outputs":[
    {
     "data":{
      "text\/html":[
       "<div>\n",
       "<style scoped>\n",
       "    .dataframe tbody tr th:only-of-type {\n",
       "        vertical-align: middle;\n",
       "    }\n",
       "\n",
       "    .dataframe tbody tr th {\n",
       "        vertical-align: top;\n",
       "    }\n",
       "\n",
       "    .dataframe thead th {\n",
       "        text-align: right;\n",
       "    }\n",
       "<\/style>\n",
       "<table border=\"1\" class=\"dataframe\">\n",
       "  <thead>\n",
       "    <tr style=\"text-align: right;\">\n",
       "      <th><\/th>\n",
       "      <th>Property<\/th>\n",
       "      <th>Unit Type<\/th>\n",
       "      <th>Unit Status<\/th>\n",
       "      <th>Gender<\/th>\n",
       "      <th>Lease Status<\/th>\n",
       "      <th>Lease - Started<\/th>\n",
       "      <th>Lease - Partially Completed<\/th>\n",
       "      <th>Lease - Completed<\/th>\n",
       "      <th>Lease - Approved<\/th>\n",
       "      <th>Budgeted Rent<\/th>\n",
       "      <th>Scheduled Charges<\/th>\n",
       "      <th>Start Month<\/th>\n",
       "    <\/tr>\n",
       "    <tr>\n",
       "      <th>Lease - Started<\/th>\n",
       "      <th><\/th>\n",
       "      <th><\/th>\n",
       "      <th><\/th>\n",
       "      <th><\/th>\n",
       "      <th><\/th>\n",
       "      <th><\/th>\n",
       "      <th><\/th>\n",
       "      <th><\/th>\n",
       "      <th><\/th>\n",
       "      <th><\/th>\n",
       "      <th><\/th>\n",
       "      <th><\/th>\n",
       "    <\/tr>\n",
       "  <\/thead>\n",
       "  <tbody>\n",
       "    <tr>\n",
       "      <th>2021-03<\/th>\n",
       "      <td>Village Road<\/td>\n",
       "      <td>1 Bedroom<\/td>\n",
       "      <td>Occupied No Notice<\/td>\n",
       "      <td>Male<\/td>\n",
       "      <td>Renewal Lease Approved<\/td>\n",
       "      <td>2021-03-18<\/td>\n",
       "      <td>2021-04-08<\/td>\n",
       "      <td>2021-04-08<\/td>\n",
       "      <td>2021-04-08<\/td>\n",
       "      <td>1704.00<\/td>\n",
       "      <td>1478.85<\/td>\n",
       "      <td>2021-03<\/td>\n",
       "    <\/tr>\n",
       "    <tr>\n",
       "      <th>2021-06<\/th>\n",
       "      <td>Village Road<\/td>\n",
       "      <td>Studio<\/td>\n",
       "      <td>Occupied No Notice<\/td>\n",
       "      <td>Male<\/td>\n",
       "      <td>Lease Approved<\/td>\n",
       "      <td>2021-06-04<\/td>\n",
       "      <td>2021-06-05<\/td>\n",
       "      <td>2021-06-05<\/td>\n",
       "      <td>2021-06-07<\/td>\n",
       "      <td>1309.00<\/td>\n",
       "      <td>1272.16<\/td>\n",
       "      <td>2021-06<\/td>\n",
       "    <\/tr>\n",
       "    <tr>\n",
       "      <th>2021-06<\/th>\n",
       "      <td>Village Road<\/td>\n",
       "      <td>Studio<\/td>\n",
       "      <td>Occupied No Notice<\/td>\n",
       "      <td>Male<\/td>\n",
       "      <td>Lease Approved<\/td>\n",
       "      <td>2021-06-15<\/td>\n",
       "      <td>2021-06-15<\/td>\n",
       "      <td>2021-06-15<\/td>\n",
       "      <td>2021-06-15<\/td>\n",
       "      <td>1340.00<\/td>\n",
       "      <td>1158.85<\/td>\n",
       "      <td>2021-06<\/td>\n",
       "    <\/tr>\n",
       "    <tr>\n",
       "      <th>2021-06<\/th>\n",
       "      <td>Village Road<\/td>\n",
       "      <td>Studio<\/td>\n",
       "      <td>Occupied No Notice<\/td>\n",
       "      <td>Female<\/td>\n",
       "      <td>Lease Approved<\/td>\n",
       "      <td>2021-06-29<\/td>\n",
       "      <td>2021-06-30<\/td>\n",
       "      <td>2021-07-05<\/td>\n",
       "      <td>2021-07-06<\/td>\n",
       "      <td>1309.00<\/td>\n",
       "      <td>1161.39<\/td>\n",
       "      <td>2021-06<\/td>\n",
       "    <\/tr>\n",
       "    <tr>\n",
       "      <th>2021-06<\/th>\n",
       "      <td>Village Road<\/td>\n",
       "      <td>Murphy<\/td>\n",
       "      <td>Occupied No Notice<\/td>\n",
       "      <td>Male<\/td>\n",
       "      <td>Lease Approved<\/td>\n",
       "      <td>2021-06-29<\/td>\n",
       "      <td>2021-06-29<\/td>\n",
       "      <td>2021-06-29<\/td>\n",
       "      <td>2021-06-29<\/td>\n",
       "      <td>1209.00<\/td>\n",
       "      <td>1097.20<\/td>\n",
       "      <td>2021-06<\/td>\n",
       "    <\/tr>\n",
       "    <tr>\n",
       "      <th>...<\/th>\n",
       "      <td>...<\/td>\n",
       "      <td>...<\/td>\n",
       "      <td>...<\/td>\n",
       "      <td>...<\/td>\n",
       "      <td>...<\/td>\n",
       "      <td>...<\/td>\n",
       "      <td>...<\/td>\n",
       "      <td>...<\/td>\n",
       "      <td>...<\/td>\n",
       "      <td>...<\/td>\n",
       "      <td>...<\/td>\n",
       "      <td>...<\/td>\n",
       "    <\/tr>\n",
       "    <tr>\n",
       "      <th>2022-05<\/th>\n",
       "      <td>University Side<\/td>\n",
       "      <td>5 Bedroom<\/td>\n",
       "      <td>Notice Rented<\/td>\n",
       "      <td>Male<\/td>\n",
       "      <td>Lease Approved<\/td>\n",
       "      <td>2022-05-26<\/td>\n",
       "      <td>2022-01-24<\/td>\n",
       "      <td>2022-03-24<\/td>\n",
       "      <td>2022-05-27<\/td>\n",
       "      <td>955.00<\/td>\n",
       "      <td>991.00<\/td>\n",
       "      <td>2022-05<\/td>\n",
       "    <\/tr>\n",
       "    <tr>\n",
       "      <th>2022-05<\/th>\n",
       "      <td>Campus Housing<\/td>\n",
       "      <td>4 Bedroom<\/td>\n",
       "      <td>Vacant Rented Ready<\/td>\n",
       "      <td>Male<\/td>\n",
       "      <td>Lease Approved<\/td>\n",
       "      <td>2022-05-26<\/td>\n",
       "      <td>2022-03-24<\/td>\n",
       "      <td>2022-05-03<\/td>\n",
       "      <td>2022-05-26<\/td>\n",
       "      <td>0.00<\/td>\n",
       "      <td>1082.00<\/td>\n",
       "      <td>2022-05<\/td>\n",
       "    <\/tr>\n",
       "    <tr>\n",
       "      <th>2022-05<\/th>\n",
       "      <td>University Hill<\/td>\n",
       "      <td>3 Bedroom<\/td>\n",
       "      <td>Occupied No Notice<\/td>\n",
       "      <td>No Data<\/td>\n",
       "      <td>Renewal Lease Approved<\/td>\n",
       "      <td>2022-05-26<\/td>\n",
       "      <td>2022-05-26<\/td>\n",
       "      <td>2022-05-26<\/td>\n",
       "      <td>2022-05-26<\/td>\n",
       "      <td>592.41<\/td>\n",
       "      <td>615.00<\/td>\n",
       "      <td>2022-05<\/td>\n",
       "    <\/tr>\n",
       "    <tr>\n",
       "      <th>2022-05<\/th>\n",
       "      <td>Park Road<\/td>\n",
       "      <td>4 Bedroom<\/td>\n",
       "      <td>No Data<\/td>\n",
       "      <td>Female<\/td>\n",
       "      <td>Renewal Lease Approved<\/td>\n",
       "      <td>2022-05-27<\/td>\n",
       "      <td>2022-05-27<\/td>\n",
       "      <td>2022-05-27<\/td>\n",
       "      <td>2022-05-27<\/td>\n",
       "      <td>0.00<\/td>\n",
       "      <td>862.00<\/td>\n",
       "      <td>2022-05<\/td>\n",
       "    <\/tr>\n",
       "    <tr>\n",
       "      <th>2022-05<\/th>\n",
       "      <td>Village Villages<\/td>\n",
       "      <td>1 Bedroom<\/td>\n",
       "      <td>No Data<\/td>\n",
       "      <td>Female<\/td>\n",
       "      <td>Lease Approved<\/td>\n",
       "      <td>2022-05-27<\/td>\n",
       "      <td>2022-05-26<\/td>\n",
       "      <td>2022-05-26<\/td>\n",
       "      <td>2022-05-27<\/td>\n",
       "      <td>0.00<\/td>\n",
       "      <td>1637.00<\/td>\n",
       "      <td>2022-05<\/td>\n",
       "    <\/tr>\n",
       "  <\/tbody>\n",
       "<\/table>\n",
       "<p>12873 rows × 12 columns<\/p>\n",
       "<\/div>"
      ]
     },
     "metadata":{
      
     },
     "output_type":"display_data"
    }
   ],
   "metadata":{
    "datalore":{
     "type":"CODE",
     "hide_input_from_viewers":false,
     "hide_output_from_viewers":false,
     "node_id":"tDYh7xKOLjJZcYzGHLw4Rv"
    }
   }
  },
  {
   "cell_type":"code",
   "source":[
    "# Since 4 Bedroom units are our most popular, lets only visualize the leasing velocity of that Unit Type\n",
    "beds4 = sorted_df[sorted_df[\"Unit Type\"] == \"4 Bedroom\"]\n",
    "\n",
    "# Used for X-Axis\n",
    "dates = beds4[\"Lease - Started\"].to_list()\n",
    "\n",
    "# Y-Axis\n",
    "count = [n for n in range(0, len(dates))]\n",
    "\n",
    "plt.figure(figsize=(15,7))\n",
    "plt.title(\"4 Bedroom Unit Velocity\")\n",
    "\n",
    "# Plot Data\n",
    "plt.scatter(dates, count, linewidths=1)\n",
    "\n",
    "plt.show()"
   ],
   "execution_count":32,
   "outputs":[
    {
     "data":{
      "image\/png":"[encoded data removed]"
     },
     "metadata":{
      "image\/png":{
       
      }
     },
     "output_type":"display_data"
    }
   ],
   "metadata":{
    "datalore":{
     "type":"CODE",
     "hide_input_from_viewers":false,
     "hide_output_from_viewers":false,
     "node_id":"xNyVejLbZNEpBbqKXOSGN6"
    }
   }
  },
  {
   "cell_type":"code",
   "source":[
    "# Plot the Leasing velocity of each Unit Type\n",
    "\n",
    "unit_types = list(set(leasing_df[\"Unit Type\"].to_list()))\n",
    "\n",
    "unit_types = sorted(unit_types)\n",
    "\n",
    "# Drop unwanted key\n",
    "unit_types = unit_types[:-5]\n",
    "\n",
    "#Declare figure size\n",
    "plt.figure(figsize=(18,10))\n",
    "\n",
    "# Get rid of any early outlier dates that may have occured prior to the true start of leasing which was September 2021\n",
    "temp = sorted_df[sorted_df[\"Lease - Approved\"] >= datetime(2021, 9, 1)]\n",
    "\n",
    "# Loop through the list of 7 different Unit Types and plot each\n",
    "for unit in unit_types:\n",
    "    beds = temp[temp[\"Unit Type\"] == unit]\n",
    "    date_count = beds[\"Lease - Approved\"].value_counts().sort_index(ascending=True)\n",
    "    dates = [i for i in date_count.index]\n",
    "    count = date_count.values\n",
    "    plt.plot(dates, count)\n",
    "\n",
    "plt.legend(unit_types)\n",
    "plt.title(\"Unit Type Velocity\")\n",
    "plt.show()"
   ],
   "execution_count":33,
   "outputs":[
    {
     "data":{
      "image\/png":"[encoded data removed]"
     },
     "metadata":{
      "image\/png":{
       
      }
     },
     "output_type":"display_data"
    }
   ],
   "metadata":{
    "datalore":{
     "type":"CODE",
     "hide_input_from_viewers":false,
     "hide_output_from_viewers":false,
     "node_id":"Nhh4eVtA6GX5flpJWi6A0t"
    }
   }
  },
  {
   "cell_type":"markdown",
   "source":[
    "## Create new Dataframe with Metrics according to Unit Types"
   ],
   "attachments":{
    
   },
   "metadata":{
    "datalore":{
     "type":"MD",
     "hide_input_from_viewers":false,
     "hide_output_from_viewers":false,
     "node_id":"J1DMQlUotlCdqtjAfHQTmr"
    }
   }
  },
  {
   "cell_type":"code",
   "source":[
    "# Create temp list of Unit Types\n",
    "unit_type_list = ['5 Bedroom', '4 Bedroom', 'Murphy', '6 Bedroom', 'Studio', '3 Bedroom', '1 Bedroom', '2 Bedroom']\n",
    "\n",
    "units_df2 = sorted_df.groupby(\"Unit Type\").aggregate({'Unit Type':'count', 'Scheduled Charges':['sum', 'mean']})\n",
    "\n",
    "units_df = leasing_df[leasing_df[\"Unit Type\"].isin(unit_type_list)]\n",
    "\n",
    "total_count = units_df[\"Unit Type\"].value_counts().sort_index()\n",
    "\n",
    "units_df2"
   ],
   "execution_count":34,
   "outputs":[
    {
     "data":{
      "text\/html":[
       "<div>\n",
       "<style scoped>\n",
       "    .dataframe tbody tr th:only-of-type {\n",
       "        vertical-align: middle;\n",
       "    }\n",
       "\n",
       "    .dataframe tbody tr th {\n",
       "        vertical-align: top;\n",
       "    }\n",
       "\n",
       "    .dataframe thead tr th {\n",
       "        text-align: left;\n",
       "    }\n",
       "\n",
       "    .dataframe thead tr:last-of-type th {\n",
       "        text-align: right;\n",
       "    }\n",
       "<\/style>\n",
       "<table border=\"1\" class=\"dataframe\">\n",
       "  <thead>\n",
       "    <tr>\n",
       "      <th><\/th>\n",
       "      <th>Unit Type<\/th>\n",
       "      <th colspan=\"2\" halign=\"left\">Scheduled Charges<\/th>\n",
       "    <\/tr>\n",
       "    <tr>\n",
       "      <th><\/th>\n",
       "      <th>count<\/th>\n",
       "      <th>sum<\/th>\n",
       "      <th>mean<\/th>\n",
       "    <\/tr>\n",
       "    <tr>\n",
       "      <th>Unit Type<\/th>\n",
       "      <th><\/th>\n",
       "      <th><\/th>\n",
       "      <th><\/th>\n",
       "    <\/tr>\n",
       "  <\/thead>\n",
       "  <tbody>\n",
       "    <tr>\n",
       "      <th>1 Bedroom<\/th>\n",
       "      <td>817<\/td>\n",
       "      <td>901531.47<\/td>\n",
       "      <td>1103.465692<\/td>\n",
       "    <\/tr>\n",
       "    <tr>\n",
       "      <th>2 Bedroom<\/th>\n",
       "      <td>3417<\/td>\n",
       "      <td>3321541.45<\/td>\n",
       "      <td>972.063638<\/td>\n",
       "    <\/tr>\n",
       "    <tr>\n",
       "      <th>3 Bedroom<\/th>\n",
       "      <td>1429<\/td>\n",
       "      <td>1365865.48<\/td>\n",
       "      <td>955.819090<\/td>\n",
       "    <\/tr>\n",
       "    <tr>\n",
       "      <th>4 Bedroom<\/th>\n",
       "      <td>5680<\/td>\n",
       "      <td>5195930.01<\/td>\n",
       "      <td>914.776410<\/td>\n",
       "    <\/tr>\n",
       "    <tr>\n",
       "      <th>5 Bedroom<\/th>\n",
       "      <td>365<\/td>\n",
       "      <td>364904.00<\/td>\n",
       "      <td>999.736986<\/td>\n",
       "    <\/tr>\n",
       "    <tr>\n",
       "      <th>6 Bedroom<\/th>\n",
       "      <td>136<\/td>\n",
       "      <td>142820.00<\/td>\n",
       "      <td>1050.147059<\/td>\n",
       "    <\/tr>\n",
       "    <tr>\n",
       "      <th>Murphy<\/th>\n",
       "      <td>282<\/td>\n",
       "      <td>348092.30<\/td>\n",
       "      <td>1234.369858<\/td>\n",
       "    <\/tr>\n",
       "    <tr>\n",
       "      <th>Studio<\/th>\n",
       "      <td>747<\/td>\n",
       "      <td>1011519.69<\/td>\n",
       "      <td>1354.109357<\/td>\n",
       "    <\/tr>\n",
       "  <\/tbody>\n",
       "<\/table>\n",
       "<\/div>"
      ]
     },
     "metadata":{
      
     },
     "output_type":"display_data"
    }
   ],
   "metadata":{
    "datalore":{
     "type":"CODE",
     "hide_input_from_viewers":false,
     "hide_output_from_viewers":false,
     "node_id":"saSudo1NO3G7QPW2KthmT9"
    }
   }
  },
  {
   "cell_type":"code",
   "source":[
    "# Output DataFrame to an Excel spreadsheet for Download\n",
    "leasing_df.to_excel(\"Reformatted Pre-Lease.xlsx\")"
   ],
   "execution_count":35,
   "outputs":[
    
   ],
   "metadata":{
    "datalore":{
     "type":"CODE",
     "hide_input_from_viewers":false,
     "hide_output_from_viewers":false,
     "node_id":"7Z69YBewgMlxLgD9I6ujLM"
    }
   }
  },
  {
   "cell_type":"markdown",
   "source":[
    "# Resident Data"
   ],
   "attachments":{
    
   },
   "metadata":{
    "datalore":{
     "type":"MD",
     "hide_input_from_viewers":false,
     "hide_output_from_viewers":false,
     "sheet_delimiter":true
    }
   }
  },
  {
   "cell_type":"markdown",
   "source":[
    "# Resident Data Analysis\n",
    "The file, *ResidentData2.csv* contains historical data on all individuals who opened up a Guest Card with any of 39 total properties\n",
    "in the portfolio. The main difference between this dataset, and the dataset we worked with in the previous sheet, *LeasingData2.csv*, is that *LeasingData2.csv*\n",
    "only contains information on residents who go on to start a Lease. Where as *ResidentData2.csv* contains info on ALL individuals who \n",
    "are entered into the company CRM.\n",
    "\n",
    "After reading in the file and dropping a few initial columns, the dataset contains 94,758 rows and 21 columns of data."
   ],
   "attachments":{
    
   },
   "metadata":{
    "datalore":{
     "type":"MD",
     "hide_input_from_viewers":false,
     "hide_output_from_viewers":false,
     "node_id":"BvOEo2vxzg7BapIsO9yT0S"
    }
   }
  },
  {
   "cell_type":"code",
   "source":[
    "import pandas as pd\n",
    "import numpy as np\n",
    "import seaborn as sns\n",
    "from datetime import datetime, timedelta\n",
    "import matplotlib.pyplot as plt\n",
    "from scipy.stats import norm\n",
    "import openpyxl\n",
    "import random\n",
    "import calendar"
   ],
   "execution_count":36,
   "outputs":[
    
   ],
   "metadata":{
    "datalore":{
     "type":"CODE",
     "hide_input_from_viewers":false,
     "hide_output_from_viewers":false,
     "node_id":"W8aL5eicIGAPQMtorYQrSS"
    }
   }
  },
  {
   "cell_type":"code",
   "source":[
    "res_df = pd.read_csv(\"ResidentData2.csv\",parse_dates=[\"New Lead Created On\",\"Application Started\",\"Application Completed\",\n",
    "                     \"Application Approved\",\"Lease Started\",\"Lease Completed\",\"Lease Approved\"], \n",
    "                     dtype={\"Specials\":\"string\", \"Close Reason (Lead)\": \"string\", \"Primary Address - Postal Code\":\"string\"})\n",
    "res_df.drop(columns=[\"Name\",\"Year Of Study\",\"Current Lease Start\",\"Application ID\", \"Lease ID\", \"Specials\", \"Close Reason (Lead)\", \"Primary Phone\", \"E-mail\", \"Move-In Date\", \"Move-Out Date\",\n",
    "                     \"License State\", \"Application Completed\", \"Lease Completed\", \"Renewal Lease Start\", \"Renewal Lease End\", \"Area Of Study\"], inplace=True)\n",
    "\n",
    "res_df.head(5)"
   ],
   "execution_count":37,
   "outputs":[
    {
     "data":{
      "text\/html":[
       "<div>\n",
       "<style scoped>\n",
       "    .dataframe tbody tr th:only-of-type {\n",
       "        vertical-align: middle;\n",
       "    }\n",
       "\n",
       "    .dataframe tbody tr th {\n",
       "        vertical-align: top;\n",
       "    }\n",
       "\n",
       "    .dataframe thead th {\n",
       "        text-align: right;\n",
       "    }\n",
       "<\/style>\n",
       "<table border=\"1\" class=\"dataframe\">\n",
       "  <thead>\n",
       "    <tr style=\"text-align: right;\">\n",
       "      <th><\/th>\n",
       "      <th>Property<\/th>\n",
       "      <th>New Lead Created On<\/th>\n",
       "      <th>Application Started<\/th>\n",
       "      <th>Application Approved<\/th>\n",
       "      <th>Lease Started<\/th>\n",
       "      <th>Lease Approved<\/th>\n",
       "      <th>Leasing Agent (Assigned)<\/th>\n",
       "      <th>Lead Source<\/th>\n",
       "      <th>First Visit\/Tour Date<\/th>\n",
       "      <th>Application Status<\/th>\n",
       "      <th>...<\/th>\n",
       "      <th>Status<\/th>\n",
       "      <th>Scheduled Rent<\/th>\n",
       "      <th>Bldg-Unit<\/th>\n",
       "      <th>Unit Type<\/th>\n",
       "      <th>Age<\/th>\n",
       "      <th>Gender<\/th>\n",
       "      <th>Birth Date<\/th>\n",
       "      <th>Primary Address - City<\/th>\n",
       "      <th>Primary Address - STATE\/PROVINCE<\/th>\n",
       "      <th>Primary Address - Postal Code<\/th>\n",
       "    <\/tr>\n",
       "  <\/thead>\n",
       "  <tbody>\n",
       "    <tr>\n",
       "      <th>0<\/th>\n",
       "      <td>Sunny Villages<\/td>\n",
       "      <td>2022-01-19<\/td>\n",
       "      <td>2022-01-19<\/td>\n",
       "      <td>2022-01-19<\/td>\n",
       "      <td>2022-01-19<\/td>\n",
       "      <td>2022-01-19<\/td>\n",
       "      <td>Freeman, Lance<\/td>\n",
       "      <td>Unknown<\/td>\n",
       "      <td>NaN<\/td>\n",
       "      <td>Lease Approved<\/td>\n",
       "      <td>...<\/td>\n",
       "      <td>Current<\/td>\n",
       "      <td>690<\/td>\n",
       "      <td>3-101-A<\/td>\n",
       "      <td>4x4<\/td>\n",
       "      <td>NaN<\/td>\n",
       "      <td>NaN<\/td>\n",
       "      <td>NaN<\/td>\n",
       "      <td>TAMPA<\/td>\n",
       "      <td>FL<\/td>\n",
       "      <td>33613<\/td>\n",
       "    <\/tr>\n",
       "    <tr>\n",
       "      <th>1<\/th>\n",
       "      <td>Sunny Villages<\/td>\n",
       "      <td>2022-01-19<\/td>\n",
       "      <td>2022-01-19<\/td>\n",
       "      <td>2022-01-19<\/td>\n",
       "      <td>2022-01-19<\/td>\n",
       "      <td>2022-01-19<\/td>\n",
       "      <td>Freeman, Lance<\/td>\n",
       "      <td>Unknown<\/td>\n",
       "      <td>NaN<\/td>\n",
       "      <td>Lease Approved<\/td>\n",
       "      <td>...<\/td>\n",
       "      <td>Current<\/td>\n",
       "      <td>690<\/td>\n",
       "      <td>3-101-B<\/td>\n",
       "      <td>4x4<\/td>\n",
       "      <td>NaN<\/td>\n",
       "      <td>NaN<\/td>\n",
       "      <td>NaN<\/td>\n",
       "      <td>TAMPA<\/td>\n",
       "      <td>FL<\/td>\n",
       "      <td>33613<\/td>\n",
       "    <\/tr>\n",
       "    <tr>\n",
       "      <th>2<\/th>\n",
       "      <td>Sunny Villages<\/td>\n",
       "      <td>2022-01-19<\/td>\n",
       "      <td>2022-01-19<\/td>\n",
       "      <td>2022-01-19<\/td>\n",
       "      <td>2022-01-19<\/td>\n",
       "      <td>2022-01-19<\/td>\n",
       "      <td>Freeman, Lance<\/td>\n",
       "      <td>Unknown<\/td>\n",
       "      <td>NaN<\/td>\n",
       "      <td>Lease Approved<\/td>\n",
       "      <td>...<\/td>\n",
       "      <td>Current<\/td>\n",
       "      <td>690<\/td>\n",
       "      <td>3-101-C<\/td>\n",
       "      <td>4x4<\/td>\n",
       "      <td>NaN<\/td>\n",
       "      <td>NaN<\/td>\n",
       "      <td>NaN<\/td>\n",
       "      <td>TAMPA<\/td>\n",
       "      <td>FL<\/td>\n",
       "      <td>33613<\/td>\n",
       "    <\/tr>\n",
       "    <tr>\n",
       "      <th>3<\/th>\n",
       "      <td>Sunny Villages<\/td>\n",
       "      <td>2022-01-19<\/td>\n",
       "      <td>2022-01-19<\/td>\n",
       "      <td>2022-01-19<\/td>\n",
       "      <td>2022-01-19<\/td>\n",
       "      <td>2022-01-19<\/td>\n",
       "      <td>Freeman, Lance<\/td>\n",
       "      <td>Unknown<\/td>\n",
       "      <td>NaN<\/td>\n",
       "      <td>Lease Approved<\/td>\n",
       "      <td>...<\/td>\n",
       "      <td>Current<\/td>\n",
       "      <td>690<\/td>\n",
       "      <td>3-101-D<\/td>\n",
       "      <td>4x4<\/td>\n",
       "      <td>NaN<\/td>\n",
       "      <td>NaN<\/td>\n",
       "      <td>NaN<\/td>\n",
       "      <td>TAMPA<\/td>\n",
       "      <td>FL<\/td>\n",
       "      <td>33613<\/td>\n",
       "    <\/tr>\n",
       "    <tr>\n",
       "      <th>4<\/th>\n",
       "      <td>Sunny Villages<\/td>\n",
       "      <td>2022-03-30<\/td>\n",
       "      <td>2022-04-27<\/td>\n",
       "      <td>NaT<\/td>\n",
       "      <td>NaT<\/td>\n",
       "      <td>NaT<\/td>\n",
       "      <td>McElhaney, Maggie<\/td>\n",
       "      <td>Other<\/td>\n",
       "      <td>3\/30\/22<\/td>\n",
       "      <td>Application Archived<\/td>\n",
       "      <td>...<\/td>\n",
       "      <td>Applicant<\/td>\n",
       "      <td>NaN<\/td>\n",
       "      <td>NaN<\/td>\n",
       "      <td>NaN<\/td>\n",
       "      <td>NaN<\/td>\n",
       "      <td>NaN<\/td>\n",
       "      <td>NaN<\/td>\n",
       "      <td>Tampa<\/td>\n",
       "      <td>FL<\/td>\n",
       "      <td>33613<\/td>\n",
       "    <\/tr>\n",
       "  <\/tbody>\n",
       "<\/table>\n",
       "<p>5 rows × 21 columns<\/p>\n",
       "<\/div>"
      ]
     },
     "metadata":{
      
     },
     "output_type":"display_data"
    }
   ],
   "metadata":{
    "datalore":{
     "type":"CODE",
     "hide_input_from_viewers":false,
     "hide_output_from_viewers":false,
     "node_id":"5cyLoGIpp4a5ijVseLgO2S"
    }
   }
  },
  {
   "cell_type":"code",
   "source":[
    "# Get number of rows and columns\n",
    "\n",
    "res_df.shape"
   ],
   "execution_count":38,
   "outputs":[
    {
     "data":{
      "text\/plain":[
       "(94758, 21)"
      ]
     },
     "metadata":{
      
     },
     "output_type":"display_data"
    }
   ],
   "metadata":{
    "datalore":{
     "type":"CODE",
     "hide_input_from_viewers":false,
     "hide_output_from_viewers":false,
     "node_id":"viXrZjOMo0uurBe3Gt7gkw"
    }
   }
  },
  {
   "cell_type":"code",
   "source":[
    "# Modify dtypes for specified columns\n",
    "\n",
    "res_df[[\"Status\", \"Application Status\",\"Bldg-Unit\", \"Unit Type\", \"First Visit\/Tour Date\"]] = res_df[[\"Status\", \n",
    "                                        \"Application Status\",\"Bldg-Unit\", \"Unit Type\", \"First Visit\/Tour Date\"]].astype(\"string\")"
   ],
   "execution_count":39,
   "outputs":[
    
   ],
   "metadata":{
    "datalore":{
     "type":"CODE",
     "hide_input_from_viewers":false,
     "hide_output_from_viewers":false,
     "node_id":"yaMfyUPtVDROkLyXISCj5Q"
    }
   }
  },
  {
   "cell_type":"code",
   "source":[
    "# info() prints information about a DataFrame including the index dtype and columns, non-null values and memory usage.\n",
    "\n",
    "res_df.info()"
   ],
   "execution_count":40,
   "outputs":[
    {
     "name":"stdout",
     "text":[
      "<class 'pandas.core.frame.DataFrame'>\n",
      "RangeIndex: 94758 entries, 0 to 94757\n",
      "Data columns (total 21 columns):\n",
      " #   Column                            Non-Null Count  Dtype         \n",
      "---  ------                            --------------  -----         \n",
      " 0   Property                          94758 non-null  object        \n",
      " 1   New Lead Created On               94758 non-null  datetime64[ns]\n",
      " 2   Application Started               61995 non-null  datetime64[ns]\n",
      " 3   Application Approved              42979 non-null  datetime64[ns]\n",
      " 4   Lease Started                     39656 non-null  datetime64[ns]\n",
      " 5   Lease Approved                    37767 non-null  datetime64[ns]\n",
      " 6   Leasing Agent (Assigned)          74946 non-null  object        \n",
      " 7   Lead Source                       88541 non-null  object        \n",
      " 8   First Visit\/Tour Date             19156 non-null  string        \n",
      " 9   Application Status                94758 non-null  string        \n",
      " 10  Occupant Type                     94758 non-null  object        \n",
      " 11  Status                            65577 non-null  string        \n",
      " 12  Scheduled Rent                    18372 non-null  object        \n",
      " 13  Bldg-Unit                         40452 non-null  string        \n",
      " 14  Unit Type                         39982 non-null  string        \n",
      " 15  Age                               58360 non-null  float64       \n",
      " 16  Gender                            50941 non-null  object        \n",
      " 17  Birth Date                        58360 non-null  object        \n",
      " 18  Primary Address - City            65562 non-null  object        \n",
      " 19  Primary Address - STATE\/PROVINCE  65579 non-null  object        \n",
      " 20  Primary Address - Postal Code     64058 non-null  string        \n",
      "dtypes: datetime64[ns](5), float64(1), object(9), string(6)\n",
      "memory usage: 15.2+ MB\n"
     ],
     "output_type":"stream"
    }
   ],
   "metadata":{
    "datalore":{
     "type":"CODE",
     "hide_input_from_viewers":false,
     "hide_output_from_viewers":false,
     "node_id":"l1YR5sG6Hki4nICJxGfBVP"
    }
   }
  },
  {
   "cell_type":"code",
   "source":[
    "# Print number of missing values in each column\n",
    "\n",
    "print(res_df.isnull().sum())"
   ],
   "execution_count":41,
   "outputs":[
    {
     "name":"stdout",
     "text":[
      "Property                                0\n",
      "New Lead Created On                     0\n",
      "Application Started                 32763\n",
      "Application Approved                51779\n",
      "Lease Started                       55102\n",
      "Lease Approved                      56991\n",
      "Leasing Agent (Assigned)            19812\n",
      "Lead Source                          6217\n",
      "First Visit\/Tour Date               75602\n",
      "Application Status                      0\n",
      "Occupant Type                           0\n",
      "Status                              29181\n",
      "Scheduled Rent                      76386\n",
      "Bldg-Unit                           54306\n",
      "Unit Type                           54776\n",
      "Age                                 36398\n",
      "Gender                              43817\n",
      "Birth Date                          36398\n",
      "Primary Address - City              29196\n",
      "Primary Address - STATE\/PROVINCE    29179\n",
      "Primary Address - Postal Code       30700\n",
      "dtype: int64\n"
     ],
     "output_type":"stream"
    }
   ],
   "metadata":{
    "datalore":{
     "type":"CODE",
     "hide_input_from_viewers":false,
     "hide_output_from_viewers":false,
     "node_id":"bTFou02yTuWOStszXQK6a2"
    }
   }
  },
  {
   "cell_type":"code",
   "source":[
    "# Replace missing values in columns of type 'String'\n",
    "res_df[[\"Lead Source\",\"Bldg-Unit\", \"Leasing Agent (Assigned)\", \"Gender\", \"Unit Type\", \"Status\"]] = res_df[[\"Lead Source\", \"Bldg-Unit\",\n",
    "                                            \"Leasing Agent (Assigned)\", \"Gender\", \"Unit Type\", \"Status\"]].replace(np.nan, \"Missing\")\n",
    "\n",
    "res_df[\"First Visit\/Tour Date\"] = res_df[\"First Visit\/Tour Date\"].replace(np.nan, \"No Tour\")\n",
    "\n",
    "res_df[[\"Age\", \"Scheduled Rent\"]] = res_df[[\"Age\", \"Scheduled Rent\"]].replace(np.nan, 0)"
   ],
   "execution_count":42,
   "outputs":[
    
   ],
   "metadata":{
    "datalore":{
     "type":"CODE",
     "hide_input_from_viewers":false,
     "hide_output_from_viewers":false,
     "node_id":"Bxkrt2kiuClhQkgSxld7ei"
    }
   }
  },
  {
   "cell_type":"code",
   "source":[
    "print(res_df.isnull().sum())"
   ],
   "execution_count":43,
   "outputs":[
    {
     "name":"stdout",
     "text":[
      "Property                                0\n",
      "New Lead Created On                     0\n",
      "Application Started                 32763\n",
      "Application Approved                51779\n",
      "Lease Started                       55102\n",
      "Lease Approved                      56991\n",
      "Leasing Agent (Assigned)                0\n",
      "Lead Source                             0\n",
      "First Visit\/Tour Date                   0\n",
      "Application Status                      0\n",
      "Occupant Type                           0\n",
      "Status                                  0\n",
      "Scheduled Rent                          0\n",
      "Bldg-Unit                               0\n",
      "Unit Type                               0\n",
      "Age                                     0\n",
      "Gender                                  0\n",
      "Birth Date                          36398\n",
      "Primary Address - City              29196\n",
      "Primary Address - STATE\/PROVINCE    29179\n",
      "Primary Address - Postal Code       30700\n",
      "dtype: int64\n"
     ],
     "output_type":"stream"
    }
   ],
   "metadata":{
    "datalore":{
     "type":"CODE",
     "hide_input_from_viewers":false,
     "hide_output_from_viewers":false,
     "node_id":"1Yd6yTq7H0R00PVckV1MYH"
    }
   }
  },
  {
   "cell_type":"code",
   "source":[
    "# In the student-housing industry, the leasing season takes places during the same months that a typical American \n",
    "# college\/university holds classes. Due to this, we only want to analyze data between September 2021 and May 2022 (Inclusive)\n",
    "\n",
    "ay_21_22 = res_df[res_df[\"New Lead Created On\"] >= datetime(2021, 8, 1)].copy()\n",
    "\n",
    "ay_21_22.shape"
   ],
   "execution_count":44,
   "outputs":[
    {
     "data":{
      "text\/plain":[
       "(55729, 21)"
      ]
     },
     "metadata":{
      
     },
     "output_type":"display_data"
    }
   ],
   "metadata":{
    "datalore":{
     "type":"CODE",
     "hide_input_from_viewers":false,
     "hide_output_from_viewers":false,
     "node_id":"eNUmcnPdIXJPPJ0QCAyxkg"
    }
   }
  },
  {
   "cell_type":"markdown",
   "source":[
    "### This is where we will begin creating a new Dataframe with information and data \n",
    "### that we will produce from the provided dataset."
   ],
   "attachments":{
    
   },
   "metadata":{
    "datalore":{
     "type":"MD",
     "hide_input_from_viewers":false,
     "hide_output_from_viewers":false,
     "node_id":"EQEixvCY9LzNvI8WfpCoYI"
    }
   }
  },
  {
   "cell_type":"code",
   "source":[
    "# First, I will use the value_counts() built-in Python function to get the total number of times each property name appears in our\n",
    "# dataset. \n",
    "rank_properties = ay_21_22[\"Property\"].value_counts().sort_values(ascending=False)\n",
    "\n",
    "# Number of Properties\n",
    "print(\"Unique Property Names: \" + str(len(rank_properties.index)))"
   ],
   "execution_count":45,
   "outputs":[
    {
     "name":"stdout",
     "text":[
      "Unique Property Names: 39\n"
     ],
     "output_type":"stream"
    }
   ],
   "metadata":{
    "datalore":{
     "type":"CODE",
     "hide_input_from_viewers":false,
     "hide_output_from_viewers":false,
     "node_id":"ZcAdbW0LGNMO5wbvzAgwQ3"
    }
   }
  },
  {
   "cell_type":"code",
   "source":[
    "# Initialize empty dataFrame and add data to columns.\n",
    "\n",
    "# Create a list of property names to use for the new dataframe column. \n",
    "prop_names = [i for i in rank_properties.index]\n",
    "\n",
    "# Initalize empty DF\n",
    "df = pd.DataFrame(columns=[\"Property\", \"Total New Leads\"])\n",
    "\n",
    "# Add data to empty columns\n",
    "df[\"Property\"] = prop_names\n",
    "df[\"Total New Leads\"] = rank_properties.values\n",
    "\n",
    "df"
   ],
   "execution_count":46,
   "outputs":[
    {
     "data":{
      "text\/html":[
       "<div>\n",
       "<style scoped>\n",
       "    .dataframe tbody tr th:only-of-type {\n",
       "        vertical-align: middle;\n",
       "    }\n",
       "\n",
       "    .dataframe tbody tr th {\n",
       "        vertical-align: top;\n",
       "    }\n",
       "\n",
       "    .dataframe thead th {\n",
       "        text-align: right;\n",
       "    }\n",
       "<\/style>\n",
       "<table border=\"1\" class=\"dataframe\">\n",
       "  <thead>\n",
       "    <tr style=\"text-align: right;\">\n",
       "      <th><\/th>\n",
       "      <th>Property<\/th>\n",
       "      <th>Total New Leads<\/th>\n",
       "    <\/tr>\n",
       "  <\/thead>\n",
       "  <tbody>\n",
       "    <tr>\n",
       "      <th>0<\/th>\n",
       "      <td>University Crossings<\/td>\n",
       "      <td>3364<\/td>\n",
       "    <\/tr>\n",
       "    <tr>\n",
       "      <th>1<\/th>\n",
       "      <td>Campus Housing<\/td>\n",
       "      <td>2873<\/td>\n",
       "    <\/tr>\n",
       "    <tr>\n",
       "      <th>2<\/th>\n",
       "      <td>Park Road<\/td>\n",
       "      <td>2797<\/td>\n",
       "    <\/tr>\n",
       "    <tr>\n",
       "      <th>3<\/th>\n",
       "      <td>Palmer Side<\/td>\n",
       "      <td>2501<\/td>\n",
       "    <\/tr>\n",
       "    <tr>\n",
       "      <th>4<\/th>\n",
       "      <td>Village Place<\/td>\n",
       "      <td>2269<\/td>\n",
       "    <\/tr>\n",
       "    <tr>\n",
       "      <th>5<\/th>\n",
       "      <td>University Place<\/td>\n",
       "      <td>2051<\/td>\n",
       "    <\/tr>\n",
       "    <tr>\n",
       "      <th>6<\/th>\n",
       "      <td>Park Villages<\/td>\n",
       "      <td>2032<\/td>\n",
       "    <\/tr>\n",
       "    <tr>\n",
       "      <th>7<\/th>\n",
       "      <td>Palmer Apartments<\/td>\n",
       "      <td>2022<\/td>\n",
       "    <\/tr>\n",
       "    <tr>\n",
       "      <th>8<\/th>\n",
       "      <td>Village Road<\/td>\n",
       "      <td>1934<\/td>\n",
       "    <\/tr>\n",
       "    <tr>\n",
       "      <th>9<\/th>\n",
       "      <td>Sunny Crossings<\/td>\n",
       "      <td>1901<\/td>\n",
       "    <\/tr>\n",
       "    <tr>\n",
       "      <th>10<\/th>\n",
       "      <td>Park Crossings<\/td>\n",
       "      <td>1742<\/td>\n",
       "    <\/tr>\n",
       "    <tr>\n",
       "      <th>11<\/th>\n",
       "      <td>Sunny Place<\/td>\n",
       "      <td>1726<\/td>\n",
       "    <\/tr>\n",
       "    <tr>\n",
       "      <th>12<\/th>\n",
       "      <td>Village Hill<\/td>\n",
       "      <td>1685<\/td>\n",
       "    <\/tr>\n",
       "    <tr>\n",
       "      <th>13<\/th>\n",
       "      <td>Sunny Villages<\/td>\n",
       "      <td>1592<\/td>\n",
       "    <\/tr>\n",
       "    <tr>\n",
       "      <th>14<\/th>\n",
       "      <td>University Road<\/td>\n",
       "      <td>1569<\/td>\n",
       "    <\/tr>\n",
       "    <tr>\n",
       "      <th>15<\/th>\n",
       "      <td>University Side<\/td>\n",
       "      <td>1541<\/td>\n",
       "    <\/tr>\n",
       "    <tr>\n",
       "      <th>16<\/th>\n",
       "      <td>Park Apartments<\/td>\n",
       "      <td>1539<\/td>\n",
       "    <\/tr>\n",
       "    <tr>\n",
       "      <th>17<\/th>\n",
       "      <td>Village Side<\/td>\n",
       "      <td>1504<\/td>\n",
       "    <\/tr>\n",
       "    <tr>\n",
       "      <th>18<\/th>\n",
       "      <td>Park Place<\/td>\n",
       "      <td>1489<\/td>\n",
       "    <\/tr>\n",
       "    <tr>\n",
       "      <th>19<\/th>\n",
       "      <td>Sunny Road<\/td>\n",
       "      <td>1425<\/td>\n",
       "    <\/tr>\n",
       "    <tr>\n",
       "      <th>20<\/th>\n",
       "      <td>Village Crossings<\/td>\n",
       "      <td>1352<\/td>\n",
       "    <\/tr>\n",
       "    <tr>\n",
       "      <th>21<\/th>\n",
       "      <td>Park Housing<\/td>\n",
       "      <td>1330<\/td>\n",
       "    <\/tr>\n",
       "    <tr>\n",
       "      <th>22<\/th>\n",
       "      <td>Village Villages<\/td>\n",
       "      <td>1315<\/td>\n",
       "    <\/tr>\n",
       "    <tr>\n",
       "      <th>23<\/th>\n",
       "      <td>Sunny Hill<\/td>\n",
       "      <td>1269<\/td>\n",
       "    <\/tr>\n",
       "    <tr>\n",
       "      <th>24<\/th>\n",
       "      <td>University Hill<\/td>\n",
       "      <td>1202<\/td>\n",
       "    <\/tr>\n",
       "    <tr>\n",
       "      <th>25<\/th>\n",
       "      <td>University Villages<\/td>\n",
       "      <td>1142<\/td>\n",
       "    <\/tr>\n",
       "    <tr>\n",
       "      <th>26<\/th>\n",
       "      <td>Palmer Crossings<\/td>\n",
       "      <td>1088<\/td>\n",
       "    <\/tr>\n",
       "    <tr>\n",
       "      <th>27<\/th>\n",
       "      <td>Campus Villages<\/td>\n",
       "      <td>1028<\/td>\n",
       "    <\/tr>\n",
       "    <tr>\n",
       "      <th>28<\/th>\n",
       "      <td>University Housing<\/td>\n",
       "      <td>924<\/td>\n",
       "    <\/tr>\n",
       "    <tr>\n",
       "      <th>29<\/th>\n",
       "      <td>Village Apartments<\/td>\n",
       "      <td>846<\/td>\n",
       "    <\/tr>\n",
       "    <tr>\n",
       "      <th>30<\/th>\n",
       "      <td>Park Side<\/td>\n",
       "      <td>825<\/td>\n",
       "    <\/tr>\n",
       "    <tr>\n",
       "      <th>31<\/th>\n",
       "      <td>Campus Hill<\/td>\n",
       "      <td>717<\/td>\n",
       "    <\/tr>\n",
       "    <tr>\n",
       "      <th>32<\/th>\n",
       "      <td>Palmer Housing<\/td>\n",
       "      <td>707<\/td>\n",
       "    <\/tr>\n",
       "    <tr>\n",
       "      <th>33<\/th>\n",
       "      <td>Sunny Apartments<\/td>\n",
       "      <td>675<\/td>\n",
       "    <\/tr>\n",
       "    <tr>\n",
       "      <th>34<\/th>\n",
       "      <td>Palmer Villages<\/td>\n",
       "      <td>526<\/td>\n",
       "    <\/tr>\n",
       "    <tr>\n",
       "      <th>35<\/th>\n",
       "      <td>Campus Crossings<\/td>\n",
       "      <td>492<\/td>\n",
       "    <\/tr>\n",
       "    <tr>\n",
       "      <th>36<\/th>\n",
       "      <td>Palmer Hill<\/td>\n",
       "      <td>372<\/td>\n",
       "    <\/tr>\n",
       "    <tr>\n",
       "      <th>37<\/th>\n",
       "      <td>Campus Apartments<\/td>\n",
       "      <td>211<\/td>\n",
       "    <\/tr>\n",
       "    <tr>\n",
       "      <th>38<\/th>\n",
       "      <td>Palmer Road<\/td>\n",
       "      <td>152<\/td>\n",
       "    <\/tr>\n",
       "  <\/tbody>\n",
       "<\/table>\n",
       "<\/div>"
      ]
     },
     "metadata":{
      
     },
     "output_type":"display_data"
    }
   ],
   "metadata":{
    "datalore":{
     "type":"CODE",
     "hide_input_from_viewers":false,
     "hide_output_from_viewers":false,
     "node_id":"1wx0L60kGWizKGn7niKWG1"
    }
   }
  },
  {
   "cell_type":"markdown",
   "source":[
    "## Visualize top 10 Properties according to total new leads generated."
   ],
   "attachments":{
    
   },
   "metadata":{
    "datalore":{
     "type":"MD",
     "hide_input_from_viewers":false,
     "hide_output_from_viewers":false,
     "node_id":"vQmCTEbKy3fatBJDDPMzdV"
    }
   }
  },
  {
   "cell_type":"code",
   "source":[
    "from lets_plot import * \n",
    "ggplot() + \\\n",
    "geom_bar(aes(x=\"Property\", y=\"Total New Leads\", color=\"Total New Leads\", fill=\"Total New Leads\"), data=df, sampling=\"none\" if df.size < 50 else sampling_pick(n=50), stat=\"identity\") + \\\n",
    "ggtitle(\"New Leads by Property\")  + \\\n",
    "ggsize(1000, 600)"
   ],
   "execution_count":47,
   "outputs":[
    {
     "data":{
      "text\/html":[
       "<html lang=\"en\">\n",
       "   <head>\n",
       "       <script type=\"text\/javascript\" data-lets-plot-script=\"library\" src=\"https:\/\/cdn.jsdelivr.net\/gh\/JetBrains\/lets-plot@v2.4.0\/js-package\/distr\/lets-plot.min.js\"><\/script>\n",
       "   <\/head>\n",
       "   <body>\n",
       "          <div id=\"z2vAuR\"><\/div>\n",
       "   <script type=\"text\/javascript\" data-lets-plot-script=\"plot\">\n",
       "       var plotSpec={\n",
       "\"mapping\":{\n",
       "},\n",
       "\"data_meta\":{\n",
       "},\n",
       "\"ggtitle\":{\n",
       "\"text\":\"New Leads by Property\"\n",
       "},\n",
       "\"ggsize\":{\n",
       "\"width\":1000,\n",
       "\"height\":600\n",
       "},\n",
       "\"kind\":\"plot\",\n",
       "\"scales\":[],\n",
       "\"layers\":[{\n",
       "\"geom\":\"bar\",\n",
       "\"stat\":\"identity\",\n",
       "\"data\":{\n",
       "\"Property\":[\"University Crossings\",\"Campus Housing\",\"Park Road\",\"Palmer Side\",\"Village Place\",\"University Place\",\"Park Villages\",\"Palmer Apartments\",\"Village Road\",\"Sunny Crossings\",\"Park Crossings\",\"Sunny Place\",\"Village Hill\",\"Sunny Villages\",\"University Road\",\"University Side\",\"Park Apartments\",\"Village Side\",\"Park Place\",\"Sunny Road\",\"Village Crossings\",\"Park Housing\",\"Village Villages\",\"Sunny Hill\",\"University Hill\",\"University Villages\",\"Palmer Crossings\",\"Campus Villages\",\"University Housing\",\"Village Apartments\",\"Park Side\",\"Campus Hill\",\"Palmer Housing\",\"Sunny Apartments\",\"Palmer Villages\",\"Campus Crossings\",\"Palmer Hill\",\"Campus Apartments\",\"Palmer Road\"],\n",
       "\"Total New Leads\":[3364.0,2873.0,2797.0,2501.0,2269.0,2051.0,2032.0,2022.0,1934.0,1901.0,1742.0,1726.0,1685.0,1592.0,1569.0,1541.0,1539.0,1504.0,1489.0,1425.0,1352.0,1330.0,1315.0,1269.0,1202.0,1142.0,1088.0,1028.0,924.0,846.0,825.0,717.0,707.0,675.0,526.0,492.0,372.0,211.0,152.0]\n",
       "},\n",
       "\"mapping\":{\n",
       "\"x\":\"Property\",\n",
       "\"y\":\"Total New Leads\",\n",
       "\"color\":\"Total New Leads\",\n",
       "\"fill\":\"Total New Leads\"\n",
       "},\n",
       "\"sampling\":{\n",
       "\"name\":\"pick\",\n",
       "\"n\":50\n",
       "},\n",
       "\"data_meta\":{\n",
       "}\n",
       "}]\n",
       "};\n",
       "       var plotContainer = document.getElementById(\"z2vAuR\");\n",
       "       LetsPlot.buildPlotFromProcessedSpecs(plotSpec, -1, -1, plotContainer);\n",
       "   <\/script>\n",
       "   <\/body>\n",
       "<\/html>"
      ]
     },
     "metadata":{
      
     },
     "output_type":"display_data"
    }
   ],
   "metadata":{
    "datalore":{
     "type":"PLOT",
     "hide_input_from_viewers":false,
     "hide_output_from_viewers":false,
     "node_id":"EjEFyeGLlyqxoC96wGTVwy",
     "plot_state":{
      "label":"New Leads by Property",
      "width":1000,
      "height":600,
      "sampling":true,
      "reactive":true,
      "plots":[
       {
        "type":"BAR",
        "variable":"df",
        "xAxis":{
         "label":"",
         "value":"Property",
         "scale":"NONE"
        },
        "yAxis":{
         "label":"",
         "value":"Total New Leads",
         "scale":"NONE"
        },
        "colorAxis":{
         "label":"",
         "value":"Total New Leads",
         "scale":"NONE"
        }
       }
      ]
     }
    }
   }
  },
  {
   "cell_type":"code",
   "source":[
    "# Find the number of leads per month according to property\n",
    "ay_21_22[\"Lead Created Month\"] = [m.month for m in ay_21_22[\"New Lead Created On\"]]\n",
    "# Convert numerical month value into full Month name.\n",
    "ay_21_22[\"Lead Created Month\"] = ay_21_22[\"Lead Created Month\"].apply(lambda x: calendar.month_abbr[x])\n",
    "\n",
    "ay_21_22"
   ],
   "execution_count":48,
   "outputs":[
    {
     "data":{
      "text\/html":[
       "<div>\n",
       "<style scoped>\n",
       "    .dataframe tbody tr th:only-of-type {\n",
       "        vertical-align: middle;\n",
       "    }\n",
       "\n",
       "    .dataframe tbody tr th {\n",
       "        vertical-align: top;\n",
       "    }\n",
       "\n",
       "    .dataframe thead th {\n",
       "        text-align: right;\n",
       "    }\n",
       "<\/style>\n",
       "<table border=\"1\" class=\"dataframe\">\n",
       "  <thead>\n",
       "    <tr style=\"text-align: right;\">\n",
       "      <th><\/th>\n",
       "      <th>Property<\/th>\n",
       "      <th>New Lead Created On<\/th>\n",
       "      <th>Application Started<\/th>\n",
       "      <th>Application Approved<\/th>\n",
       "      <th>Lease Started<\/th>\n",
       "      <th>Lease Approved<\/th>\n",
       "      <th>Leasing Agent (Assigned)<\/th>\n",
       "      <th>Lead Source<\/th>\n",
       "      <th>First Visit\/Tour Date<\/th>\n",
       "      <th>Application Status<\/th>\n",
       "      <th>...<\/th>\n",
       "      <th>Scheduled Rent<\/th>\n",
       "      <th>Bldg-Unit<\/th>\n",
       "      <th>Unit Type<\/th>\n",
       "      <th>Age<\/th>\n",
       "      <th>Gender<\/th>\n",
       "      <th>Birth Date<\/th>\n",
       "      <th>Primary Address - City<\/th>\n",
       "      <th>Primary Address - STATE\/PROVINCE<\/th>\n",
       "      <th>Primary Address - Postal Code<\/th>\n",
       "      <th>Lead Created Month<\/th>\n",
       "    <\/tr>\n",
       "  <\/thead>\n",
       "  <tbody>\n",
       "    <tr>\n",
       "      <th>0<\/th>\n",
       "      <td>Sunny Villages<\/td>\n",
       "      <td>2022-01-19<\/td>\n",
       "      <td>2022-01-19<\/td>\n",
       "      <td>2022-01-19<\/td>\n",
       "      <td>2022-01-19<\/td>\n",
       "      <td>2022-01-19<\/td>\n",
       "      <td>Freeman, Lance<\/td>\n",
       "      <td>Unknown<\/td>\n",
       "      <td>No Tour<\/td>\n",
       "      <td>Lease Approved<\/td>\n",
       "      <td>...<\/td>\n",
       "      <td>690<\/td>\n",
       "      <td>3-101-A<\/td>\n",
       "      <td>4x4<\/td>\n",
       "      <td>0.0<\/td>\n",
       "      <td>Missing<\/td>\n",
       "      <td>NaN<\/td>\n",
       "      <td>TAMPA<\/td>\n",
       "      <td>FL<\/td>\n",
       "      <td>33613<\/td>\n",
       "      <td>Jan<\/td>\n",
       "    <\/tr>\n",
       "    <tr>\n",
       "      <th>1<\/th>\n",
       "      <td>Sunny Villages<\/td>\n",
       "      <td>2022-01-19<\/td>\n",
       "      <td>2022-01-19<\/td>\n",
       "      <td>2022-01-19<\/td>\n",
       "      <td>2022-01-19<\/td>\n",
       "      <td>2022-01-19<\/td>\n",
       "      <td>Freeman, Lance<\/td>\n",
       "      <td>Unknown<\/td>\n",
       "      <td>No Tour<\/td>\n",
       "      <td>Lease Approved<\/td>\n",
       "      <td>...<\/td>\n",
       "      <td>690<\/td>\n",
       "      <td>3-101-B<\/td>\n",
       "      <td>4x4<\/td>\n",
       "      <td>0.0<\/td>\n",
       "      <td>Missing<\/td>\n",
       "      <td>NaN<\/td>\n",
       "      <td>TAMPA<\/td>\n",
       "      <td>FL<\/td>\n",
       "      <td>33613<\/td>\n",
       "      <td>Jan<\/td>\n",
       "    <\/tr>\n",
       "    <tr>\n",
       "      <th>2<\/th>\n",
       "      <td>Sunny Villages<\/td>\n",
       "      <td>2022-01-19<\/td>\n",
       "      <td>2022-01-19<\/td>\n",
       "      <td>2022-01-19<\/td>\n",
       "      <td>2022-01-19<\/td>\n",
       "      <td>2022-01-19<\/td>\n",
       "      <td>Freeman, Lance<\/td>\n",
       "      <td>Unknown<\/td>\n",
       "      <td>No Tour<\/td>\n",
       "      <td>Lease Approved<\/td>\n",
       "      <td>...<\/td>\n",
       "      <td>690<\/td>\n",
       "      <td>3-101-C<\/td>\n",
       "      <td>4x4<\/td>\n",
       "      <td>0.0<\/td>\n",
       "      <td>Missing<\/td>\n",
       "      <td>NaN<\/td>\n",
       "      <td>TAMPA<\/td>\n",
       "      <td>FL<\/td>\n",
       "      <td>33613<\/td>\n",
       "      <td>Jan<\/td>\n",
       "    <\/tr>\n",
       "    <tr>\n",
       "      <th>3<\/th>\n",
       "      <td>Sunny Villages<\/td>\n",
       "      <td>2022-01-19<\/td>\n",
       "      <td>2022-01-19<\/td>\n",
       "      <td>2022-01-19<\/td>\n",
       "      <td>2022-01-19<\/td>\n",
       "      <td>2022-01-19<\/td>\n",
       "      <td>Freeman, Lance<\/td>\n",
       "      <td>Unknown<\/td>\n",
       "      <td>No Tour<\/td>\n",
       "      <td>Lease Approved<\/td>\n",
       "      <td>...<\/td>\n",
       "      <td>690<\/td>\n",
       "      <td>3-101-D<\/td>\n",
       "      <td>4x4<\/td>\n",
       "      <td>0.0<\/td>\n",
       "      <td>Missing<\/td>\n",
       "      <td>NaN<\/td>\n",
       "      <td>TAMPA<\/td>\n",
       "      <td>FL<\/td>\n",
       "      <td>33613<\/td>\n",
       "      <td>Jan<\/td>\n",
       "    <\/tr>\n",
       "    <tr>\n",
       "      <th>4<\/th>\n",
       "      <td>Sunny Villages<\/td>\n",
       "      <td>2022-03-30<\/td>\n",
       "      <td>2022-04-27<\/td>\n",
       "      <td>NaT<\/td>\n",
       "      <td>NaT<\/td>\n",
       "      <td>NaT<\/td>\n",
       "      <td>McElhaney, Maggie<\/td>\n",
       "      <td>Other<\/td>\n",
       "      <td>3\/30\/22<\/td>\n",
       "      <td>Application Archived<\/td>\n",
       "      <td>...<\/td>\n",
       "      <td>0<\/td>\n",
       "      <td>Missing<\/td>\n",
       "      <td>Missing<\/td>\n",
       "      <td>0.0<\/td>\n",
       "      <td>Missing<\/td>\n",
       "      <td>NaN<\/td>\n",
       "      <td>Tampa<\/td>\n",
       "      <td>FL<\/td>\n",
       "      <td>33613<\/td>\n",
       "      <td>Mar<\/td>\n",
       "    <\/tr>\n",
       "    <tr>\n",
       "      <th>...<\/th>\n",
       "      <td>...<\/td>\n",
       "      <td>...<\/td>\n",
       "      <td>...<\/td>\n",
       "      <td>...<\/td>\n",
       "      <td>...<\/td>\n",
       "      <td>...<\/td>\n",
       "      <td>...<\/td>\n",
       "      <td>...<\/td>\n",
       "      <td>...<\/td>\n",
       "      <td>...<\/td>\n",
       "      <td>...<\/td>\n",
       "      <td>...<\/td>\n",
       "      <td>...<\/td>\n",
       "      <td>...<\/td>\n",
       "      <td>...<\/td>\n",
       "      <td>...<\/td>\n",
       "      <td>...<\/td>\n",
       "      <td>...<\/td>\n",
       "      <td>...<\/td>\n",
       "      <td>...<\/td>\n",
       "      <td>...<\/td>\n",
       "    <\/tr>\n",
       "    <tr>\n",
       "      <th>94753<\/th>\n",
       "      <td>University Road<\/td>\n",
       "      <td>2022-02-14<\/td>\n",
       "      <td>2022-02-23<\/td>\n",
       "      <td>2022-02-28<\/td>\n",
       "      <td>2022-02-28<\/td>\n",
       "      <td>2022-03-22<\/td>\n",
       "      <td>Missing<\/td>\n",
       "      <td>Internet<\/td>\n",
       "      <td>No Tour<\/td>\n",
       "      <td>Lease Approved<\/td>\n",
       "      <td>...<\/td>\n",
       "      <td>0<\/td>\n",
       "      <td>2909-203-A<\/td>\n",
       "      <td>ula2<\/td>\n",
       "      <td>20.0<\/td>\n",
       "      <td>F<\/td>\n",
       "      <td>9\/24\/01<\/td>\n",
       "      <td>TAMPA<\/td>\n",
       "      <td>FL<\/td>\n",
       "      <td>33613<\/td>\n",
       "      <td>Feb<\/td>\n",
       "    <\/tr>\n",
       "    <tr>\n",
       "      <th>94754<\/th>\n",
       "      <td>University Road<\/td>\n",
       "      <td>2022-05-24<\/td>\n",
       "      <td>2022-05-24<\/td>\n",
       "      <td>2022-05-24<\/td>\n",
       "      <td>2022-05-24<\/td>\n",
       "      <td>2022-06-01<\/td>\n",
       "      <td>Hernandez, Natashya<\/td>\n",
       "      <td>Walk\/Drive By<\/td>\n",
       "      <td>No Tour<\/td>\n",
       "      <td>Lease Approved<\/td>\n",
       "      <td>...<\/td>\n",
       "      <td>0<\/td>\n",
       "      <td>2909-203-B<\/td>\n",
       "      <td>ula2<\/td>\n",
       "      <td>24.0<\/td>\n",
       "      <td>Missing<\/td>\n",
       "      <td>1\/1\/98<\/td>\n",
       "      <td>TAMPA<\/td>\n",
       "      <td>FL<\/td>\n",
       "      <td>33613<\/td>\n",
       "      <td>May<\/td>\n",
       "    <\/tr>\n",
       "    <tr>\n",
       "      <th>94755<\/th>\n",
       "      <td>University Road<\/td>\n",
       "      <td>2022-05-03<\/td>\n",
       "      <td>2022-05-03<\/td>\n",
       "      <td>NaT<\/td>\n",
       "      <td>NaT<\/td>\n",
       "      <td>NaT<\/td>\n",
       "      <td>Hernandez, Natashya<\/td>\n",
       "      <td>Internet<\/td>\n",
       "      <td>No Tour<\/td>\n",
       "      <td>Application Archived<\/td>\n",
       "      <td>...<\/td>\n",
       "      <td>0<\/td>\n",
       "      <td>Missing<\/td>\n",
       "      <td>Missing<\/td>\n",
       "      <td>20.0<\/td>\n",
       "      <td>F<\/td>\n",
       "      <td>12\/10\/01<\/td>\n",
       "      <td>Tampa<\/td>\n",
       "      <td>FL<\/td>\n",
       "      <td>33613<\/td>\n",
       "      <td>May<\/td>\n",
       "    <\/tr>\n",
       "    <tr>\n",
       "      <th>94756<\/th>\n",
       "      <td>University Road<\/td>\n",
       "      <td>2021-12-15<\/td>\n",
       "      <td>2022-03-10<\/td>\n",
       "      <td>2022-03-10<\/td>\n",
       "      <td>2022-03-10<\/td>\n",
       "      <td>2022-03-14<\/td>\n",
       "      <td>Missing<\/td>\n",
       "      <td>Internet<\/td>\n",
       "      <td>No Tour<\/td>\n",
       "      <td>Lease Approved<\/td>\n",
       "      <td>...<\/td>\n",
       "      <td>0<\/td>\n",
       "      <td>2947-202<\/td>\n",
       "      <td>ula1<\/td>\n",
       "      <td>26.0<\/td>\n",
       "      <td>F<\/td>\n",
       "      <td>10\/10\/95<\/td>\n",
       "      <td>TAMPA<\/td>\n",
       "      <td>FL<\/td>\n",
       "      <td>33613<\/td>\n",
       "      <td>Dec<\/td>\n",
       "    <\/tr>\n",
       "    <tr>\n",
       "      <th>94757<\/th>\n",
       "      <td>University Road<\/td>\n",
       "      <td>2022-01-04<\/td>\n",
       "      <td>NaT<\/td>\n",
       "      <td>NaT<\/td>\n",
       "      <td>NaT<\/td>\n",
       "      <td>NaT<\/td>\n",
       "      <td>Import, Migration<\/td>\n",
       "      <td>Migration Import<\/td>\n",
       "      <td>1\/5\/22<\/td>\n",
       "      <td>Guest Card Archived<\/td>\n",
       "      <td>...<\/td>\n",
       "      <td>0<\/td>\n",
       "      <td>Missing<\/td>\n",
       "      <td>Missing<\/td>\n",
       "      <td>0.0<\/td>\n",
       "      <td>Missing<\/td>\n",
       "      <td>NaN<\/td>\n",
       "      <td>NaN<\/td>\n",
       "      <td>NaN<\/td>\n",
       "      <td>&lt;NA&gt;<\/td>\n",
       "      <td>Jan<\/td>\n",
       "    <\/tr>\n",
       "  <\/tbody>\n",
       "<\/table>\n",
       "<p>55729 rows × 22 columns<\/p>\n",
       "<\/div>"
      ]
     },
     "metadata":{
      
     },
     "output_type":"display_data"
    }
   ],
   "metadata":{
    "datalore":{
     "type":"CODE",
     "hide_input_from_viewers":false,
     "hide_output_from_viewers":false,
     "node_id":"xc5cwPRlZN40gXjYVbRvH8"
    }
   }
  },
  {
   "cell_type":"markdown",
   "source":[
    "### Visualize number of new leads according to Month. "
   ],
   "attachments":{
    
   },
   "metadata":{
    "datalore":{
     "type":"MD",
     "hide_input_from_viewers":false,
     "hide_output_from_viewers":false,
     "node_id":"mR56MAYml4NMsBIbHdLdkL"
    }
   }
  },
  {
   "cell_type":"code",
   "source":[
    "from lets_plot import * \n",
    "ggplot() + \\\n",
    "geom_bar(aes(x=\"Lead Created Month\", y=\"..count..\"), data=ay_21_22, sampling=\"none\" if ay_21_22.size < 50 else sampling_pick(n=50), color=\"#b5b1ec\", fill=\"#b5b1ec\") + \\\n",
    "ggtitle(\"New Leads by Month\")  + \\\n",
    "ggsize(900, 500)"
   ],
   "execution_count":49,
   "outputs":[
    {
     "data":{
      "text\/html":[
       "<html lang=\"en\">\n",
       "   <head>\n",
       "       <script type=\"text\/javascript\" data-lets-plot-script=\"library\" src=\"https:\/\/cdn.jsdelivr.net\/gh\/JetBrains\/lets-plot@v2.4.0\/js-package\/distr\/lets-plot.min.js\"><\/script>\n",
       "   <\/head>\n",
       "   <body>\n",
       "          <div id=\"Trw4y6\"><\/div>\n",
       "   <script type=\"text\/javascript\" data-lets-plot-script=\"plot\">\n",
       "       var plotSpec={\n",
       "\"mapping\":{\n",
       "},\n",
       "\"data_meta\":{\n",
       "},\n",
       "\"ggtitle\":{\n",
       "\"text\":\"New Leads by Month\"\n",
       "},\n",
       "\"ggsize\":{\n",
       "\"width\":900,\n",
       "\"height\":500\n",
       "},\n",
       "\"kind\":\"plot\",\n",
       "\"scales\":[],\n",
       "\"layers\":[{\n",
       "\"geom\":\"bar\",\n",
       "\"data\":{\n",
       "\"..count..\":[4312.0,5496.0,4474.0,3902.0,10234.0,4284.0,5003.0,3181.0,6797.0,1992.0,6054.0],\n",
       "\"Lead Created Month\":[\"Jan\",\"Mar\",\"May\",\"Dec\",\"Oct\",\"Feb\",\"Apr\",\"Jun\",\"Nov\",\"Aug\",\"Sep\"]\n",
       "},\n",
       "\"mapping\":{\n",
       "\"x\":\"Lead Created Month\",\n",
       "\"y\":\"..count..\"\n",
       "},\n",
       "\"sampling\":{\n",
       "\"name\":\"pick\",\n",
       "\"n\":50\n",
       "},\n",
       "\"data_meta\":{\n",
       "\"series_annotations\":[{\n",
       "\"column\":\"New Lead Created On\",\n",
       "\"type\":\"datetime\"\n",
       "},{\n",
       "\"column\":\"Application Started\",\n",
       "\"type\":\"datetime\"\n",
       "},{\n",
       "\"column\":\"Application Approved\",\n",
       "\"type\":\"datetime\"\n",
       "},{\n",
       "\"column\":\"Lease Started\",\n",
       "\"type\":\"datetime\"\n",
       "},{\n",
       "\"column\":\"Lease Approved\",\n",
       "\"type\":\"datetime\"\n",
       "}]\n",
       "},\n",
       "\"color\":\"#b5b1ec\",\n",
       "\"fill\":\"#b5b1ec\"\n",
       "}]\n",
       "};\n",
       "       var plotContainer = document.getElementById(\"Trw4y6\");\n",
       "       LetsPlot.buildPlotFromProcessedSpecs(plotSpec, -1, -1, plotContainer);\n",
       "   <\/script>\n",
       "   <\/body>\n",
       "<\/html>"
      ]
     },
     "metadata":{
      
     },
     "output_type":"display_data"
    }
   ],
   "metadata":{
    "datalore":{
     "type":"PLOT",
     "hide_input_from_viewers":false,
     "hide_output_from_viewers":false,
     "node_id":"QMvo9EBB2XNKZ8HgzuOTQ2",
     "plot_state":{
      "label":"New Leads by Month",
      "width":900,
      "height":500,
      "sampling":true,
      "reactive":true,
      "plots":[
       {
        "type":"BAR",
        "variable":"ay_21_22",
        "xAxis":{
         "label":"",
         "value":"Lead Created Month",
         "scale":"NONE"
        },
        "yAxis":{
         "label":"",
         "value":"COUNT(*)",
         "scale":"NONE"
        },
        "colorAxis":{
         "label":"",
         "value":"#b5b1ec",
         "scale":"NONE"
        }
       }
      ]
     }
    }
   }
  },
  {
   "cell_type":"code",
   "source":[
    "# Next, we'll use the same data we used to produce the chart below, to create a new DataFrame column with the average number of \n",
    "# leads per month, by property.\n",
    "\n",
    "# Create dictionary to track average number of leads per month by property\n",
    "avg_lis = []\n",
    "\n",
    "# Create a list containing the average number of leads per month for each property.\n",
    "add_to_df = []\n",
    "for name in df[\"Property\"]:\n",
    "    # Create temporary dataframe with only the data for the current property name\n",
    "    temp = ay_21_22[ay_21_22[\"Property\"] == name]\n",
    "    count = temp[\"Lead Created Month\"].value_counts().values.mean()\n",
    "    # Average leads per month\n",
    "    avg_lis.append((int(round(count, 0))))\n",
    "    # Sort the dates in Chronological order\n",
    "    temp_dates = [d for d in temp[\"New Lead Created On\"].sort_values(ascending=True)]\n",
    "    # List for collecting number of days between leads. \n",
    "    avg_days = []\n",
    "    # Loop through all of the dates, finding time between the current iteration and the next. Then find the average. \n",
    "    for i in range(0, len(temp_dates) - 1):\n",
    "        d2 = temp_dates[i + 1]\n",
    "        d1 = temp_dates[i]\n",
    "        n_days = d2 - d1\n",
    "        avg_days.append(n_days.days)\n",
    "    # Get average time between leads\n",
    "    add_to_df.append(round((sum(avg_days) \/ len(avg_days)), 2))\n",
    "\n",
    "# pre_lease_data = \n",
    "# Add data to new DF column\n",
    "df[\"Leads Per Month\"] = avg_lis\n",
    "df[\"Avg Days between Leads\"] = add_to_df\n",
    "\n",
    "df   "
   ],
   "execution_count":50,
   "outputs":[
    {
     "data":{
      "text\/html":[
       "<div>\n",
       "<style scoped>\n",
       "    .dataframe tbody tr th:only-of-type {\n",
       "        vertical-align: middle;\n",
       "    }\n",
       "\n",
       "    .dataframe tbody tr th {\n",
       "        vertical-align: top;\n",
       "    }\n",
       "\n",
       "    .dataframe thead th {\n",
       "        text-align: right;\n",
       "    }\n",
       "<\/style>\n",
       "<table border=\"1\" class=\"dataframe\">\n",
       "  <thead>\n",
       "    <tr style=\"text-align: right;\">\n",
       "      <th><\/th>\n",
       "      <th>Property<\/th>\n",
       "      <th>Total New Leads<\/th>\n",
       "      <th>Leads Per Month<\/th>\n",
       "      <th>Avg Days between Leads<\/th>\n",
       "    <\/tr>\n",
       "  <\/thead>\n",
       "  <tbody>\n",
       "    <tr>\n",
       "      <th>0<\/th>\n",
       "      <td>University Crossings<\/td>\n",
       "      <td>3364<\/td>\n",
       "      <td>306<\/td>\n",
       "      <td>0.09<\/td>\n",
       "    <\/tr>\n",
       "    <tr>\n",
       "      <th>1<\/th>\n",
       "      <td>Campus Housing<\/td>\n",
       "      <td>2873<\/td>\n",
       "      <td>261<\/td>\n",
       "      <td>0.11<\/td>\n",
       "    <\/tr>\n",
       "    <tr>\n",
       "      <th>2<\/th>\n",
       "      <td>Park Road<\/td>\n",
       "      <td>2797<\/td>\n",
       "      <td>254<\/td>\n",
       "      <td>0.12<\/td>\n",
       "    <\/tr>\n",
       "    <tr>\n",
       "      <th>3<\/th>\n",
       "      <td>Palmer Side<\/td>\n",
       "      <td>2501<\/td>\n",
       "      <td>227<\/td>\n",
       "      <td>0.12<\/td>\n",
       "    <\/tr>\n",
       "    <tr>\n",
       "      <th>4<\/th>\n",
       "      <td>Village Place<\/td>\n",
       "      <td>2269<\/td>\n",
       "      <td>206<\/td>\n",
       "      <td>0.15<\/td>\n",
       "    <\/tr>\n",
       "    <tr>\n",
       "      <th>5<\/th>\n",
       "      <td>University Place<\/td>\n",
       "      <td>2051<\/td>\n",
       "      <td>186<\/td>\n",
       "      <td>0.16<\/td>\n",
       "    <\/tr>\n",
       "    <tr>\n",
       "      <th>6<\/th>\n",
       "      <td>Park Villages<\/td>\n",
       "      <td>2032<\/td>\n",
       "      <td>185<\/td>\n",
       "      <td>0.16<\/td>\n",
       "    <\/tr>\n",
       "    <tr>\n",
       "      <th>7<\/th>\n",
       "      <td>Palmer Apartments<\/td>\n",
       "      <td>2022<\/td>\n",
       "      <td>184<\/td>\n",
       "      <td>0.16<\/td>\n",
       "    <\/tr>\n",
       "    <tr>\n",
       "      <th>8<\/th>\n",
       "      <td>Village Road<\/td>\n",
       "      <td>1934<\/td>\n",
       "      <td>176<\/td>\n",
       "      <td>0.17<\/td>\n",
       "    <\/tr>\n",
       "    <tr>\n",
       "      <th>9<\/th>\n",
       "      <td>Sunny Crossings<\/td>\n",
       "      <td>1901<\/td>\n",
       "      <td>173<\/td>\n",
       "      <td>0.17<\/td>\n",
       "    <\/tr>\n",
       "    <tr>\n",
       "      <th>10<\/th>\n",
       "      <td>Park Crossings<\/td>\n",
       "      <td>1742<\/td>\n",
       "      <td>158<\/td>\n",
       "      <td>0.19<\/td>\n",
       "    <\/tr>\n",
       "    <tr>\n",
       "      <th>11<\/th>\n",
       "      <td>Sunny Place<\/td>\n",
       "      <td>1726<\/td>\n",
       "      <td>173<\/td>\n",
       "      <td>0.16<\/td>\n",
       "    <\/tr>\n",
       "    <tr>\n",
       "      <th>12<\/th>\n",
       "      <td>Village Hill<\/td>\n",
       "      <td>1685<\/td>\n",
       "      <td>153<\/td>\n",
       "      <td>0.19<\/td>\n",
       "    <\/tr>\n",
       "    <tr>\n",
       "      <th>13<\/th>\n",
       "      <td>Sunny Villages<\/td>\n",
       "      <td>1592<\/td>\n",
       "      <td>145<\/td>\n",
       "      <td>0.20<\/td>\n",
       "    <\/tr>\n",
       "    <tr>\n",
       "      <th>14<\/th>\n",
       "      <td>University Road<\/td>\n",
       "      <td>1569<\/td>\n",
       "      <td>143<\/td>\n",
       "      <td>0.21<\/td>\n",
       "    <\/tr>\n",
       "    <tr>\n",
       "      <th>15<\/th>\n",
       "      <td>University Side<\/td>\n",
       "      <td>1541<\/td>\n",
       "      <td>140<\/td>\n",
       "      <td>0.21<\/td>\n",
       "    <\/tr>\n",
       "    <tr>\n",
       "      <th>16<\/th>\n",
       "      <td>Park Apartments<\/td>\n",
       "      <td>1539<\/td>\n",
       "      <td>140<\/td>\n",
       "      <td>0.21<\/td>\n",
       "    <\/tr>\n",
       "    <tr>\n",
       "      <th>17<\/th>\n",
       "      <td>Village Side<\/td>\n",
       "      <td>1504<\/td>\n",
       "      <td>137<\/td>\n",
       "      <td>0.22<\/td>\n",
       "    <\/tr>\n",
       "    <tr>\n",
       "      <th>18<\/th>\n",
       "      <td>Park Place<\/td>\n",
       "      <td>1489<\/td>\n",
       "      <td>135<\/td>\n",
       "      <td>0.22<\/td>\n",
       "    <\/tr>\n",
       "    <tr>\n",
       "      <th>19<\/th>\n",
       "      <td>Sunny Road<\/td>\n",
       "      <td>1425<\/td>\n",
       "      <td>130<\/td>\n",
       "      <td>0.23<\/td>\n",
       "    <\/tr>\n",
       "    <tr>\n",
       "      <th>20<\/th>\n",
       "      <td>Village Crossings<\/td>\n",
       "      <td>1352<\/td>\n",
       "      <td>123<\/td>\n",
       "      <td>0.24<\/td>\n",
       "    <\/tr>\n",
       "    <tr>\n",
       "      <th>21<\/th>\n",
       "      <td>Park Housing<\/td>\n",
       "      <td>1330<\/td>\n",
       "      <td>121<\/td>\n",
       "      <td>0.25<\/td>\n",
       "    <\/tr>\n",
       "    <tr>\n",
       "      <th>22<\/th>\n",
       "      <td>Village Villages<\/td>\n",
       "      <td>1315<\/td>\n",
       "      <td>120<\/td>\n",
       "      <td>0.25<\/td>\n",
       "    <\/tr>\n",
       "    <tr>\n",
       "      <th>23<\/th>\n",
       "      <td>Sunny Hill<\/td>\n",
       "      <td>1269<\/td>\n",
       "      <td>115<\/td>\n",
       "      <td>0.26<\/td>\n",
       "    <\/tr>\n",
       "    <tr>\n",
       "      <th>24<\/th>\n",
       "      <td>University Hill<\/td>\n",
       "      <td>1202<\/td>\n",
       "      <td>109<\/td>\n",
       "      <td>0.27<\/td>\n",
       "    <\/tr>\n",
       "    <tr>\n",
       "      <th>25<\/th>\n",
       "      <td>University Villages<\/td>\n",
       "      <td>1142<\/td>\n",
       "      <td>104<\/td>\n",
       "      <td>0.27<\/td>\n",
       "    <\/tr>\n",
       "    <tr>\n",
       "      <th>26<\/th>\n",
       "      <td>Palmer Crossings<\/td>\n",
       "      <td>1088<\/td>\n",
       "      <td>99<\/td>\n",
       "      <td>0.30<\/td>\n",
       "    <\/tr>\n",
       "    <tr>\n",
       "      <th>27<\/th>\n",
       "      <td>Campus Villages<\/td>\n",
       "      <td>1028<\/td>\n",
       "      <td>93<\/td>\n",
       "      <td>0.32<\/td>\n",
       "    <\/tr>\n",
       "    <tr>\n",
       "      <th>28<\/th>\n",
       "      <td>University Housing<\/td>\n",
       "      <td>924<\/td>\n",
       "      <td>84<\/td>\n",
       "      <td>0.35<\/td>\n",
       "    <\/tr>\n",
       "    <tr>\n",
       "      <th>29<\/th>\n",
       "      <td>Village Apartments<\/td>\n",
       "      <td>846<\/td>\n",
       "      <td>77<\/td>\n",
       "      <td>0.39<\/td>\n",
       "    <\/tr>\n",
       "    <tr>\n",
       "      <th>30<\/th>\n",
       "      <td>Park Side<\/td>\n",
       "      <td>825<\/td>\n",
       "      <td>75<\/td>\n",
       "      <td>0.40<\/td>\n",
       "    <\/tr>\n",
       "    <tr>\n",
       "      <th>31<\/th>\n",
       "      <td>Campus Hill<\/td>\n",
       "      <td>717<\/td>\n",
       "      <td>65<\/td>\n",
       "      <td>0.45<\/td>\n",
       "    <\/tr>\n",
       "    <tr>\n",
       "      <th>32<\/th>\n",
       "      <td>Palmer Housing<\/td>\n",
       "      <td>707<\/td>\n",
       "      <td>64<\/td>\n",
       "      <td>0.43<\/td>\n",
       "    <\/tr>\n",
       "    <tr>\n",
       "      <th>33<\/th>\n",
       "      <td>Sunny Apartments<\/td>\n",
       "      <td>675<\/td>\n",
       "      <td>61<\/td>\n",
       "      <td>0.49<\/td>\n",
       "    <\/tr>\n",
       "    <tr>\n",
       "      <th>34<\/th>\n",
       "      <td>Palmer Villages<\/td>\n",
       "      <td>526<\/td>\n",
       "      <td>48<\/td>\n",
       "      <td>0.60<\/td>\n",
       "    <\/tr>\n",
       "    <tr>\n",
       "      <th>35<\/th>\n",
       "      <td>Campus Crossings<\/td>\n",
       "      <td>492<\/td>\n",
       "      <td>49<\/td>\n",
       "      <td>0.58<\/td>\n",
       "    <\/tr>\n",
       "    <tr>\n",
       "      <th>36<\/th>\n",
       "      <td>Palmer Hill<\/td>\n",
       "      <td>372<\/td>\n",
       "      <td>34<\/td>\n",
       "      <td>0.89<\/td>\n",
       "    <\/tr>\n",
       "    <tr>\n",
       "      <th>37<\/th>\n",
       "      <td>Campus Apartments<\/td>\n",
       "      <td>211<\/td>\n",
       "      <td>23<\/td>\n",
       "      <td>1.20<\/td>\n",
       "    <\/tr>\n",
       "    <tr>\n",
       "      <th>38<\/th>\n",
       "      <td>Palmer Road<\/td>\n",
       "      <td>152<\/td>\n",
       "      <td>14<\/td>\n",
       "      <td>1.87<\/td>\n",
       "    <\/tr>\n",
       "  <\/tbody>\n",
       "<\/table>\n",
       "<\/div>"
      ]
     },
     "metadata":{
      
     },
     "output_type":"display_data"
    }
   ],
   "metadata":{
    "datalore":{
     "type":"CODE",
     "hide_input_from_viewers":false,
     "hide_output_from_viewers":false,
     "node_id":"YCAMyhVxj4ObX6ukFnaMuB"
    }
   }
  },
  {
   "cell_type":"code",
   "source":[
    "# Calculate total time between when a lead was created, and when their lease was approved.\n",
    "\n",
    "# Loop through property names\n",
    "add_to_df = []\n",
    "for name in df[\"Property\"]:\n",
    "    temp_df = ay_21_22[ay_21_22[\"Property\"] == name].copy()\n",
    "    temp_df = temp_df.dropna(subset=[\"Lease Approved\"])\n",
    "    lead_to_lease = temp_df[\"Lease Approved\"] - temp_df[\"New Lead Created On\"]\n",
    "    d_lis = [d.days for d in lead_to_lease]\n",
    "    time_btween = round(sum(d_lis) \/ len(d_lis), 0)\n",
    "    add_to_df.append(time_btween)\n",
    "\n",
    "df[\"Avg Days till Lease Signed\"] = add_to_df\n",
    "df"
   ],
   "execution_count":51,
   "outputs":[
    {
     "data":{
      "text\/html":[
       "<div>\n",
       "<style scoped>\n",
       "    .dataframe tbody tr th:only-of-type {\n",
       "        vertical-align: middle;\n",
       "    }\n",
       "\n",
       "    .dataframe tbody tr th {\n",
       "        vertical-align: top;\n",
       "    }\n",
       "\n",
       "    .dataframe thead th {\n",
       "        text-align: right;\n",
       "    }\n",
       "<\/style>\n",
       "<table border=\"1\" class=\"dataframe\">\n",
       "  <thead>\n",
       "    <tr style=\"text-align: right;\">\n",
       "      <th><\/th>\n",
       "      <th>Property<\/th>\n",
       "      <th>Total New Leads<\/th>\n",
       "      <th>Leads Per Month<\/th>\n",
       "      <th>Avg Days between Leads<\/th>\n",
       "      <th>Avg Days till Lease Signed<\/th>\n",
       "    <\/tr>\n",
       "  <\/thead>\n",
       "  <tbody>\n",
       "    <tr>\n",
       "      <th>0<\/th>\n",
       "      <td>University Crossings<\/td>\n",
       "      <td>3364<\/td>\n",
       "      <td>306<\/td>\n",
       "      <td>0.09<\/td>\n",
       "      <td>30.0<\/td>\n",
       "    <\/tr>\n",
       "    <tr>\n",
       "      <th>1<\/th>\n",
       "      <td>Campus Housing<\/td>\n",
       "      <td>2873<\/td>\n",
       "      <td>261<\/td>\n",
       "      <td>0.11<\/td>\n",
       "      <td>16.0<\/td>\n",
       "    <\/tr>\n",
       "    <tr>\n",
       "      <th>2<\/th>\n",
       "      <td>Park Road<\/td>\n",
       "      <td>2797<\/td>\n",
       "      <td>254<\/td>\n",
       "      <td>0.12<\/td>\n",
       "      <td>33.0<\/td>\n",
       "    <\/tr>\n",
       "    <tr>\n",
       "      <th>3<\/th>\n",
       "      <td>Palmer Side<\/td>\n",
       "      <td>2501<\/td>\n",
       "      <td>227<\/td>\n",
       "      <td>0.12<\/td>\n",
       "      <td>15.0<\/td>\n",
       "    <\/tr>\n",
       "    <tr>\n",
       "      <th>4<\/th>\n",
       "      <td>Village Place<\/td>\n",
       "      <td>2269<\/td>\n",
       "      <td>206<\/td>\n",
       "      <td>0.15<\/td>\n",
       "      <td>68.0<\/td>\n",
       "    <\/tr>\n",
       "    <tr>\n",
       "      <th>5<\/th>\n",
       "      <td>University Place<\/td>\n",
       "      <td>2051<\/td>\n",
       "      <td>186<\/td>\n",
       "      <td>0.16<\/td>\n",
       "      <td>65.0<\/td>\n",
       "    <\/tr>\n",
       "    <tr>\n",
       "      <th>6<\/th>\n",
       "      <td>Park Villages<\/td>\n",
       "      <td>2032<\/td>\n",
       "      <td>185<\/td>\n",
       "      <td>0.16<\/td>\n",
       "      <td>16.0<\/td>\n",
       "    <\/tr>\n",
       "    <tr>\n",
       "      <th>7<\/th>\n",
       "      <td>Palmer Apartments<\/td>\n",
       "      <td>2022<\/td>\n",
       "      <td>184<\/td>\n",
       "      <td>0.16<\/td>\n",
       "      <td>22.0<\/td>\n",
       "    <\/tr>\n",
       "    <tr>\n",
       "      <th>8<\/th>\n",
       "      <td>Village Road<\/td>\n",
       "      <td>1934<\/td>\n",
       "      <td>176<\/td>\n",
       "      <td>0.17<\/td>\n",
       "      <td>18.0<\/td>\n",
       "    <\/tr>\n",
       "    <tr>\n",
       "      <th>9<\/th>\n",
       "      <td>Sunny Crossings<\/td>\n",
       "      <td>1901<\/td>\n",
       "      <td>173<\/td>\n",
       "      <td>0.17<\/td>\n",
       "      <td>30.0<\/td>\n",
       "    <\/tr>\n",
       "    <tr>\n",
       "      <th>10<\/th>\n",
       "      <td>Park Crossings<\/td>\n",
       "      <td>1742<\/td>\n",
       "      <td>158<\/td>\n",
       "      <td>0.19<\/td>\n",
       "      <td>30.0<\/td>\n",
       "    <\/tr>\n",
       "    <tr>\n",
       "      <th>11<\/th>\n",
       "      <td>Sunny Place<\/td>\n",
       "      <td>1726<\/td>\n",
       "      <td>173<\/td>\n",
       "      <td>0.16<\/td>\n",
       "      <td>15.0<\/td>\n",
       "    <\/tr>\n",
       "    <tr>\n",
       "      <th>12<\/th>\n",
       "      <td>Village Hill<\/td>\n",
       "      <td>1685<\/td>\n",
       "      <td>153<\/td>\n",
       "      <td>0.19<\/td>\n",
       "      <td>14.0<\/td>\n",
       "    <\/tr>\n",
       "    <tr>\n",
       "      <th>13<\/th>\n",
       "      <td>Sunny Villages<\/td>\n",
       "      <td>1592<\/td>\n",
       "      <td>145<\/td>\n",
       "      <td>0.20<\/td>\n",
       "      <td>22.0<\/td>\n",
       "    <\/tr>\n",
       "    <tr>\n",
       "      <th>14<\/th>\n",
       "      <td>University Road<\/td>\n",
       "      <td>1569<\/td>\n",
       "      <td>143<\/td>\n",
       "      <td>0.21<\/td>\n",
       "      <td>26.0<\/td>\n",
       "    <\/tr>\n",
       "    <tr>\n",
       "      <th>15<\/th>\n",
       "      <td>University Side<\/td>\n",
       "      <td>1541<\/td>\n",
       "      <td>140<\/td>\n",
       "      <td>0.21<\/td>\n",
       "      <td>33.0<\/td>\n",
       "    <\/tr>\n",
       "    <tr>\n",
       "      <th>16<\/th>\n",
       "      <td>Park Apartments<\/td>\n",
       "      <td>1539<\/td>\n",
       "      <td>140<\/td>\n",
       "      <td>0.21<\/td>\n",
       "      <td>25.0<\/td>\n",
       "    <\/tr>\n",
       "    <tr>\n",
       "      <th>17<\/th>\n",
       "      <td>Village Side<\/td>\n",
       "      <td>1504<\/td>\n",
       "      <td>137<\/td>\n",
       "      <td>0.22<\/td>\n",
       "      <td>25.0<\/td>\n",
       "    <\/tr>\n",
       "    <tr>\n",
       "      <th>18<\/th>\n",
       "      <td>Park Place<\/td>\n",
       "      <td>1489<\/td>\n",
       "      <td>135<\/td>\n",
       "      <td>0.22<\/td>\n",
       "      <td>25.0<\/td>\n",
       "    <\/tr>\n",
       "    <tr>\n",
       "      <th>19<\/th>\n",
       "      <td>Sunny Road<\/td>\n",
       "      <td>1425<\/td>\n",
       "      <td>130<\/td>\n",
       "      <td>0.23<\/td>\n",
       "      <td>110.0<\/td>\n",
       "    <\/tr>\n",
       "    <tr>\n",
       "      <th>20<\/th>\n",
       "      <td>Village Crossings<\/td>\n",
       "      <td>1352<\/td>\n",
       "      <td>123<\/td>\n",
       "      <td>0.24<\/td>\n",
       "      <td>21.0<\/td>\n",
       "    <\/tr>\n",
       "    <tr>\n",
       "      <th>21<\/th>\n",
       "      <td>Park Housing<\/td>\n",
       "      <td>1330<\/td>\n",
       "      <td>121<\/td>\n",
       "      <td>0.25<\/td>\n",
       "      <td>20.0<\/td>\n",
       "    <\/tr>\n",
       "    <tr>\n",
       "      <th>22<\/th>\n",
       "      <td>Village Villages<\/td>\n",
       "      <td>1315<\/td>\n",
       "      <td>120<\/td>\n",
       "      <td>0.25<\/td>\n",
       "      <td>10.0<\/td>\n",
       "    <\/tr>\n",
       "    <tr>\n",
       "      <th>23<\/th>\n",
       "      <td>Sunny Hill<\/td>\n",
       "      <td>1269<\/td>\n",
       "      <td>115<\/td>\n",
       "      <td>0.26<\/td>\n",
       "      <td>23.0<\/td>\n",
       "    <\/tr>\n",
       "    <tr>\n",
       "      <th>24<\/th>\n",
       "      <td>University Hill<\/td>\n",
       "      <td>1202<\/td>\n",
       "      <td>109<\/td>\n",
       "      <td>0.27<\/td>\n",
       "      <td>16.0<\/td>\n",
       "    <\/tr>\n",
       "    <tr>\n",
       "      <th>25<\/th>\n",
       "      <td>University Villages<\/td>\n",
       "      <td>1142<\/td>\n",
       "      <td>104<\/td>\n",
       "      <td>0.27<\/td>\n",
       "      <td>45.0<\/td>\n",
       "    <\/tr>\n",
       "    <tr>\n",
       "      <th>26<\/th>\n",
       "      <td>Palmer Crossings<\/td>\n",
       "      <td>1088<\/td>\n",
       "      <td>99<\/td>\n",
       "      <td>0.30<\/td>\n",
       "      <td>32.0<\/td>\n",
       "    <\/tr>\n",
       "    <tr>\n",
       "      <th>27<\/th>\n",
       "      <td>Campus Villages<\/td>\n",
       "      <td>1028<\/td>\n",
       "      <td>93<\/td>\n",
       "      <td>0.32<\/td>\n",
       "      <td>23.0<\/td>\n",
       "    <\/tr>\n",
       "    <tr>\n",
       "      <th>28<\/th>\n",
       "      <td>University Housing<\/td>\n",
       "      <td>924<\/td>\n",
       "      <td>84<\/td>\n",
       "      <td>0.35<\/td>\n",
       "      <td>24.0<\/td>\n",
       "    <\/tr>\n",
       "    <tr>\n",
       "      <th>29<\/th>\n",
       "      <td>Village Apartments<\/td>\n",
       "      <td>846<\/td>\n",
       "      <td>77<\/td>\n",
       "      <td>0.39<\/td>\n",
       "      <td>95.0<\/td>\n",
       "    <\/tr>\n",
       "    <tr>\n",
       "      <th>30<\/th>\n",
       "      <td>Park Side<\/td>\n",
       "      <td>825<\/td>\n",
       "      <td>75<\/td>\n",
       "      <td>0.40<\/td>\n",
       "      <td>19.0<\/td>\n",
       "    <\/tr>\n",
       "    <tr>\n",
       "      <th>31<\/th>\n",
       "      <td>Campus Hill<\/td>\n",
       "      <td>717<\/td>\n",
       "      <td>65<\/td>\n",
       "      <td>0.45<\/td>\n",
       "      <td>18.0<\/td>\n",
       "    <\/tr>\n",
       "    <tr>\n",
       "      <th>32<\/th>\n",
       "      <td>Palmer Housing<\/td>\n",
       "      <td>707<\/td>\n",
       "      <td>64<\/td>\n",
       "      <td>0.43<\/td>\n",
       "      <td>42.0<\/td>\n",
       "    <\/tr>\n",
       "    <tr>\n",
       "      <th>33<\/th>\n",
       "      <td>Sunny Apartments<\/td>\n",
       "      <td>675<\/td>\n",
       "      <td>61<\/td>\n",
       "      <td>0.49<\/td>\n",
       "      <td>21.0<\/td>\n",
       "    <\/tr>\n",
       "    <tr>\n",
       "      <th>34<\/th>\n",
       "      <td>Palmer Villages<\/td>\n",
       "      <td>526<\/td>\n",
       "      <td>48<\/td>\n",
       "      <td>0.60<\/td>\n",
       "      <td>6.0<\/td>\n",
       "    <\/tr>\n",
       "    <tr>\n",
       "      <th>35<\/th>\n",
       "      <td>Campus Crossings<\/td>\n",
       "      <td>492<\/td>\n",
       "      <td>49<\/td>\n",
       "      <td>0.58<\/td>\n",
       "      <td>12.0<\/td>\n",
       "    <\/tr>\n",
       "    <tr>\n",
       "      <th>36<\/th>\n",
       "      <td>Palmer Hill<\/td>\n",
       "      <td>372<\/td>\n",
       "      <td>34<\/td>\n",
       "      <td>0.89<\/td>\n",
       "      <td>42.0<\/td>\n",
       "    <\/tr>\n",
       "    <tr>\n",
       "      <th>37<\/th>\n",
       "      <td>Campus Apartments<\/td>\n",
       "      <td>211<\/td>\n",
       "      <td>23<\/td>\n",
       "      <td>1.20<\/td>\n",
       "      <td>42.0<\/td>\n",
       "    <\/tr>\n",
       "    <tr>\n",
       "      <th>38<\/th>\n",
       "      <td>Palmer Road<\/td>\n",
       "      <td>152<\/td>\n",
       "      <td>14<\/td>\n",
       "      <td>1.87<\/td>\n",
       "      <td>50.0<\/td>\n",
       "    <\/tr>\n",
       "  <\/tbody>\n",
       "<\/table>\n",
       "<\/div>"
      ]
     },
     "metadata":{
      
     },
     "output_type":"display_data"
    }
   ],
   "metadata":{
    "datalore":{
     "type":"CODE",
     "hide_input_from_viewers":false,
     "hide_output_from_viewers":false,
     "node_id":"0YpZJ0HUdHoFM9JASjDnHj"
    }
   }
  },
  {
   "cell_type":"code",
   "source":[
    "leases = leasing_df.dropna(subset=[\"Lease - Partially Completed\"])\n",
    "pre = set(leases[\"Property\"])\n",
    "# print(leases)\n",
    "print(len(pre))"
   ],
   "execution_count":52,
   "outputs":[
    {
     "name":"stdout",
     "text":[
      "31\n"
     ],
     "output_type":"stream"
    }
   ],
   "metadata":{
    "datalore":{
     "type":"CODE",
     "hide_input_from_viewers":false,
     "hide_output_from_viewers":false,
     "node_id":"E9qILUNZyH3ErUaeJKvPu4"
    }
   }
  },
  {
   "cell_type":"code",
   "source":[
    "df = df[df[\"Property\"].isin(pre)]\n",
    "props_df = set(df[\"Property\"])\n",
    "leases = leases[leases[\"Property\"].isin(props_df)]\n",
    "count_leases = leases[\"Property\"].value_counts().sort_index(ascending=True)\n",
    "lease_status_count = list(count_leases.values)"
   ],
   "execution_count":53,
   "outputs":[
    
   ],
   "metadata":{
    "datalore":{
     "type":"CODE",
     "hide_input_from_viewers":false,
     "hide_output_from_viewers":false,
     "node_id":"Vgk6hBBiYK7W1MXxKAu4zI"
    }
   }
  },
  {
   "cell_type":"code",
   "source":[
    "# Use Groupby() method to analyze application status.\n",
    "# Create a list of all property names sorted alphabetically.\n",
    "ay_21_22_temp = ay_21_22.sort_values(by=\"Property\", ascending=True)\n",
    "\n",
    "df = df.sort_values(by=\"Property\", ascending=True)\n",
    "\n",
    "# Sort by Property name to assure we add the correct key, value pairings in the new dataframe. \n",
    "# df = df.sort_values(by=\"Property\", ascending=True).reset_index(drop=True)\n",
    "df.insert(3, \"Lease Conversions\", lease_status_count)\n",
    "\n",
    "df"
   ],
   "execution_count":54,
   "outputs":[
    {
     "data":{
      "text\/html":[
       "<div>\n",
       "<style scoped>\n",
       "    .dataframe tbody tr th:only-of-type {\n",
       "        vertical-align: middle;\n",
       "    }\n",
       "\n",
       "    .dataframe tbody tr th {\n",
       "        vertical-align: top;\n",
       "    }\n",
       "\n",
       "    .dataframe thead th {\n",
       "        text-align: right;\n",
       "    }\n",
       "<\/style>\n",
       "<table border=\"1\" class=\"dataframe\">\n",
       "  <thead>\n",
       "    <tr style=\"text-align: right;\">\n",
       "      <th><\/th>\n",
       "      <th>Property<\/th>\n",
       "      <th>Total New Leads<\/th>\n",
       "      <th>Leads Per Month<\/th>\n",
       "      <th>Lease Conversions<\/th>\n",
       "      <th>Avg Days between Leads<\/th>\n",
       "      <th>Avg Days till Lease Signed<\/th>\n",
       "    <\/tr>\n",
       "  <\/thead>\n",
       "  <tbody>\n",
       "    <tr>\n",
       "      <th>35<\/th>\n",
       "      <td>Campus Crossings<\/td>\n",
       "      <td>492<\/td>\n",
       "      <td>49<\/td>\n",
       "      <td>239<\/td>\n",
       "      <td>0.58<\/td>\n",
       "      <td>12.0<\/td>\n",
       "    <\/tr>\n",
       "    <tr>\n",
       "      <th>1<\/th>\n",
       "      <td>Campus Housing<\/td>\n",
       "      <td>2873<\/td>\n",
       "      <td>261<\/td>\n",
       "      <td>1305<\/td>\n",
       "      <td>0.11<\/td>\n",
       "      <td>16.0<\/td>\n",
       "    <\/tr>\n",
       "    <tr>\n",
       "      <th>7<\/th>\n",
       "      <td>Palmer Apartments<\/td>\n",
       "      <td>2022<\/td>\n",
       "      <td>184<\/td>\n",
       "      <td>554<\/td>\n",
       "      <td>0.16<\/td>\n",
       "      <td>22.0<\/td>\n",
       "    <\/tr>\n",
       "    <tr>\n",
       "      <th>26<\/th>\n",
       "      <td>Palmer Crossings<\/td>\n",
       "      <td>1088<\/td>\n",
       "      <td>99<\/td>\n",
       "      <td>189<\/td>\n",
       "      <td>0.30<\/td>\n",
       "      <td>32.0<\/td>\n",
       "    <\/tr>\n",
       "    <tr>\n",
       "      <th>36<\/th>\n",
       "      <td>Palmer Hill<\/td>\n",
       "      <td>372<\/td>\n",
       "      <td>34<\/td>\n",
       "      <td>28<\/td>\n",
       "      <td>0.89<\/td>\n",
       "      <td>42.0<\/td>\n",
       "    <\/tr>\n",
       "    <tr>\n",
       "      <th>3<\/th>\n",
       "      <td>Palmer Side<\/td>\n",
       "      <td>2501<\/td>\n",
       "      <td>227<\/td>\n",
       "      <td>808<\/td>\n",
       "      <td>0.12<\/td>\n",
       "      <td>15.0<\/td>\n",
       "    <\/tr>\n",
       "    <tr>\n",
       "      <th>16<\/th>\n",
       "      <td>Park Apartments<\/td>\n",
       "      <td>1539<\/td>\n",
       "      <td>140<\/td>\n",
       "      <td>449<\/td>\n",
       "      <td>0.21<\/td>\n",
       "      <td>25.0<\/td>\n",
       "    <\/tr>\n",
       "    <tr>\n",
       "      <th>10<\/th>\n",
       "      <td>Park Crossings<\/td>\n",
       "      <td>1742<\/td>\n",
       "      <td>158<\/td>\n",
       "      <td>608<\/td>\n",
       "      <td>0.19<\/td>\n",
       "      <td>30.0<\/td>\n",
       "    <\/tr>\n",
       "    <tr>\n",
       "      <th>21<\/th>\n",
       "      <td>Park Housing<\/td>\n",
       "      <td>1330<\/td>\n",
       "      <td>121<\/td>\n",
       "      <td>453<\/td>\n",
       "      <td>0.25<\/td>\n",
       "      <td>20.0<\/td>\n",
       "    <\/tr>\n",
       "    <tr>\n",
       "      <th>18<\/th>\n",
       "      <td>Park Place<\/td>\n",
       "      <td>1489<\/td>\n",
       "      <td>135<\/td>\n",
       "      <td>473<\/td>\n",
       "      <td>0.22<\/td>\n",
       "      <td>25.0<\/td>\n",
       "    <\/tr>\n",
       "    <tr>\n",
       "      <th>2<\/th>\n",
       "      <td>Park Road<\/td>\n",
       "      <td>2797<\/td>\n",
       "      <td>254<\/td>\n",
       "      <td>750<\/td>\n",
       "      <td>0.12<\/td>\n",
       "      <td>33.0<\/td>\n",
       "    <\/tr>\n",
       "    <tr>\n",
       "      <th>30<\/th>\n",
       "      <td>Park Side<\/td>\n",
       "      <td>825<\/td>\n",
       "      <td>75<\/td>\n",
       "      <td>256<\/td>\n",
       "      <td>0.40<\/td>\n",
       "      <td>19.0<\/td>\n",
       "    <\/tr>\n",
       "    <tr>\n",
       "      <th>6<\/th>\n",
       "      <td>Park Villages<\/td>\n",
       "      <td>2032<\/td>\n",
       "      <td>185<\/td>\n",
       "      <td>610<\/td>\n",
       "      <td>0.16<\/td>\n",
       "      <td>16.0<\/td>\n",
       "    <\/tr>\n",
       "    <tr>\n",
       "      <th>33<\/th>\n",
       "      <td>Sunny Apartments<\/td>\n",
       "      <td>675<\/td>\n",
       "      <td>61<\/td>\n",
       "      <td>137<\/td>\n",
       "      <td>0.49<\/td>\n",
       "      <td>21.0<\/td>\n",
       "    <\/tr>\n",
       "    <tr>\n",
       "      <th>9<\/th>\n",
       "      <td>Sunny Crossings<\/td>\n",
       "      <td>1901<\/td>\n",
       "      <td>173<\/td>\n",
       "      <td>830<\/td>\n",
       "      <td>0.17<\/td>\n",
       "      <td>30.0<\/td>\n",
       "    <\/tr>\n",
       "    <tr>\n",
       "      <th>13<\/th>\n",
       "      <td>Sunny Villages<\/td>\n",
       "      <td>1592<\/td>\n",
       "      <td>145<\/td>\n",
       "      <td>421<\/td>\n",
       "      <td>0.20<\/td>\n",
       "      <td>22.0<\/td>\n",
       "    <\/tr>\n",
       "    <tr>\n",
       "      <th>0<\/th>\n",
       "      <td>University Crossings<\/td>\n",
       "      <td>3364<\/td>\n",
       "      <td>306<\/td>\n",
       "      <td>882<\/td>\n",
       "      <td>0.09<\/td>\n",
       "      <td>30.0<\/td>\n",
       "    <\/tr>\n",
       "    <tr>\n",
       "      <th>24<\/th>\n",
       "      <td>University Hill<\/td>\n",
       "      <td>1202<\/td>\n",
       "      <td>109<\/td>\n",
       "      <td>257<\/td>\n",
       "      <td>0.27<\/td>\n",
       "      <td>16.0<\/td>\n",
       "    <\/tr>\n",
       "    <tr>\n",
       "      <th>28<\/th>\n",
       "      <td>University Housing<\/td>\n",
       "      <td>924<\/td>\n",
       "      <td>84<\/td>\n",
       "      <td>420<\/td>\n",
       "      <td>0.35<\/td>\n",
       "      <td>24.0<\/td>\n",
       "    <\/tr>\n",
       "    <tr>\n",
       "      <th>15<\/th>\n",
       "      <td>University Side<\/td>\n",
       "      <td>1541<\/td>\n",
       "      <td>140<\/td>\n",
       "      <td>480<\/td>\n",
       "      <td>0.21<\/td>\n",
       "      <td>33.0<\/td>\n",
       "    <\/tr>\n",
       "    <tr>\n",
       "      <th>20<\/th>\n",
       "      <td>Village Crossings<\/td>\n",
       "      <td>1352<\/td>\n",
       "      <td>123<\/td>\n",
       "      <td>401<\/td>\n",
       "      <td>0.24<\/td>\n",
       "      <td>21.0<\/td>\n",
       "    <\/tr>\n",
       "    <tr>\n",
       "      <th>12<\/th>\n",
       "      <td>Village Hill<\/td>\n",
       "      <td>1685<\/td>\n",
       "      <td>153<\/td>\n",
       "      <td>612<\/td>\n",
       "      <td>0.19<\/td>\n",
       "      <td>14.0<\/td>\n",
       "    <\/tr>\n",
       "    <tr>\n",
       "      <th>4<\/th>\n",
       "      <td>Village Place<\/td>\n",
       "      <td>2269<\/td>\n",
       "      <td>206<\/td>\n",
       "      <td>471<\/td>\n",
       "      <td>0.15<\/td>\n",
       "      <td>68.0<\/td>\n",
       "    <\/tr>\n",
       "    <tr>\n",
       "      <th>8<\/th>\n",
       "      <td>Village Road<\/td>\n",
       "      <td>1934<\/td>\n",
       "      <td>176<\/td>\n",
       "      <td>203<\/td>\n",
       "      <td>0.17<\/td>\n",
       "      <td>18.0<\/td>\n",
       "    <\/tr>\n",
       "    <tr>\n",
       "      <th>17<\/th>\n",
       "      <td>Village Side<\/td>\n",
       "      <td>1504<\/td>\n",
       "      <td>137<\/td>\n",
       "      <td>373<\/td>\n",
       "      <td>0.22<\/td>\n",
       "      <td>25.0<\/td>\n",
       "    <\/tr>\n",
       "    <tr>\n",
       "      <th>22<\/th>\n",
       "      <td>Village Villages<\/td>\n",
       "      <td>1315<\/td>\n",
       "      <td>120<\/td>\n",
       "      <td>198<\/td>\n",
       "      <td>0.25<\/td>\n",
       "      <td>10.0<\/td>\n",
       "    <\/tr>\n",
       "  <\/tbody>\n",
       "<\/table>\n",
       "<\/div>"
      ]
     },
     "metadata":{
      
     },
     "output_type":"display_data"
    }
   ],
   "metadata":{
    "datalore":{
     "type":"CODE",
     "hide_input_from_viewers":false,
     "hide_output_from_viewers":false,
     "node_id":"asAZbM4hoZ73yElw9M67sj"
    }
   }
  },
  {
   "cell_type":"code",
   "source":[
    "# Add Average number of leases started per month.\n",
    "avg_lis = []\n",
    "# List for storing values\n",
    "l3 = []\n",
    "l4 = []\n",
    "for name in df[\"Property\"]:\n",
    "    # Create temporary dataframe with only the data for the current property name\n",
    "    temp = ay_21_22[ay_21_22[\"Property\"] == name].copy()\n",
    "    # Drop any missing dates\n",
    "    temp.dropna(subset=[\"Lease Started\"], inplace=True)\n",
    "    temp[\"Lease Month\"] = [m.month for m in temp[\"Lease Started\"]]\n",
    "    temp[\"Lease Month\"] = temp[\"Lease Month\"].apply(lambda x: calendar.month_abbr[x])\n",
    "    count = temp[\"Lease Month\"].value_counts().values.mean()\n",
    "    top_month = temp[\"Lease Month\"].value_counts().sort_values(ascending=False)\n",
    "    l3.append(top_month.index[0])\n",
    "    l4.append(top_month.index[-1])\n",
    "    # Average leases per month\n",
    "    avg_lis.append((int(round(count, 0))))\n",
    "\n",
    "df[\"Leases Started Per Month\"] = avg_lis\n",
    "df[\"Maximum Lease Starts\"] = l3\n",
    "df[\"Minimum Lease Starts\"] = l4\n",
    "\n",
    "df"
   ],
   "execution_count":55,
   "outputs":[
    {
     "data":{
      "text\/html":[
       "<div>\n",
       "<style scoped>\n",
       "    .dataframe tbody tr th:only-of-type {\n",
       "        vertical-align: middle;\n",
       "    }\n",
       "\n",
       "    .dataframe tbody tr th {\n",
       "        vertical-align: top;\n",
       "    }\n",
       "\n",
       "    .dataframe thead th {\n",
       "        text-align: right;\n",
       "    }\n",
       "<\/style>\n",
       "<table border=\"1\" class=\"dataframe\">\n",
       "  <thead>\n",
       "    <tr style=\"text-align: right;\">\n",
       "      <th><\/th>\n",
       "      <th>Property<\/th>\n",
       "      <th>Total New Leads<\/th>\n",
       "      <th>Leads Per Month<\/th>\n",
       "      <th>Lease Conversions<\/th>\n",
       "      <th>Avg Days between Leads<\/th>\n",
       "      <th>Avg Days till Lease Signed<\/th>\n",
       "      <th>Leases Started Per Month<\/th>\n",
       "      <th>Maximum Lease Starts<\/th>\n",
       "      <th>Minimum Lease Starts<\/th>\n",
       "    <\/tr>\n",
       "  <\/thead>\n",
       "  <tbody>\n",
       "    <tr>\n",
       "      <th>35<\/th>\n",
       "      <td>Campus Crossings<\/td>\n",
       "      <td>492<\/td>\n",
       "      <td>49<\/td>\n",
       "      <td>239<\/td>\n",
       "      <td>0.58<\/td>\n",
       "      <td>12.0<\/td>\n",
       "      <td>27<\/td>\n",
       "      <td>Nov<\/td>\n",
       "      <td>Sep<\/td>\n",
       "    <\/tr>\n",
       "    <tr>\n",
       "      <th>1<\/th>\n",
       "      <td>Campus Housing<\/td>\n",
       "      <td>2873<\/td>\n",
       "      <td>261<\/td>\n",
       "      <td>1305<\/td>\n",
       "      <td>0.11<\/td>\n",
       "      <td>16.0<\/td>\n",
       "      <td>110<\/td>\n",
       "      <td>Oct<\/td>\n",
       "      <td>Jun<\/td>\n",
       "    <\/tr>\n",
       "    <tr>\n",
       "      <th>7<\/th>\n",
       "      <td>Palmer Apartments<\/td>\n",
       "      <td>2022<\/td>\n",
       "      <td>184<\/td>\n",
       "      <td>554<\/td>\n",
       "      <td>0.16<\/td>\n",
       "      <td>22.0<\/td>\n",
       "      <td>55<\/td>\n",
       "      <td>Nov<\/td>\n",
       "      <td>Jun<\/td>\n",
       "    <\/tr>\n",
       "    <tr>\n",
       "      <th>26<\/th>\n",
       "      <td>Palmer Crossings<\/td>\n",
       "      <td>1088<\/td>\n",
       "      <td>99<\/td>\n",
       "      <td>189<\/td>\n",
       "      <td>0.30<\/td>\n",
       "      <td>32.0<\/td>\n",
       "      <td>19<\/td>\n",
       "      <td>Jan<\/td>\n",
       "      <td>Sep<\/td>\n",
       "    <\/tr>\n",
       "    <tr>\n",
       "      <th>36<\/th>\n",
       "      <td>Palmer Hill<\/td>\n",
       "      <td>372<\/td>\n",
       "      <td>34<\/td>\n",
       "      <td>28<\/td>\n",
       "      <td>0.89<\/td>\n",
       "      <td>42.0<\/td>\n",
       "      <td>4<\/td>\n",
       "      <td>May<\/td>\n",
       "      <td>Aug<\/td>\n",
       "    <\/tr>\n",
       "    <tr>\n",
       "      <th>3<\/th>\n",
       "      <td>Palmer Side<\/td>\n",
       "      <td>2501<\/td>\n",
       "      <td>227<\/td>\n",
       "      <td>808<\/td>\n",
       "      <td>0.12<\/td>\n",
       "      <td>15.0<\/td>\n",
       "      <td>87<\/td>\n",
       "      <td>Mar<\/td>\n",
       "      <td>May<\/td>\n",
       "    <\/tr>\n",
       "    <tr>\n",
       "      <th>16<\/th>\n",
       "      <td>Park Apartments<\/td>\n",
       "      <td>1539<\/td>\n",
       "      <td>140<\/td>\n",
       "      <td>449<\/td>\n",
       "      <td>0.21<\/td>\n",
       "      <td>25.0<\/td>\n",
       "      <td>40<\/td>\n",
       "      <td>Jan<\/td>\n",
       "      <td>Aug<\/td>\n",
       "    <\/tr>\n",
       "    <tr>\n",
       "      <th>10<\/th>\n",
       "      <td>Park Crossings<\/td>\n",
       "      <td>1742<\/td>\n",
       "      <td>158<\/td>\n",
       "      <td>608<\/td>\n",
       "      <td>0.19<\/td>\n",
       "      <td>30.0<\/td>\n",
       "      <td>60<\/td>\n",
       "      <td>Dec<\/td>\n",
       "      <td>Sep<\/td>\n",
       "    <\/tr>\n",
       "    <tr>\n",
       "      <th>21<\/th>\n",
       "      <td>Park Housing<\/td>\n",
       "      <td>1330<\/td>\n",
       "      <td>121<\/td>\n",
       "      <td>453<\/td>\n",
       "      <td>0.25<\/td>\n",
       "      <td>20.0<\/td>\n",
       "      <td>47<\/td>\n",
       "      <td>Nov<\/td>\n",
       "      <td>Aug<\/td>\n",
       "    <\/tr>\n",
       "    <tr>\n",
       "      <th>18<\/th>\n",
       "      <td>Park Place<\/td>\n",
       "      <td>1489<\/td>\n",
       "      <td>135<\/td>\n",
       "      <td>473<\/td>\n",
       "      <td>0.22<\/td>\n",
       "      <td>25.0<\/td>\n",
       "      <td>45<\/td>\n",
       "      <td>Oct<\/td>\n",
       "      <td>Aug<\/td>\n",
       "    <\/tr>\n",
       "    <tr>\n",
       "      <th>2<\/th>\n",
       "      <td>Park Road<\/td>\n",
       "      <td>2797<\/td>\n",
       "      <td>254<\/td>\n",
       "      <td>750<\/td>\n",
       "      <td>0.12<\/td>\n",
       "      <td>33.0<\/td>\n",
       "      <td>63<\/td>\n",
       "      <td>Mar<\/td>\n",
       "      <td>Sep<\/td>\n",
       "    <\/tr>\n",
       "    <tr>\n",
       "      <th>30<\/th>\n",
       "      <td>Park Side<\/td>\n",
       "      <td>825<\/td>\n",
       "      <td>75<\/td>\n",
       "      <td>256<\/td>\n",
       "      <td>0.40<\/td>\n",
       "      <td>19.0<\/td>\n",
       "      <td>28<\/td>\n",
       "      <td>Apr<\/td>\n",
       "      <td>Aug<\/td>\n",
       "    <\/tr>\n",
       "    <tr>\n",
       "      <th>6<\/th>\n",
       "      <td>Park Villages<\/td>\n",
       "      <td>2032<\/td>\n",
       "      <td>185<\/td>\n",
       "      <td>610<\/td>\n",
       "      <td>0.16<\/td>\n",
       "      <td>16.0<\/td>\n",
       "      <td>61<\/td>\n",
       "      <td>Nov<\/td>\n",
       "      <td>Sep<\/td>\n",
       "    <\/tr>\n",
       "    <tr>\n",
       "      <th>33<\/th>\n",
       "      <td>Sunny Apartments<\/td>\n",
       "      <td>675<\/td>\n",
       "      <td>61<\/td>\n",
       "      <td>137<\/td>\n",
       "      <td>0.49<\/td>\n",
       "      <td>21.0<\/td>\n",
       "      <td>12<\/td>\n",
       "      <td>May<\/td>\n",
       "      <td>Sep<\/td>\n",
       "    <\/tr>\n",
       "    <tr>\n",
       "      <th>9<\/th>\n",
       "      <td>Sunny Crossings<\/td>\n",
       "      <td>1901<\/td>\n",
       "      <td>173<\/td>\n",
       "      <td>830<\/td>\n",
       "      <td>0.17<\/td>\n",
       "      <td>30.0<\/td>\n",
       "      <td>71<\/td>\n",
       "      <td>Nov<\/td>\n",
       "      <td>Aug<\/td>\n",
       "    <\/tr>\n",
       "    <tr>\n",
       "      <th>13<\/th>\n",
       "      <td>Sunny Villages<\/td>\n",
       "      <td>1592<\/td>\n",
       "      <td>145<\/td>\n",
       "      <td>421<\/td>\n",
       "      <td>0.20<\/td>\n",
       "      <td>22.0<\/td>\n",
       "      <td>33<\/td>\n",
       "      <td>Apr<\/td>\n",
       "      <td>Sep<\/td>\n",
       "    <\/tr>\n",
       "    <tr>\n",
       "      <th>0<\/th>\n",
       "      <td>University Crossings<\/td>\n",
       "      <td>3364<\/td>\n",
       "      <td>306<\/td>\n",
       "      <td>882<\/td>\n",
       "      <td>0.09<\/td>\n",
       "      <td>30.0<\/td>\n",
       "      <td>84<\/td>\n",
       "      <td>May<\/td>\n",
       "      <td>Aug<\/td>\n",
       "    <\/tr>\n",
       "    <tr>\n",
       "      <th>24<\/th>\n",
       "      <td>University Hill<\/td>\n",
       "      <td>1202<\/td>\n",
       "      <td>109<\/td>\n",
       "      <td>257<\/td>\n",
       "      <td>0.27<\/td>\n",
       "      <td>16.0<\/td>\n",
       "      <td>38<\/td>\n",
       "      <td>Jun<\/td>\n",
       "      <td>Oct<\/td>\n",
       "    <\/tr>\n",
       "    <tr>\n",
       "      <th>28<\/th>\n",
       "      <td>University Housing<\/td>\n",
       "      <td>924<\/td>\n",
       "      <td>84<\/td>\n",
       "      <td>420<\/td>\n",
       "      <td>0.35<\/td>\n",
       "      <td>24.0<\/td>\n",
       "      <td>31<\/td>\n",
       "      <td>Nov<\/td>\n",
       "      <td>Jun<\/td>\n",
       "    <\/tr>\n",
       "    <tr>\n",
       "      <th>15<\/th>\n",
       "      <td>University Side<\/td>\n",
       "      <td>1541<\/td>\n",
       "      <td>140<\/td>\n",
       "      <td>480<\/td>\n",
       "      <td>0.21<\/td>\n",
       "      <td>33.0<\/td>\n",
       "      <td>53<\/td>\n",
       "      <td>Nov<\/td>\n",
       "      <td>Jun<\/td>\n",
       "    <\/tr>\n",
       "    <tr>\n",
       "      <th>20<\/th>\n",
       "      <td>Village Crossings<\/td>\n",
       "      <td>1352<\/td>\n",
       "      <td>123<\/td>\n",
       "      <td>401<\/td>\n",
       "      <td>0.24<\/td>\n",
       "      <td>21.0<\/td>\n",
       "      <td>35<\/td>\n",
       "      <td>Mar<\/td>\n",
       "      <td>Aug<\/td>\n",
       "    <\/tr>\n",
       "    <tr>\n",
       "      <th>12<\/th>\n",
       "      <td>Village Hill<\/td>\n",
       "      <td>1685<\/td>\n",
       "      <td>153<\/td>\n",
       "      <td>612<\/td>\n",
       "      <td>0.19<\/td>\n",
       "      <td>14.0<\/td>\n",
       "      <td>52<\/td>\n",
       "      <td>Sep<\/td>\n",
       "      <td>Feb<\/td>\n",
       "    <\/tr>\n",
       "    <tr>\n",
       "      <th>4<\/th>\n",
       "      <td>Village Place<\/td>\n",
       "      <td>2269<\/td>\n",
       "      <td>206<\/td>\n",
       "      <td>471<\/td>\n",
       "      <td>0.15<\/td>\n",
       "      <td>68.0<\/td>\n",
       "      <td>42<\/td>\n",
       "      <td>Nov<\/td>\n",
       "      <td>Aug<\/td>\n",
       "    <\/tr>\n",
       "    <tr>\n",
       "      <th>8<\/th>\n",
       "      <td>Village Road<\/td>\n",
       "      <td>1934<\/td>\n",
       "      <td>176<\/td>\n",
       "      <td>203<\/td>\n",
       "      <td>0.17<\/td>\n",
       "      <td>18.0<\/td>\n",
       "      <td>20<\/td>\n",
       "      <td>Aug<\/td>\n",
       "      <td>Oct<\/td>\n",
       "    <\/tr>\n",
       "    <tr>\n",
       "      <th>17<\/th>\n",
       "      <td>Village Side<\/td>\n",
       "      <td>1504<\/td>\n",
       "      <td>137<\/td>\n",
       "      <td>373<\/td>\n",
       "      <td>0.22<\/td>\n",
       "      <td>25.0<\/td>\n",
       "      <td>32<\/td>\n",
       "      <td>Mar<\/td>\n",
       "      <td>Oct<\/td>\n",
       "    <\/tr>\n",
       "    <tr>\n",
       "      <th>22<\/th>\n",
       "      <td>Village Villages<\/td>\n",
       "      <td>1315<\/td>\n",
       "      <td>120<\/td>\n",
       "      <td>198<\/td>\n",
       "      <td>0.25<\/td>\n",
       "      <td>10.0<\/td>\n",
       "      <td>35<\/td>\n",
       "      <td>Jan<\/td>\n",
       "      <td>Aug<\/td>\n",
       "    <\/tr>\n",
       "  <\/tbody>\n",
       "<\/table>\n",
       "<\/div>"
      ]
     },
     "metadata":{
      
     },
     "output_type":"display_data"
    }
   ],
   "metadata":{
    "datalore":{
     "type":"CODE",
     "hide_input_from_viewers":false,
     "hide_output_from_viewers":false,
     "node_id":"3Fsum7eKVfgMBhvNTnKHU7"
    }
   }
  },
  {
   "cell_type":"code",
   "source":[
    "conversion_rate = (round((df[\"Lease Conversions\"] \/ df[\"Total New Leads\"]) *100, 1))\n",
    "df[\"Conversion Rate %\"] = conversion_rate\n",
    "\n",
    "ay_21_22.to_csv(\"Reformatted Resident Data.csv\")\n",
    "df.to_csv(\"Property Metrics.csv\")"
   ],
   "execution_count":56,
   "outputs":[
    
   ],
   "metadata":{
    "datalore":{
     "type":"CODE",
     "hide_input_from_viewers":false,
     "hide_output_from_viewers":false,
     "node_id":"b8O8X0mFYAZQY71oHoWTDF"
    }
   }
  },
  {
   "cell_type":"code",
   "source":[
    "from lets_plot import * \n",
    "ggplot()\n",
    "from lets_plot.bistro import corr\n",
    "corr.corr_plot(df).points().build() + ggsize(500, 370) + \\\n",
    "ggtitle(\"Correlation Plot\")  + \\\n",
    "ggsize(700, 500)"
   ],
   "execution_count":57,
   "outputs":[
    {
     "data":{
      "text\/html":[
       "<html lang=\"en\">\n",
       "   <head>\n",
       "       <script type=\"text\/javascript\" data-lets-plot-script=\"library\" src=\"https:\/\/cdn.jsdelivr.net\/gh\/JetBrains\/lets-plot@v2.4.0\/js-package\/distr\/lets-plot.min.js\"><\/script>\n",
       "   <\/head>\n",
       "   <body>\n",
       "          <div id=\"CTdAOy\"><\/div>\n",
       "   <script type=\"text\/javascript\" data-lets-plot-script=\"plot\">\n",
       "       var plotSpec={\n",
       "\"data\":{\n",
       "},\n",
       "\"ggsize\":{\n",
       "\"width\":700,\n",
       "\"height\":500\n",
       "},\n",
       "\"ggtitle\":{\n",
       "\"text\":\"Correlation Plot\"\n",
       "},\n",
       "\"kind\":\"plot\",\n",
       "\"scales\":[{\n",
       "\"aesthetic\":\"size\",\n",
       "\"scale_mapper_kind\":\"identity\",\n",
       "\"na_value\":0,\n",
       "\"guide\":\"none\"\n",
       "},{\n",
       "\"aesthetic\":\"x\",\n",
       "\"discrete\":true,\n",
       "\"breaks\":[\"Total New Leads\",\"Leads Per Month\",\"Lease Conversions\",\"Avg Days between Leads\",\"Avg Days till Lease Signed\",\"Leases Started Per Month\",\"Conversion Rate %\"],\n",
       "\"limits\":[\"Total New Leads\",\"Leads Per Month\",\"Lease Conversions\",\"Avg Days between Leads\",\"Avg Days till Lease Signed\",\"Leases Started Per Month\",\"Conversion Rate %\"],\n",
       "\"expand\":[0.0,0.0]\n",
       "},{\n",
       "\"aesthetic\":\"y\",\n",
       "\"discrete\":true,\n",
       "\"breaks\":[\"Total New Leads\",\"Leads Per Month\",\"Lease Conversions\",\"Avg Days between Leads\",\"Avg Days till Lease Signed\",\"Leases Started Per Month\",\"Conversion Rate %\"],\n",
       "\"limits\":[\"Conversion Rate %\",\"Leases Started Per Month\",\"Avg Days till Lease Signed\",\"Avg Days between Leads\",\"Lease Conversions\",\"Leads Per Month\",\"Total New Leads\"],\n",
       "\"expand\":[0.0,0.0]\n",
       "},{\n",
       "\"aesthetic\":\"color\",\n",
       "\"name\":\"\",\n",
       "\"breaks\":[-1.0,-0.5,0.0,0.5,1.0],\n",
       "\"limits\":[-1.0,1.0],\n",
       "\"na_value\":\"rgba(0,0,0,0)\",\n",
       "\"scale_mapper_kind\":\"color_gradient2\",\n",
       "\"low\":\"#B3412C\",\n",
       "\"mid\":\"#EDEDED\",\n",
       "\"high\":\"#326C81\"\n",
       "},{\n",
       "\"aesthetic\":\"fill\",\n",
       "\"name\":\"\",\n",
       "\"breaks\":[-1.0,-0.5,0.0,0.5,1.0],\n",
       "\"limits\":[-1.0,1.0],\n",
       "\"na_value\":\"rgba(0,0,0,0)\",\n",
       "\"scale_mapper_kind\":\"color_gradient2\",\n",
       "\"low\":\"#B3412C\",\n",
       "\"mid\":\"#EDEDED\",\n",
       "\"high\":\"#326C81\"\n",
       "}],\n",
       "\"layers\":[{\n",
       "\"na_text\":\"\",\n",
       "\"label_format\":\".2f\",\n",
       "\"show_legend\":true,\n",
       "\"tooltips\":{\n",
       "\"tooltip_lines\":[\"@corr\"],\n",
       "\"tooltip_formats\":[{\n",
       "\"field\":\"@corr\",\n",
       "\"format\":\".2f\"\n",
       "}]\n",
       "},\n",
       "\"sampling\":{\n",
       "\"name\":\"none\"\n",
       "},\n",
       "\"geom\":\"point\",\n",
       "\"data\":{\n",
       "\"x\":[\"Total New Leads\",\"Total New Leads\",\"Total New Leads\",\"Total New Leads\",\"Total New Leads\",\"Total New Leads\",\"Total New Leads\",\"Leads Per Month\",\"Leads Per Month\",\"Leads Per Month\",\"Leads Per Month\",\"Leads Per Month\",\"Leads Per Month\",\"Leads Per Month\",\"Lease Conversions\",\"Lease Conversions\",\"Lease Conversions\",\"Lease Conversions\",\"Lease Conversions\",\"Lease Conversions\",\"Lease Conversions\",\"Avg Days between Leads\",\"Avg Days between Leads\",\"Avg Days between Leads\",\"Avg Days between Leads\",\"Avg Days between Leads\",\"Avg Days between Leads\",\"Avg Days between Leads\",\"Avg Days till Lease Signed\",\"Avg Days till Lease Signed\",\"Avg Days till Lease Signed\",\"Avg Days till Lease Signed\",\"Avg Days till Lease Signed\",\"Avg Days till Lease Signed\",\"Avg Days till Lease Signed\",\"Leases Started Per Month\",\"Leases Started Per Month\",\"Leases Started Per Month\",\"Leases Started Per Month\",\"Leases Started Per Month\",\"Leases Started Per Month\",\"Leases Started Per Month\",\"Conversion Rate %\",\"Conversion Rate %\",\"Conversion Rate %\",\"Conversion Rate %\",\"Conversion Rate %\",\"Conversion Rate %\",\"Conversion Rate %\"],\n",
       "\"y\":[\"Total New Leads\",\"Leads Per Month\",\"Lease Conversions\",\"Avg Days between Leads\",\"Avg Days till Lease Signed\",\"Leases Started Per Month\",\"Conversion Rate %\",\"Total New Leads\",\"Leads Per Month\",\"Lease Conversions\",\"Avg Days between Leads\",\"Avg Days till Lease Signed\",\"Leases Started Per Month\",\"Conversion Rate %\",\"Total New Leads\",\"Leads Per Month\",\"Lease Conversions\",\"Avg Days between Leads\",\"Avg Days till Lease Signed\",\"Leases Started Per Month\",\"Conversion Rate %\",\"Total New Leads\",\"Leads Per Month\",\"Lease Conversions\",\"Avg Days between Leads\",\"Avg Days till Lease Signed\",\"Leases Started Per Month\",\"Conversion Rate %\",\"Total New Leads\",\"Leads Per Month\",\"Lease Conversions\",\"Avg Days between Leads\",\"Avg Days till Lease Signed\",\"Leases Started Per Month\",\"Conversion Rate %\",\"Total New Leads\",\"Leads Per Month\",\"Lease Conversions\",\"Avg Days between Leads\",\"Avg Days till Lease Signed\",\"Leases Started Per Month\",\"Conversion Rate %\",\"Total New Leads\",\"Leads Per Month\",\"Lease Conversions\",\"Avg Days between Leads\",\"Avg Days till Lease Signed\",\"Leases Started Per Month\",\"Conversion Rate %\"],\n",
       "\"corr\":[1.0,0.9999224246486907,0.8277731576260058,-0.8030081993299798,0.13870813831002748,0.8311807035232913,0.11597071894007757,0.9999224246486907,1.0,0.8283453894073189,-0.8013713537856252,0.13587367814651383,0.8319874410177629,0.12059340100232742,0.8277731576260058,0.8283453894073189,1.0,-0.6627149324798364,-0.029649128653093663,0.9666189220259742,0.5680755311689423,-0.8030081993299798,-0.8013713537856252,-0.6627149324798364,1.0,0.0552674020206151,-0.6821352196065136,-0.21724194394203825,0.13870813831002748,0.13587367814651383,-0.029649128653093663,0.0552674020206151,1.0,-0.10102234871298538,-0.27979070299838665,0.8311807035232913,0.8319874410177629,0.9666189220259742,-0.6821352196065136,-0.10102234871298538,1.0,0.5153396614845291,0.11597071894007757,0.12059340100232742,0.5680755311689423,-0.21724194394203825,-0.27979070299838665,0.5153396614845291,1.0],\n",
       "\"corr_abs\":[1.0,0.9999224246486907,0.8277731576260058,0.8030081993299798,0.13870813831002748,0.8311807035232913,0.11597071894007757,0.9999224246486907,1.0,0.8283453894073189,0.8013713537856252,0.13587367814651383,0.8319874410177629,0.12059340100232742,0.8277731576260058,0.8283453894073189,1.0,0.6627149324798364,0.029649128653093663,0.9666189220259742,0.5680755311689423,0.8030081993299798,0.8013713537856252,0.6627149324798364,1.0,0.0552674020206151,0.6821352196065136,0.21724194394203825,0.13870813831002748,0.13587367814651383,0.029649128653093663,0.0552674020206151,1.0,0.10102234871298538,0.27979070299838665,0.8311807035232913,0.8319874410177629,0.9666189220259742,0.6821352196065136,0.10102234871298538,1.0,0.5153396614845291,0.11597071894007757,0.12059340100232742,0.5680755311689423,0.21724194394203825,0.27979070299838665,0.5153396614845291,1.0]\n",
       "},\n",
       "\"mapping\":{\n",
       "\"x\":\"x\",\n",
       "\"y\":\"y\",\n",
       "\"size\":\"corr_abs\",\n",
       "\"color\":\"corr\"\n",
       "},\n",
       "\"size_unit\":\"x\"\n",
       "}],\n",
       "\"coord\":{\n",
       "\"name\":\"fixed\",\n",
       "\"xlim\":[-0.6,6.6],\n",
       "\"ylim\":[-0.6,6.6]\n",
       "},\n",
       "\"theme\":{\n",
       "\"axis_title\":{\n",
       "\"blank\":true\n",
       "},\n",
       "\"axis_line\":{\n",
       "\"blank\":true\n",
       "},\n",
       "\"panel_grid\":{\n",
       "\"blank\":true\n",
       "},\n",
       "\"axis_ticks_x\":{\n",
       "\"blank\":false\n",
       "},\n",
       "\"axis_ticks_y\":{\n",
       "\"blank\":false\n",
       "}\n",
       "},\n",
       "\"mapping\":{\n",
       "}\n",
       "};\n",
       "       var plotContainer = document.getElementById(\"CTdAOy\");\n",
       "       LetsPlot.buildPlotFromProcessedSpecs(plotSpec, -1, -1, plotContainer);\n",
       "   <\/script>\n",
       "   <\/body>\n",
       "<\/html>"
      ]
     },
     "metadata":{
      
     },
     "output_type":"display_data"
    }
   ],
   "metadata":{
    "datalore":{
     "type":"PLOT",
     "hide_input_from_viewers":false,
     "hide_output_from_viewers":false,
     "node_id":"XG5p2P3Dn85RTgEpMAtIqE",
     "plot_state":{
      "label":"Correlation Plot",
      "width":700,
      "height":500,
      "sampling":true,
      "reactive":true,
      "plots":[
       {
        "type":"CORRELATION",
        "variable":"df",
        "xAxis":{
         "label":"",
         "value":"Lease Approvals",
         "scale":"NONE"
        },
        "yAxis":{
         "label":"",
         "value":"Conversion Rate %",
         "scale":"NONE"
        },
        "colorAxis":{
         "label":"",
         "value":"Property",
         "scale":"NONE"
        }
       }
      ]
     }
    }
   }
  },
  {
   "cell_type":"markdown",
   "source":[
    "# Encryption"
   ],
   "attachments":{
    
   },
   "metadata":{
    "datalore":{
     "type":"MD",
     "hide_input_from_viewers":false,
     "hide_output_from_viewers":false,
     "sheet_delimiter":true
    }
   }
  },
  {
   "cell_type":"markdown",
   "source":[
    "## This sheet is used to modify the names of the properties in each file in order to maintain confidentiality. "
   ],
   "attachments":{
    
   },
   "metadata":{
    "datalore":{
     "type":"MD",
     "hide_input_from_viewers":true,
     "hide_output_from_viewers":false,
     "node_id":"921GVkXqsFRBUnlNfZxLqx"
    }
   }
  },
  {
   "cell_type":"code",
   "source":[
    "import pandas as pd\n",
    "import numpy as np\n",
    "import openpyxl\n",
    "import random"
   ],
   "execution_count":2,
   "outputs":[
    
   ],
   "metadata":{
    "datalore":{
     "type":"CODE",
     "hide_input_from_viewers":true,
     "hide_output_from_viewers":false,
     "node_id":"24VXq8snSnHK0dMr1YyU2U"
    }
   }
  },
  {
   "cell_type":"code",
   "source":[
    "resData = pd.read_csv(\"Resident Data.csv\",parse_dates=[\"New Lead Created On\",\"Application Started\",\"Application Completed\",\n",
    "                     \"Application Approved\",\"Lease Started\",\"Lease Completed\",\"Lease Approved\"], \n",
    "                     dtype={\"Specials\":\"string\", \"Close Reason (Lead)\": \"string\", \"Primary Address - Postal Code\":\"string\"})\n",
    "preLease = pd.read_csv(\"Leasing Data.csv\")"
   ],
   "execution_count":3,
   "outputs":[
    
   ],
   "metadata":{
    "datalore":{
     "type":"CODE",
     "hide_input_from_viewers":true,
     "hide_output_from_viewers":false,
     "node_id":"aMY4KDGNOq7RGXncXBCHvW"
    }
   }
  },
  {
   "cell_type":"code",
   "source":[
    "# For privacy purposes, I will replace each Property name with a new randomly generated name. \n",
    "l1 = [\"Sunny\", \"Park\", \"Palmer\", \"Campus\", \"Village\", \"University\"]\n",
    "l2 = [\"Hill\", \"Side\", \"Housing\", \"Place\", \"Villages\", \"Crossings\", \"Road\", \"Housing\", \"Apartments\"]\n",
    "\n",
    "# Get set of unique property names in each file. \n",
    "propsPre = set(preLease[\"Property\"])\n",
    "propsRes = set(resData[\"Property\"])\n",
    "both = propsPre.union(propsRes)\n",
    "\n",
    "lis = []\n",
    "for i in both:\n",
    "    find = False\n",
    "    random.seed(5)\n",
    "    # Iterate over l1 and l2 until an original property name is randomly generated. \n",
    "    while find != True:\n",
    "        num = random.choice(l1) + \" \" + random.choice(l2)\n",
    "        # If the name does not exist yet, add it to the list for future checking\n",
    "        if num not in lis:\n",
    "            lis.append(num)\n",
    "            find = True\n",
    "    # Find all occurences of that property name and replace it with the randomly generated one. \n",
    "    resData[\"Property\"] = resData[\"Property\"].replace(i, num)\n",
    "    preLease[\"Property\"] = preLease[\"Property\"].replace(i, num)\n",
    "\n",
    "res = set(resData[\"Property\"])\n",
    "pre = set(preLease[\"Property\"])\n",
    "final = res.union(pre)"
   ],
   "execution_count":4,
   "outputs":[
    
   ],
   "metadata":{
    "datalore":{
     "type":"CODE",
     "hide_input_from_viewers":true,
     "hide_output_from_viewers":false,
     "node_id":"GYXTrbOmQX2zhJ0eZtsNzV"
    }
   }
  },
  {
   "cell_type":"code",
   "source":[
    "resData.to_csv(\"Resident Data 2.csv\")\n",
    "preLease.to_csv(\"Leasing Data 2.csv\")"
   ],
   "execution_count":61,
   "outputs":[
    
   ],
   "metadata":{
    "datalore":{
     "type":"CODE",
     "hide_input_from_viewers":true,
     "hide_output_from_viewers":false,
     "node_id":"k7oD3LfbI3Oa3Qo5ZtjUki"
    }
   }
  }
 ],
 "metadata":{
  "kernelspec":{
   "display_name":"Python",
   "language":"python",
   "name":"python"
  },
  "datalore":{
   "version":1,
   "computation_mode":"JUPYTER",
   "package_manager":"pip",
   "base_environment":"default",
   "packages":[
    {
     "name":"openpyxl",
     "version":"3.2.0b1",
     "source":"PIP"
    }
   ]
  }
 },
 "nbformat":4,
 "nbformat_minor":4
}